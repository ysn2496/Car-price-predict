{
 "cells": [
  {
   "cell_type": "code",
   "execution_count": 170,
   "metadata": {},
   "outputs": [
    {
     "name": "stdout",
     "output_type": "stream",
     "text": [
      "Requirement already satisfied: pandas in c:\\users\\admin\\appdata\\local\\programs\\python\\python312\\lib\\site-packages (2.2.2)\n",
      "Requirement already satisfied: numpy>=1.26.0 in c:\\users\\admin\\appdata\\local\\programs\\python\\python312\\lib\\site-packages (from pandas) (1.26.4)\n",
      "Requirement already satisfied: python-dateutil>=2.8.2 in c:\\users\\admin\\appdata\\roaming\\python\\python312\\site-packages (from pandas) (2.9.0.post0)\n",
      "Requirement already satisfied: pytz>=2020.1 in c:\\users\\admin\\appdata\\local\\programs\\python\\python312\\lib\\site-packages (from pandas) (2024.1)\n",
      "Requirement already satisfied: tzdata>=2022.7 in c:\\users\\admin\\appdata\\local\\programs\\python\\python312\\lib\\site-packages (from pandas) (2024.1)\n",
      "Requirement already satisfied: six>=1.5 in c:\\users\\admin\\appdata\\roaming\\python\\python312\\site-packages (from python-dateutil>=2.8.2->pandas) (1.16.0)\n"
     ]
    },
    {
     "name": "stderr",
     "output_type": "stream",
     "text": [
      "\n",
      "[notice] A new release of pip is available: 24.0 -> 24.2\n",
      "[notice] To update, run: python.exe -m pip install --upgrade pip\n"
     ]
    }
   ],
   "source": [
    "!pip install pandas"
   ]
  },
  {
   "cell_type": "code",
   "execution_count": 171,
   "metadata": {},
   "outputs": [
    {
     "name": "stderr",
     "output_type": "stream",
     "text": [
      "C:\\Users\\ADMIN\\AppData\\Local\\Temp\\ipykernel_19936\\2496759887.py:15: DtypeWarning: Columns (13,148,149,150,151,152,153,154,155,156,157,158,159,160,161,162,163,164,165,166,168,169,170,171,172,173,225,226,227,228,229,230,231) have mixed types. Specify dtype option on import or set low_memory=False.\n",
      "  df = pd.read_csv(filepath)\n"
     ]
    }
   ],
   "source": [
    "import pandas as pd\n",
    "import os\n",
    "\n",
    "# Directory containing your CSV files\n",
    "directory = '.'\n",
    "\n",
    "# List to store DataFrames\n",
    "dfs = []\n",
    "\n",
    "# Iterate through all files in the directory\n",
    "for filename in os.listdir(directory):\n",
    "    if filename.endswith(\".csv\"):\n",
    "        filepath = os.path.join(directory, filename)\n",
    "        # Read the CSV file and append to the list\n",
    "        df = pd.read_csv(filepath)\n",
    "        dfs.append(df)\n",
    "\n",
    "# Concatenate all DataFrames in the list into a single DataFrame\n",
    "merged_df = pd.concat(dfs, ignore_index=True)\n",
    "\n",
    "\n",
    "\n",
    "\n"
   ]
  },
  {
   "cell_type": "code",
   "execution_count": 172,
   "metadata": {},
   "outputs": [
    {
     "data": {
      "text/html": [
       "<div>\n",
       "<style scoped>\n",
       "    .dataframe tbody tr th:only-of-type {\n",
       "        vertical-align: middle;\n",
       "    }\n",
       "\n",
       "    .dataframe tbody tr th {\n",
       "        vertical-align: top;\n",
       "    }\n",
       "\n",
       "    .dataframe thead th {\n",
       "        text-align: right;\n",
       "    }\n",
       "</style>\n",
       "<table border=\"1\" class=\"dataframe\">\n",
       "  <thead>\n",
       "    <tr style=\"text-align: right;\">\n",
       "      <th></th>\n",
       "      <th>it</th>\n",
       "      <th>ft</th>\n",
       "      <th>bt</th>\n",
       "      <th>km</th>\n",
       "      <th>transmission</th>\n",
       "      <th>ownerNo</th>\n",
       "      <th>owner</th>\n",
       "      <th>oem</th>\n",
       "      <th>model</th>\n",
       "      <th>modelYear</th>\n",
       "      <th>...</th>\n",
       "      <th>Alloy Wheel Size</th>\n",
       "      <th>Ground Clearance Unladen</th>\n",
       "      <th>city</th>\n",
       "      <th>Interior_Interior_Feature 17</th>\n",
       "      <th>Interior_Interior_Feature 18</th>\n",
       "      <th>Comfort &amp; Convenience_Comfort_Feature 36</th>\n",
       "      <th>Comfort &amp; Convenience_Comfort_Feature 37</th>\n",
       "      <th>Safety_Safety_Feature 46</th>\n",
       "      <th>Safety_Safety_Feature 47</th>\n",
       "      <th>Safety_Safety_Feature 48</th>\n",
       "    </tr>\n",
       "  </thead>\n",
       "  <tbody>\n",
       "    <tr>\n",
       "      <th>0</th>\n",
       "      <td>0</td>\n",
       "      <td>Petrol</td>\n",
       "      <td>Hatchback</td>\n",
       "      <td>1,20,000</td>\n",
       "      <td>Manual</td>\n",
       "      <td>3</td>\n",
       "      <td>3rd Owner</td>\n",
       "      <td>Maruti</td>\n",
       "      <td>Maruti Celerio</td>\n",
       "      <td>2015</td>\n",
       "      <td>...</td>\n",
       "      <td>NaN</td>\n",
       "      <td>NaN</td>\n",
       "      <td>Bangalore</td>\n",
       "      <td>NaN</td>\n",
       "      <td>NaN</td>\n",
       "      <td>NaN</td>\n",
       "      <td>NaN</td>\n",
       "      <td>NaN</td>\n",
       "      <td>NaN</td>\n",
       "      <td>NaN</td>\n",
       "    </tr>\n",
       "    <tr>\n",
       "      <th>1</th>\n",
       "      <td>0</td>\n",
       "      <td>Petrol</td>\n",
       "      <td>SUV</td>\n",
       "      <td>32,706</td>\n",
       "      <td>Manual</td>\n",
       "      <td>2</td>\n",
       "      <td>2nd Owner</td>\n",
       "      <td>Ford</td>\n",
       "      <td>Ford Ecosport</td>\n",
       "      <td>2018</td>\n",
       "      <td>...</td>\n",
       "      <td>16</td>\n",
       "      <td>NaN</td>\n",
       "      <td>Bangalore</td>\n",
       "      <td>NaN</td>\n",
       "      <td>NaN</td>\n",
       "      <td>NaN</td>\n",
       "      <td>NaN</td>\n",
       "      <td>NaN</td>\n",
       "      <td>NaN</td>\n",
       "      <td>NaN</td>\n",
       "    </tr>\n",
       "    <tr>\n",
       "      <th>2</th>\n",
       "      <td>0</td>\n",
       "      <td>Petrol</td>\n",
       "      <td>Hatchback</td>\n",
       "      <td>11,949</td>\n",
       "      <td>Manual</td>\n",
       "      <td>1</td>\n",
       "      <td>1st Owner</td>\n",
       "      <td>Tata</td>\n",
       "      <td>Tata Tiago</td>\n",
       "      <td>2018</td>\n",
       "      <td>...</td>\n",
       "      <td>14</td>\n",
       "      <td>NaN</td>\n",
       "      <td>Bangalore</td>\n",
       "      <td>NaN</td>\n",
       "      <td>NaN</td>\n",
       "      <td>NaN</td>\n",
       "      <td>NaN</td>\n",
       "      <td>NaN</td>\n",
       "      <td>NaN</td>\n",
       "      <td>NaN</td>\n",
       "    </tr>\n",
       "    <tr>\n",
       "      <th>3</th>\n",
       "      <td>0</td>\n",
       "      <td>Petrol</td>\n",
       "      <td>Sedan</td>\n",
       "      <td>17,794</td>\n",
       "      <td>Manual</td>\n",
       "      <td>1</td>\n",
       "      <td>1st Owner</td>\n",
       "      <td>Hyundai</td>\n",
       "      <td>Hyundai Xcent</td>\n",
       "      <td>2014</td>\n",
       "      <td>...</td>\n",
       "      <td>14</td>\n",
       "      <td>NaN</td>\n",
       "      <td>Bangalore</td>\n",
       "      <td>NaN</td>\n",
       "      <td>NaN</td>\n",
       "      <td>NaN</td>\n",
       "      <td>NaN</td>\n",
       "      <td>NaN</td>\n",
       "      <td>NaN</td>\n",
       "      <td>NaN</td>\n",
       "    </tr>\n",
       "    <tr>\n",
       "      <th>4</th>\n",
       "      <td>0</td>\n",
       "      <td>Diesel</td>\n",
       "      <td>SUV</td>\n",
       "      <td>60,000</td>\n",
       "      <td>Manual</td>\n",
       "      <td>1</td>\n",
       "      <td>1st Owner</td>\n",
       "      <td>Maruti</td>\n",
       "      <td>Maruti SX4 S Cross</td>\n",
       "      <td>2015</td>\n",
       "      <td>...</td>\n",
       "      <td>16</td>\n",
       "      <td>NaN</td>\n",
       "      <td>Bangalore</td>\n",
       "      <td>NaN</td>\n",
       "      <td>NaN</td>\n",
       "      <td>NaN</td>\n",
       "      <td>NaN</td>\n",
       "      <td>NaN</td>\n",
       "      <td>NaN</td>\n",
       "      <td>NaN</td>\n",
       "    </tr>\n",
       "    <tr>\n",
       "      <th>...</th>\n",
       "      <td>...</td>\n",
       "      <td>...</td>\n",
       "      <td>...</td>\n",
       "      <td>...</td>\n",
       "      <td>...</td>\n",
       "      <td>...</td>\n",
       "      <td>...</td>\n",
       "      <td>...</td>\n",
       "      <td>...</td>\n",
       "      <td>...</td>\n",
       "      <td>...</td>\n",
       "      <td>...</td>\n",
       "      <td>...</td>\n",
       "      <td>...</td>\n",
       "      <td>...</td>\n",
       "      <td>...</td>\n",
       "      <td>...</td>\n",
       "      <td>...</td>\n",
       "      <td>...</td>\n",
       "      <td>...</td>\n",
       "      <td>...</td>\n",
       "    </tr>\n",
       "    <tr>\n",
       "      <th>25102</th>\n",
       "      <td>0</td>\n",
       "      <td>Petrol</td>\n",
       "      <td>Hatchback</td>\n",
       "      <td>10,000</td>\n",
       "      <td>Manual</td>\n",
       "      <td>1</td>\n",
       "      <td>1st Owner</td>\n",
       "      <td>Maruti</td>\n",
       "      <td>Maruti Celerio</td>\n",
       "      <td>2022</td>\n",
       "      <td>...</td>\n",
       "      <td>NaN</td>\n",
       "      <td>NaN</td>\n",
       "      <td>Kolkata</td>\n",
       "      <td>NaN</td>\n",
       "      <td>NaN</td>\n",
       "      <td>NaN</td>\n",
       "      <td>NaN</td>\n",
       "      <td>NaN</td>\n",
       "      <td>NaN</td>\n",
       "      <td>NaN</td>\n",
       "    </tr>\n",
       "    <tr>\n",
       "      <th>25103</th>\n",
       "      <td>0</td>\n",
       "      <td>Petrol</td>\n",
       "      <td>Hatchback</td>\n",
       "      <td>1,20,000</td>\n",
       "      <td>Manual</td>\n",
       "      <td>1</td>\n",
       "      <td>1st Owner</td>\n",
       "      <td>Maruti</td>\n",
       "      <td>Maruti Alto 800</td>\n",
       "      <td>2014</td>\n",
       "      <td>...</td>\n",
       "      <td>NaN</td>\n",
       "      <td>NaN</td>\n",
       "      <td>Kolkata</td>\n",
       "      <td>NaN</td>\n",
       "      <td>NaN</td>\n",
       "      <td>NaN</td>\n",
       "      <td>NaN</td>\n",
       "      <td>NaN</td>\n",
       "      <td>NaN</td>\n",
       "      <td>NaN</td>\n",
       "    </tr>\n",
       "    <tr>\n",
       "      <th>25104</th>\n",
       "      <td>0</td>\n",
       "      <td>Petrol</td>\n",
       "      <td>Sedan</td>\n",
       "      <td>50,000</td>\n",
       "      <td>Automatic</td>\n",
       "      <td>3</td>\n",
       "      <td>3rd Owner</td>\n",
       "      <td>Mercedes-Benz</td>\n",
       "      <td>Mercedes-Benz C-Class</td>\n",
       "      <td>2011</td>\n",
       "      <td>...</td>\n",
       "      <td>17</td>\n",
       "      <td>NaN</td>\n",
       "      <td>Kolkata</td>\n",
       "      <td>NaN</td>\n",
       "      <td>NaN</td>\n",
       "      <td>NaN</td>\n",
       "      <td>NaN</td>\n",
       "      <td>NaN</td>\n",
       "      <td>NaN</td>\n",
       "      <td>NaN</td>\n",
       "    </tr>\n",
       "    <tr>\n",
       "      <th>25105</th>\n",
       "      <td>0</td>\n",
       "      <td>Petrol</td>\n",
       "      <td>Hatchback</td>\n",
       "      <td>40,000</td>\n",
       "      <td>Manual</td>\n",
       "      <td>1</td>\n",
       "      <td>1st Owner</td>\n",
       "      <td>Maruti</td>\n",
       "      <td>Maruti Ritz</td>\n",
       "      <td>2012</td>\n",
       "      <td>...</td>\n",
       "      <td>14</td>\n",
       "      <td>NaN</td>\n",
       "      <td>Kolkata</td>\n",
       "      <td>NaN</td>\n",
       "      <td>NaN</td>\n",
       "      <td>NaN</td>\n",
       "      <td>NaN</td>\n",
       "      <td>NaN</td>\n",
       "      <td>NaN</td>\n",
       "      <td>NaN</td>\n",
       "    </tr>\n",
       "    <tr>\n",
       "      <th>25106</th>\n",
       "      <td>0</td>\n",
       "      <td>Diesel</td>\n",
       "      <td>SUV</td>\n",
       "      <td>1,20,000</td>\n",
       "      <td>Manual</td>\n",
       "      <td>2</td>\n",
       "      <td>2nd Owner</td>\n",
       "      <td>Renault</td>\n",
       "      <td>Renault Duster</td>\n",
       "      <td>2017</td>\n",
       "      <td>...</td>\n",
       "      <td>16</td>\n",
       "      <td>NaN</td>\n",
       "      <td>Kolkata</td>\n",
       "      <td>NaN</td>\n",
       "      <td>NaN</td>\n",
       "      <td>NaN</td>\n",
       "      <td>NaN</td>\n",
       "      <td>NaN</td>\n",
       "      <td>NaN</td>\n",
       "      <td>NaN</td>\n",
       "    </tr>\n",
       "  </tbody>\n",
       "</table>\n",
       "<p>25107 rows × 232 columns</p>\n",
       "</div>"
      ],
      "text/plain": [
       "       it      ft         bt        km transmission  ownerNo      owner  \\\n",
       "0       0  Petrol  Hatchback  1,20,000       Manual        3  3rd Owner   \n",
       "1       0  Petrol        SUV    32,706       Manual        2  2nd Owner   \n",
       "2       0  Petrol  Hatchback    11,949       Manual        1  1st Owner   \n",
       "3       0  Petrol      Sedan    17,794       Manual        1  1st Owner   \n",
       "4       0  Diesel        SUV    60,000       Manual        1  1st Owner   \n",
       "...    ..     ...        ...       ...          ...      ...        ...   \n",
       "25102   0  Petrol  Hatchback    10,000       Manual        1  1st Owner   \n",
       "25103   0  Petrol  Hatchback  1,20,000       Manual        1  1st Owner   \n",
       "25104   0  Petrol      Sedan    50,000    Automatic        3  3rd Owner   \n",
       "25105   0  Petrol  Hatchback    40,000       Manual        1  1st Owner   \n",
       "25106   0  Diesel        SUV  1,20,000       Manual        2  2nd Owner   \n",
       "\n",
       "                 oem                  model  modelYear  ...  Alloy Wheel Size  \\\n",
       "0             Maruti         Maruti Celerio       2015  ...               NaN   \n",
       "1               Ford          Ford Ecosport       2018  ...                16   \n",
       "2               Tata             Tata Tiago       2018  ...                14   \n",
       "3            Hyundai          Hyundai Xcent       2014  ...                14   \n",
       "4             Maruti     Maruti SX4 S Cross       2015  ...                16   \n",
       "...              ...                    ...        ...  ...               ...   \n",
       "25102         Maruti         Maruti Celerio       2022  ...               NaN   \n",
       "25103         Maruti        Maruti Alto 800       2014  ...               NaN   \n",
       "25104  Mercedes-Benz  Mercedes-Benz C-Class       2011  ...                17   \n",
       "25105         Maruti            Maruti Ritz       2012  ...                14   \n",
       "25106        Renault         Renault Duster       2017  ...                16   \n",
       "\n",
       "      Ground Clearance Unladen       city Interior_Interior_Feature 17  \\\n",
       "0                          NaN  Bangalore                          NaN   \n",
       "1                          NaN  Bangalore                          NaN   \n",
       "2                          NaN  Bangalore                          NaN   \n",
       "3                          NaN  Bangalore                          NaN   \n",
       "4                          NaN  Bangalore                          NaN   \n",
       "...                        ...        ...                          ...   \n",
       "25102                      NaN    Kolkata                          NaN   \n",
       "25103                      NaN    Kolkata                          NaN   \n",
       "25104                      NaN    Kolkata                          NaN   \n",
       "25105                      NaN    Kolkata                          NaN   \n",
       "25106                      NaN    Kolkata                          NaN   \n",
       "\n",
       "       Interior_Interior_Feature 18  Comfort & Convenience_Comfort_Feature 36  \\\n",
       "0                               NaN                                       NaN   \n",
       "1                               NaN                                       NaN   \n",
       "2                               NaN                                       NaN   \n",
       "3                               NaN                                       NaN   \n",
       "4                               NaN                                       NaN   \n",
       "...                             ...                                       ...   \n",
       "25102                           NaN                                       NaN   \n",
       "25103                           NaN                                       NaN   \n",
       "25104                           NaN                                       NaN   \n",
       "25105                           NaN                                       NaN   \n",
       "25106                           NaN                                       NaN   \n",
       "\n",
       "      Comfort & Convenience_Comfort_Feature 37 Safety_Safety_Feature 46  \\\n",
       "0                                          NaN                      NaN   \n",
       "1                                          NaN                      NaN   \n",
       "2                                          NaN                      NaN   \n",
       "3                                          NaN                      NaN   \n",
       "4                                          NaN                      NaN   \n",
       "...                                        ...                      ...   \n",
       "25102                                      NaN                      NaN   \n",
       "25103                                      NaN                      NaN   \n",
       "25104                                      NaN                      NaN   \n",
       "25105                                      NaN                      NaN   \n",
       "25106                                      NaN                      NaN   \n",
       "\n",
       "      Safety_Safety_Feature 47 Safety_Safety_Feature 48  \n",
       "0                          NaN                      NaN  \n",
       "1                          NaN                      NaN  \n",
       "2                          NaN                      NaN  \n",
       "3                          NaN                      NaN  \n",
       "4                          NaN                      NaN  \n",
       "...                        ...                      ...  \n",
       "25102                      NaN                      NaN  \n",
       "25103                      NaN                      NaN  \n",
       "25104                      NaN                      NaN  \n",
       "25105                      NaN                      NaN  \n",
       "25106                      NaN                      NaN  \n",
       "\n",
       "[25107 rows x 232 columns]"
      ]
     },
     "execution_count": 172,
     "metadata": {},
     "output_type": "execute_result"
    }
   ],
   "source": [
    "merged_df"
   ]
  },
  {
   "cell_type": "code",
   "execution_count": 173,
   "metadata": {},
   "outputs": [],
   "source": [
    "merged_df.to_csv('Car_dheko_origin.csv',index=False)"
   ]
  },
  {
   "cell_type": "code",
   "execution_count": 174,
   "metadata": {},
   "outputs": [
    {
     "data": {
      "text/plain": [
       "(25107, 232)"
      ]
     },
     "execution_count": 174,
     "metadata": {},
     "output_type": "execute_result"
    }
   ],
   "source": [
    "merged_df.shape"
   ]
  },
  {
   "cell_type": "code",
   "execution_count": 175,
   "metadata": {},
   "outputs": [],
   "source": [
    "merged_df = merged_df.drop(['priceActual','priceSaving','priceFixedText','Top Feature 1','Top Feature 2','Interior_Interior_Feature 2',\n",
    "                            'Safety_Safety_Feature 2','Entertainment & Communication_Entertainment_Feature 1','Registration Year',\n",
    "                            'transmission','Ownership','Engine Displacement','Displacement','Seats.1','Seating Capacity','Kms Driven',\n",
    "                            'Comfort & Convenience_Comfort_Feature 1','Year of Manufacture','Max Torque'], axis=1)"
   ]
  },
  {
   "cell_type": "code",
   "execution_count": 176,
   "metadata": {},
   "outputs": [
    {
     "data": {
      "text/plain": [
       "(25107, 213)"
      ]
     },
     "execution_count": 176,
     "metadata": {},
     "output_type": "execute_result"
    }
   ],
   "source": [
    "merged_df.shape"
   ]
  },
  {
   "cell_type": "code",
   "execution_count": 177,
   "metadata": {},
   "outputs": [],
   "source": [
    "merged_df = merged_df.drop(['ft','owner','trendingText.imgUrl','trendingText.heading','trendingText.desc','Interior_Interior_Feature 1',\n",
    "                            'Exterior_Exterior_Feature 2','Safety_Safety_Feature 1','Interior_Interior_Feature 17','Interior_Interior_Feature 18',\n",
    "                            'Comfort & Convenience_Comfort_Feature 36','Comfort & Convenience_Comfort_Feature 37','Safety_Safety_Feature 46',\n",
    "                            'Safety_Safety_Feature 47','Safety_Safety_Feature 48','Wheel Size','Comfort & Convenience_Comfort_Feature 35',\n",
    "                            'Comfort & Convenience_Comfort_Feature 34','Comfort & Convenience_Comfort_Feature 33','Exterior_Exterior_Feature 27',\n",
    "                            'Exterior_Exterior_Feature 26','Exterior_Exterior_Feature 25','Exterior_Exterior_Feature 24',\n",
    "                            'Safety_Safety_Feature 45','Safety_Safety_Feature 44','Safety_Safety_Feature 43','Safety_Safety_Feature 42',\n",
    "                            'Safety_Safety_Feature 41','Safety_Safety_Feature 40','Safety_Safety_Feature 39'], axis=1)"
   ]
  },
  {
   "cell_type": "code",
   "execution_count": 178,
   "metadata": {},
   "outputs": [
    {
     "data": {
      "text/plain": [
       "(25107, 183)"
      ]
     },
     "execution_count": 178,
     "metadata": {},
     "output_type": "execute_result"
    }
   ],
   "source": [
    "merged_df.shape"
   ]
  },
  {
   "cell_type": "code",
   "execution_count": 179,
   "metadata": {},
   "outputs": [
    {
     "ename": "PermissionError",
     "evalue": "[Errno 13] Permission denied: 'Car_dheko.csv'",
     "output_type": "error",
     "traceback": [
      "\u001b[1;31m---------------------------------------------------------------------------\u001b[0m",
      "\u001b[1;31mPermissionError\u001b[0m                           Traceback (most recent call last)",
      "Cell \u001b[1;32mIn[179], line 1\u001b[0m\n\u001b[1;32m----> 1\u001b[0m \u001b[43mmerged_df\u001b[49m\u001b[38;5;241;43m.\u001b[39;49m\u001b[43mto_csv\u001b[49m\u001b[43m(\u001b[49m\u001b[38;5;124;43m'\u001b[39;49m\u001b[38;5;124;43mCar_dheko.csv\u001b[39;49m\u001b[38;5;124;43m'\u001b[39;49m\u001b[43m,\u001b[49m\u001b[43mindex\u001b[49m\u001b[38;5;241;43m=\u001b[39;49m\u001b[38;5;28;43;01mFalse\u001b[39;49;00m\u001b[43m)\u001b[49m\n",
      "File \u001b[1;32mc:\\Users\\ADMIN\\AppData\\Local\\Programs\\Python\\Python312\\Lib\\site-packages\\pandas\\util\\_decorators.py:333\u001b[0m, in \u001b[0;36mdeprecate_nonkeyword_arguments.<locals>.decorate.<locals>.wrapper\u001b[1;34m(*args, **kwargs)\u001b[0m\n\u001b[0;32m    327\u001b[0m \u001b[38;5;28;01mif\u001b[39;00m \u001b[38;5;28mlen\u001b[39m(args) \u001b[38;5;241m>\u001b[39m num_allow_args:\n\u001b[0;32m    328\u001b[0m     warnings\u001b[38;5;241m.\u001b[39mwarn(\n\u001b[0;32m    329\u001b[0m         msg\u001b[38;5;241m.\u001b[39mformat(arguments\u001b[38;5;241m=\u001b[39m_format_argument_list(allow_args)),\n\u001b[0;32m    330\u001b[0m         \u001b[38;5;167;01mFutureWarning\u001b[39;00m,\n\u001b[0;32m    331\u001b[0m         stacklevel\u001b[38;5;241m=\u001b[39mfind_stack_level(),\n\u001b[0;32m    332\u001b[0m     )\n\u001b[1;32m--> 333\u001b[0m \u001b[38;5;28;01mreturn\u001b[39;00m \u001b[43mfunc\u001b[49m\u001b[43m(\u001b[49m\u001b[38;5;241;43m*\u001b[39;49m\u001b[43margs\u001b[49m\u001b[43m,\u001b[49m\u001b[43m \u001b[49m\u001b[38;5;241;43m*\u001b[39;49m\u001b[38;5;241;43m*\u001b[39;49m\u001b[43mkwargs\u001b[49m\u001b[43m)\u001b[49m\n",
      "File \u001b[1;32mc:\\Users\\ADMIN\\AppData\\Local\\Programs\\Python\\Python312\\Lib\\site-packages\\pandas\\core\\generic.py:3967\u001b[0m, in \u001b[0;36mNDFrame.to_csv\u001b[1;34m(self, path_or_buf, sep, na_rep, float_format, columns, header, index, index_label, mode, encoding, compression, quoting, quotechar, lineterminator, chunksize, date_format, doublequote, escapechar, decimal, errors, storage_options)\u001b[0m\n\u001b[0;32m   3956\u001b[0m df \u001b[38;5;241m=\u001b[39m \u001b[38;5;28mself\u001b[39m \u001b[38;5;28;01mif\u001b[39;00m \u001b[38;5;28misinstance\u001b[39m(\u001b[38;5;28mself\u001b[39m, ABCDataFrame) \u001b[38;5;28;01melse\u001b[39;00m \u001b[38;5;28mself\u001b[39m\u001b[38;5;241m.\u001b[39mto_frame()\n\u001b[0;32m   3958\u001b[0m formatter \u001b[38;5;241m=\u001b[39m DataFrameFormatter(\n\u001b[0;32m   3959\u001b[0m     frame\u001b[38;5;241m=\u001b[39mdf,\n\u001b[0;32m   3960\u001b[0m     header\u001b[38;5;241m=\u001b[39mheader,\n\u001b[1;32m   (...)\u001b[0m\n\u001b[0;32m   3964\u001b[0m     decimal\u001b[38;5;241m=\u001b[39mdecimal,\n\u001b[0;32m   3965\u001b[0m )\n\u001b[1;32m-> 3967\u001b[0m \u001b[38;5;28;01mreturn\u001b[39;00m \u001b[43mDataFrameRenderer\u001b[49m\u001b[43m(\u001b[49m\u001b[43mformatter\u001b[49m\u001b[43m)\u001b[49m\u001b[38;5;241;43m.\u001b[39;49m\u001b[43mto_csv\u001b[49m\u001b[43m(\u001b[49m\n\u001b[0;32m   3968\u001b[0m \u001b[43m    \u001b[49m\u001b[43mpath_or_buf\u001b[49m\u001b[43m,\u001b[49m\n\u001b[0;32m   3969\u001b[0m \u001b[43m    \u001b[49m\u001b[43mlineterminator\u001b[49m\u001b[38;5;241;43m=\u001b[39;49m\u001b[43mlineterminator\u001b[49m\u001b[43m,\u001b[49m\n\u001b[0;32m   3970\u001b[0m \u001b[43m    \u001b[49m\u001b[43msep\u001b[49m\u001b[38;5;241;43m=\u001b[39;49m\u001b[43msep\u001b[49m\u001b[43m,\u001b[49m\n\u001b[0;32m   3971\u001b[0m \u001b[43m    \u001b[49m\u001b[43mencoding\u001b[49m\u001b[38;5;241;43m=\u001b[39;49m\u001b[43mencoding\u001b[49m\u001b[43m,\u001b[49m\n\u001b[0;32m   3972\u001b[0m \u001b[43m    \u001b[49m\u001b[43merrors\u001b[49m\u001b[38;5;241;43m=\u001b[39;49m\u001b[43merrors\u001b[49m\u001b[43m,\u001b[49m\n\u001b[0;32m   3973\u001b[0m \u001b[43m    \u001b[49m\u001b[43mcompression\u001b[49m\u001b[38;5;241;43m=\u001b[39;49m\u001b[43mcompression\u001b[49m\u001b[43m,\u001b[49m\n\u001b[0;32m   3974\u001b[0m \u001b[43m    \u001b[49m\u001b[43mquoting\u001b[49m\u001b[38;5;241;43m=\u001b[39;49m\u001b[43mquoting\u001b[49m\u001b[43m,\u001b[49m\n\u001b[0;32m   3975\u001b[0m \u001b[43m    \u001b[49m\u001b[43mcolumns\u001b[49m\u001b[38;5;241;43m=\u001b[39;49m\u001b[43mcolumns\u001b[49m\u001b[43m,\u001b[49m\n\u001b[0;32m   3976\u001b[0m \u001b[43m    \u001b[49m\u001b[43mindex_label\u001b[49m\u001b[38;5;241;43m=\u001b[39;49m\u001b[43mindex_label\u001b[49m\u001b[43m,\u001b[49m\n\u001b[0;32m   3977\u001b[0m \u001b[43m    \u001b[49m\u001b[43mmode\u001b[49m\u001b[38;5;241;43m=\u001b[39;49m\u001b[43mmode\u001b[49m\u001b[43m,\u001b[49m\n\u001b[0;32m   3978\u001b[0m \u001b[43m    \u001b[49m\u001b[43mchunksize\u001b[49m\u001b[38;5;241;43m=\u001b[39;49m\u001b[43mchunksize\u001b[49m\u001b[43m,\u001b[49m\n\u001b[0;32m   3979\u001b[0m \u001b[43m    \u001b[49m\u001b[43mquotechar\u001b[49m\u001b[38;5;241;43m=\u001b[39;49m\u001b[43mquotechar\u001b[49m\u001b[43m,\u001b[49m\n\u001b[0;32m   3980\u001b[0m \u001b[43m    \u001b[49m\u001b[43mdate_format\u001b[49m\u001b[38;5;241;43m=\u001b[39;49m\u001b[43mdate_format\u001b[49m\u001b[43m,\u001b[49m\n\u001b[0;32m   3981\u001b[0m \u001b[43m    \u001b[49m\u001b[43mdoublequote\u001b[49m\u001b[38;5;241;43m=\u001b[39;49m\u001b[43mdoublequote\u001b[49m\u001b[43m,\u001b[49m\n\u001b[0;32m   3982\u001b[0m \u001b[43m    \u001b[49m\u001b[43mescapechar\u001b[49m\u001b[38;5;241;43m=\u001b[39;49m\u001b[43mescapechar\u001b[49m\u001b[43m,\u001b[49m\n\u001b[0;32m   3983\u001b[0m \u001b[43m    \u001b[49m\u001b[43mstorage_options\u001b[49m\u001b[38;5;241;43m=\u001b[39;49m\u001b[43mstorage_options\u001b[49m\u001b[43m,\u001b[49m\n\u001b[0;32m   3984\u001b[0m \u001b[43m\u001b[49m\u001b[43m)\u001b[49m\n",
      "File \u001b[1;32mc:\\Users\\ADMIN\\AppData\\Local\\Programs\\Python\\Python312\\Lib\\site-packages\\pandas\\io\\formats\\format.py:1014\u001b[0m, in \u001b[0;36mDataFrameRenderer.to_csv\u001b[1;34m(self, path_or_buf, encoding, sep, columns, index_label, mode, compression, quoting, quotechar, lineterminator, chunksize, date_format, doublequote, escapechar, errors, storage_options)\u001b[0m\n\u001b[0;32m    993\u001b[0m     created_buffer \u001b[38;5;241m=\u001b[39m \u001b[38;5;28;01mFalse\u001b[39;00m\n\u001b[0;32m    995\u001b[0m csv_formatter \u001b[38;5;241m=\u001b[39m CSVFormatter(\n\u001b[0;32m    996\u001b[0m     path_or_buf\u001b[38;5;241m=\u001b[39mpath_or_buf,\n\u001b[0;32m    997\u001b[0m     lineterminator\u001b[38;5;241m=\u001b[39mlineterminator,\n\u001b[1;32m   (...)\u001b[0m\n\u001b[0;32m   1012\u001b[0m     formatter\u001b[38;5;241m=\u001b[39m\u001b[38;5;28mself\u001b[39m\u001b[38;5;241m.\u001b[39mfmt,\n\u001b[0;32m   1013\u001b[0m )\n\u001b[1;32m-> 1014\u001b[0m \u001b[43mcsv_formatter\u001b[49m\u001b[38;5;241;43m.\u001b[39;49m\u001b[43msave\u001b[49m\u001b[43m(\u001b[49m\u001b[43m)\u001b[49m\n\u001b[0;32m   1016\u001b[0m \u001b[38;5;28;01mif\u001b[39;00m created_buffer:\n\u001b[0;32m   1017\u001b[0m     \u001b[38;5;28;01massert\u001b[39;00m \u001b[38;5;28misinstance\u001b[39m(path_or_buf, StringIO)\n",
      "File \u001b[1;32mc:\\Users\\ADMIN\\AppData\\Local\\Programs\\Python\\Python312\\Lib\\site-packages\\pandas\\io\\formats\\csvs.py:251\u001b[0m, in \u001b[0;36mCSVFormatter.save\u001b[1;34m(self)\u001b[0m\n\u001b[0;32m    247\u001b[0m \u001b[38;5;250m\u001b[39m\u001b[38;5;124;03m\"\"\"\u001b[39;00m\n\u001b[0;32m    248\u001b[0m \u001b[38;5;124;03mCreate the writer & save.\u001b[39;00m\n\u001b[0;32m    249\u001b[0m \u001b[38;5;124;03m\"\"\"\u001b[39;00m\n\u001b[0;32m    250\u001b[0m \u001b[38;5;66;03m# apply compression and byte/text conversion\u001b[39;00m\n\u001b[1;32m--> 251\u001b[0m \u001b[38;5;28;01mwith\u001b[39;00m \u001b[43mget_handle\u001b[49m\u001b[43m(\u001b[49m\n\u001b[0;32m    252\u001b[0m \u001b[43m    \u001b[49m\u001b[38;5;28;43mself\u001b[39;49m\u001b[38;5;241;43m.\u001b[39;49m\u001b[43mfilepath_or_buffer\u001b[49m\u001b[43m,\u001b[49m\n\u001b[0;32m    253\u001b[0m \u001b[43m    \u001b[49m\u001b[38;5;28;43mself\u001b[39;49m\u001b[38;5;241;43m.\u001b[39;49m\u001b[43mmode\u001b[49m\u001b[43m,\u001b[49m\n\u001b[0;32m    254\u001b[0m \u001b[43m    \u001b[49m\u001b[43mencoding\u001b[49m\u001b[38;5;241;43m=\u001b[39;49m\u001b[38;5;28;43mself\u001b[39;49m\u001b[38;5;241;43m.\u001b[39;49m\u001b[43mencoding\u001b[49m\u001b[43m,\u001b[49m\n\u001b[0;32m    255\u001b[0m \u001b[43m    \u001b[49m\u001b[43merrors\u001b[49m\u001b[38;5;241;43m=\u001b[39;49m\u001b[38;5;28;43mself\u001b[39;49m\u001b[38;5;241;43m.\u001b[39;49m\u001b[43merrors\u001b[49m\u001b[43m,\u001b[49m\n\u001b[0;32m    256\u001b[0m \u001b[43m    \u001b[49m\u001b[43mcompression\u001b[49m\u001b[38;5;241;43m=\u001b[39;49m\u001b[38;5;28;43mself\u001b[39;49m\u001b[38;5;241;43m.\u001b[39;49m\u001b[43mcompression\u001b[49m\u001b[43m,\u001b[49m\n\u001b[0;32m    257\u001b[0m \u001b[43m    \u001b[49m\u001b[43mstorage_options\u001b[49m\u001b[38;5;241;43m=\u001b[39;49m\u001b[38;5;28;43mself\u001b[39;49m\u001b[38;5;241;43m.\u001b[39;49m\u001b[43mstorage_options\u001b[49m\u001b[43m,\u001b[49m\n\u001b[0;32m    258\u001b[0m \u001b[43m\u001b[49m\u001b[43m)\u001b[49m \u001b[38;5;28;01mas\u001b[39;00m handles:\n\u001b[0;32m    259\u001b[0m     \u001b[38;5;66;03m# Note: self.encoding is irrelevant here\u001b[39;00m\n\u001b[0;32m    260\u001b[0m     \u001b[38;5;28mself\u001b[39m\u001b[38;5;241m.\u001b[39mwriter \u001b[38;5;241m=\u001b[39m csvlib\u001b[38;5;241m.\u001b[39mwriter(\n\u001b[0;32m    261\u001b[0m         handles\u001b[38;5;241m.\u001b[39mhandle,\n\u001b[0;32m    262\u001b[0m         lineterminator\u001b[38;5;241m=\u001b[39m\u001b[38;5;28mself\u001b[39m\u001b[38;5;241m.\u001b[39mlineterminator,\n\u001b[1;32m   (...)\u001b[0m\n\u001b[0;32m    267\u001b[0m         quotechar\u001b[38;5;241m=\u001b[39m\u001b[38;5;28mself\u001b[39m\u001b[38;5;241m.\u001b[39mquotechar,\n\u001b[0;32m    268\u001b[0m     )\n\u001b[0;32m    270\u001b[0m     \u001b[38;5;28mself\u001b[39m\u001b[38;5;241m.\u001b[39m_save()\n",
      "File \u001b[1;32mc:\\Users\\ADMIN\\AppData\\Local\\Programs\\Python\\Python312\\Lib\\site-packages\\pandas\\io\\common.py:873\u001b[0m, in \u001b[0;36mget_handle\u001b[1;34m(path_or_buf, mode, encoding, compression, memory_map, is_text, errors, storage_options)\u001b[0m\n\u001b[0;32m    868\u001b[0m \u001b[38;5;28;01melif\u001b[39;00m \u001b[38;5;28misinstance\u001b[39m(handle, \u001b[38;5;28mstr\u001b[39m):\n\u001b[0;32m    869\u001b[0m     \u001b[38;5;66;03m# Check whether the filename is to be opened in binary mode.\u001b[39;00m\n\u001b[0;32m    870\u001b[0m     \u001b[38;5;66;03m# Binary mode does not support 'encoding' and 'newline'.\u001b[39;00m\n\u001b[0;32m    871\u001b[0m     \u001b[38;5;28;01mif\u001b[39;00m ioargs\u001b[38;5;241m.\u001b[39mencoding \u001b[38;5;129;01mand\u001b[39;00m \u001b[38;5;124m\"\u001b[39m\u001b[38;5;124mb\u001b[39m\u001b[38;5;124m\"\u001b[39m \u001b[38;5;129;01mnot\u001b[39;00m \u001b[38;5;129;01min\u001b[39;00m ioargs\u001b[38;5;241m.\u001b[39mmode:\n\u001b[0;32m    872\u001b[0m         \u001b[38;5;66;03m# Encoding\u001b[39;00m\n\u001b[1;32m--> 873\u001b[0m         handle \u001b[38;5;241m=\u001b[39m \u001b[38;5;28;43mopen\u001b[39;49m\u001b[43m(\u001b[49m\n\u001b[0;32m    874\u001b[0m \u001b[43m            \u001b[49m\u001b[43mhandle\u001b[49m\u001b[43m,\u001b[49m\n\u001b[0;32m    875\u001b[0m \u001b[43m            \u001b[49m\u001b[43mioargs\u001b[49m\u001b[38;5;241;43m.\u001b[39;49m\u001b[43mmode\u001b[49m\u001b[43m,\u001b[49m\n\u001b[0;32m    876\u001b[0m \u001b[43m            \u001b[49m\u001b[43mencoding\u001b[49m\u001b[38;5;241;43m=\u001b[39;49m\u001b[43mioargs\u001b[49m\u001b[38;5;241;43m.\u001b[39;49m\u001b[43mencoding\u001b[49m\u001b[43m,\u001b[49m\n\u001b[0;32m    877\u001b[0m \u001b[43m            \u001b[49m\u001b[43merrors\u001b[49m\u001b[38;5;241;43m=\u001b[39;49m\u001b[43merrors\u001b[49m\u001b[43m,\u001b[49m\n\u001b[0;32m    878\u001b[0m \u001b[43m            \u001b[49m\u001b[43mnewline\u001b[49m\u001b[38;5;241;43m=\u001b[39;49m\u001b[38;5;124;43m\"\u001b[39;49m\u001b[38;5;124;43m\"\u001b[39;49m\u001b[43m,\u001b[49m\n\u001b[0;32m    879\u001b[0m \u001b[43m        \u001b[49m\u001b[43m)\u001b[49m\n\u001b[0;32m    880\u001b[0m     \u001b[38;5;28;01melse\u001b[39;00m:\n\u001b[0;32m    881\u001b[0m         \u001b[38;5;66;03m# Binary mode\u001b[39;00m\n\u001b[0;32m    882\u001b[0m         handle \u001b[38;5;241m=\u001b[39m \u001b[38;5;28mopen\u001b[39m(handle, ioargs\u001b[38;5;241m.\u001b[39mmode)\n",
      "\u001b[1;31mPermissionError\u001b[0m: [Errno 13] Permission denied: 'Car_dheko.csv'"
     ]
    }
   ],
   "source": [
    "merged_df.to_csv('Car_dheko.csv',index=False)"
   ]
  },
  {
   "cell_type": "code",
   "execution_count": null,
   "metadata": {},
   "outputs": [],
   "source": [
    "#Load the dataset\n",
    "file_path = 'D:/Project 3 Cardheko/Car_dheko.csv'\n",
    "df = pd.read_csv(file_path, low_memory=False)\n",
    "\n",
    "# Option 1: Drop columns with a specific prefix (e.g., 'column')\n",
    "columns_to_drop = [col for col in df.columns if col.startswith('Comfort & Convenience_Comfort_Feature')]\n",
    "df.drop(columns=columns_to_drop, inplace=True)"
   ]
  },
  {
   "cell_type": "code",
   "execution_count": null,
   "metadata": {},
   "outputs": [
    {
     "data": {
      "text/plain": [
       "(8369, 152)"
      ]
     },
     "execution_count": 86,
     "metadata": {},
     "output_type": "execute_result"
    }
   ],
   "source": [
    "df.shape"
   ]
  },
  {
   "cell_type": "code",
   "execution_count": null,
   "metadata": {},
   "outputs": [],
   "source": [
    "df.to_csv('Car_dheko.csv',index=False)"
   ]
  },
  {
   "cell_type": "code",
   "execution_count": null,
   "metadata": {},
   "outputs": [],
   "source": [
    "# Load the dataset\n",
    "file_path = 'D:/Project 3 Cardheko/Car_dheko.csv'\n",
    "df = pd.read_csv(file_path, low_memory=False)\n",
    "\n",
    "# Option 1: Drop columns with a specific prefix (e.g., 'column')\n",
    "columns_to_drop = [col for col in df.columns if col.startswith('Entertainment & Communication_Entertainment_Feature')]\n",
    "df.drop(columns=columns_to_drop, inplace=True)"
   ]
  },
  {
   "cell_type": "code",
   "execution_count": null,
   "metadata": {},
   "outputs": [],
   "source": [
    "df.to_csv('Car_dheko.csv',index=False)"
   ]
  },
  {
   "cell_type": "code",
   "execution_count": null,
   "metadata": {},
   "outputs": [],
   "source": [
    "# Load the dataset\n",
    "file_path = 'D:/Project 3 Cardheko/Car_dheko.csv'\n",
    "df = pd.read_csv(file_path, low_memory=False)\n",
    "\n",
    "# Option 1: Drop columns with a specific prefix (e.g., 'column')\n",
    "columns_to_drop = [col for col in df.columns if col.startswith('Safety_Safety_Feature')]\n",
    "df.drop(columns=columns_to_drop, inplace=True)"
   ]
  },
  {
   "cell_type": "code",
   "execution_count": null,
   "metadata": {},
   "outputs": [],
   "source": [
    "df.to_csv('Car_dheko.csv',index=False)"
   ]
  },
  {
   "cell_type": "code",
   "execution_count": null,
   "metadata": {},
   "outputs": [
    {
     "data": {
      "text/plain": [
       "(8369, 96)"
      ]
     },
     "execution_count": 93,
     "metadata": {},
     "output_type": "execute_result"
    }
   ],
   "source": [
    "df.shape"
   ]
  },
  {
   "cell_type": "code",
   "execution_count": null,
   "metadata": {},
   "outputs": [],
   "source": [
    "# Load the dataset\n",
    "file_path = 'D:/Project 3 Cardheko/Car_dheko.csv'\n",
    "df = pd.read_csv(file_path, low_memory=False)\n",
    "\n",
    "# Option 1: Drop columns with a specific prefix (e.g., 'column')\n",
    "columns_to_drop = [col for col in df.columns if col.startswith('Exterior_Exterior_Feature')]\n",
    "df.drop(columns=columns_to_drop, inplace=True)"
   ]
  },
  {
   "cell_type": "code",
   "execution_count": null,
   "metadata": {},
   "outputs": [
    {
     "data": {
      "text/plain": [
       "(8369, 74)"
      ]
     },
     "execution_count": 95,
     "metadata": {},
     "output_type": "execute_result"
    }
   ],
   "source": [
    "df.shape"
   ]
  },
  {
   "cell_type": "code",
   "execution_count": null,
   "metadata": {},
   "outputs": [],
   "source": [
    "df.to_csv('Car_dheko.csv',index=False)"
   ]
  },
  {
   "cell_type": "code",
   "execution_count": null,
   "metadata": {},
   "outputs": [],
   "source": [
    "# Load the dataset\n",
    "file_path = 'D:/Project 3 Cardheko/Car_dheko.csv'\n",
    "df = pd.read_csv(file_path, low_memory=False)\n",
    "\n",
    "# Option 1: Drop columns with a specific prefix (e.g., 'column')\n",
    "columns_to_drop = [col for col in df.columns if col.startswith('Interior_Interior_Feature')]\n",
    "df.drop(columns=columns_to_drop, inplace=True)"
   ]
  },
  {
   "cell_type": "code",
   "execution_count": null,
   "metadata": {},
   "outputs": [],
   "source": [
    "df.to_csv('Car_dheko.csv',index=False)"
   ]
  },
  {
   "cell_type": "code",
   "execution_count": null,
   "metadata": {},
   "outputs": [
    {
     "data": {
      "text/plain": [
       "(8369, 60)"
      ]
     },
     "execution_count": 99,
     "metadata": {},
     "output_type": "execute_result"
    }
   ],
   "source": [
    "df.shape"
   ]
  },
  {
   "cell_type": "code",
   "execution_count": null,
   "metadata": {},
   "outputs": [
    {
     "data": {
      "text/plain": [
       "it                             0\n",
       "bt                             4\n",
       "km                             0\n",
       "ownerNo                        0\n",
       "oem                            0\n",
       "model                          0\n",
       "modelYear                      0\n",
       "centralVariantId               0\n",
       "variantName                    0\n",
       "price                          0\n",
       "car_links                      0\n",
       "Top Feature 3                 75\n",
       "Top Feature 4                 76\n",
       "Top Feature 5                 86\n",
       "Top Feature 6                 94\n",
       "Top Feature 7                108\n",
       "Top Feature 8                127\n",
       "commonIcon                     0\n",
       "Top Feature 9               1102\n",
       "Insurance Validity             4\n",
       "Fuel Type                      0\n",
       "Seats                          6\n",
       "RTO                          894\n",
       "Transmission                   0\n",
       "Mileage                      287\n",
       "Engine                         4\n",
       "Max Power                     60\n",
       "Torque                        60\n",
       "Color                          3\n",
       "Engine Type                  295\n",
       "No of Cylinder                31\n",
       "Values per Cylinder           51\n",
       "Value Configuration         2216\n",
       "Fuel Suppy System           1727\n",
       "BoreX Stroke                5964\n",
       "Compression Ratio           6474\n",
       "Turbo Charger               1040\n",
       "Super Charger               1962\n",
       "Length                        79\n",
       "Width                         83\n",
       "Height                        79\n",
       "Wheel Base                   163\n",
       "Front Tread                 3558\n",
       "Rear Tread                  3570\n",
       "Kerb Weight                   59\n",
       "Gross Weight                4541\n",
       "Gear Box                     106\n",
       "Drive Type                  1560\n",
       "Steering Type                255\n",
       "Turning Radius              1600\n",
       "Front Brake Type              96\n",
       "Rear Brake Type               96\n",
       "Top Speed                   3762\n",
       "Acceleration                3512\n",
       "Tyre Type                     77\n",
       "No Door Numbers               11\n",
       "Cargo Volumn                1593\n",
       "Alloy Wheel Size            2983\n",
       "Ground Clearance Unladen    7854\n",
       "city                           0\n",
       "dtype: int64"
      ]
     },
     "execution_count": 52,
     "metadata": {},
     "output_type": "execute_result"
    }
   ],
   "source": [
    "df.isnull().sum()"
   ]
  },
  {
   "cell_type": "code",
   "execution_count": null,
   "metadata": {},
   "outputs": [],
   "source": [
    "df = df.drop(['Ground Clearance Unladen','Compression Ratio','BoreX Stroke'], axis=1)"
   ]
  },
  {
   "cell_type": "code",
   "execution_count": null,
   "metadata": {},
   "outputs": [
    {
     "data": {
      "text/plain": [
       "(8369, 57)"
      ]
     },
     "execution_count": 101,
     "metadata": {},
     "output_type": "execute_result"
    }
   ],
   "source": [
    "df.shape"
   ]
  },
  {
   "cell_type": "code",
   "execution_count": null,
   "metadata": {},
   "outputs": [],
   "source": [
    "# List of specific columns you want to forward fill\n",
    "columns_to_fill = ['Turbo Charger', 'Super Charger', 'bt', 'Top Feature 3','Top Feature 4','Top Feature 5',\n",
    "                   'Top Feature 6','Top Feature 7','Top Feature 8','Top Feature 9','Insurance Validity',\n",
    "                   'Color','Engine Type','No of Cylinder','Values per Cylinder','Value Configuration',\n",
    "                   'Fuel Suppy System','Drive Type','Steering Type','Front Brake Type','Rear Brake Type',\n",
    "                   'Tyre Type','No Door Numbers','Alloy Wheel Size']  \n",
    "\n",
    "# Forward fill missing values in the specified columns\n",
    "df[columns_to_fill] = df[columns_to_fill].ffill()"
   ]
  },
  {
   "cell_type": "code",
   "execution_count": null,
   "metadata": {},
   "outputs": [
    {
     "data": {
      "text/html": [
       "<div>\n",
       "<style scoped>\n",
       "    .dataframe tbody tr th:only-of-type {\n",
       "        vertical-align: middle;\n",
       "    }\n",
       "\n",
       "    .dataframe tbody tr th {\n",
       "        vertical-align: top;\n",
       "    }\n",
       "\n",
       "    .dataframe thead th {\n",
       "        text-align: right;\n",
       "    }\n",
       "</style>\n",
       "<table border=\"1\" class=\"dataframe\">\n",
       "  <thead>\n",
       "    <tr style=\"text-align: right;\">\n",
       "      <th></th>\n",
       "      <th>it</th>\n",
       "      <th>bt</th>\n",
       "      <th>km</th>\n",
       "      <th>ownerNo</th>\n",
       "      <th>oem</th>\n",
       "      <th>model</th>\n",
       "      <th>modelYear</th>\n",
       "      <th>centralVariantId</th>\n",
       "      <th>variantName</th>\n",
       "      <th>price</th>\n",
       "      <th>...</th>\n",
       "      <th>Turning Radius</th>\n",
       "      <th>Front Brake Type</th>\n",
       "      <th>Rear Brake Type</th>\n",
       "      <th>Top Speed</th>\n",
       "      <th>Acceleration</th>\n",
       "      <th>Tyre Type</th>\n",
       "      <th>No Door Numbers</th>\n",
       "      <th>Cargo Volumn</th>\n",
       "      <th>Alloy Wheel Size</th>\n",
       "      <th>city</th>\n",
       "    </tr>\n",
       "  </thead>\n",
       "  <tbody>\n",
       "    <tr>\n",
       "      <th>0</th>\n",
       "      <td>0</td>\n",
       "      <td>Hatchback</td>\n",
       "      <td>1,20,000</td>\n",
       "      <td>3</td>\n",
       "      <td>Maruti</td>\n",
       "      <td>Maruti Celerio</td>\n",
       "      <td>2015</td>\n",
       "      <td>3979</td>\n",
       "      <td>VXI</td>\n",
       "      <td>₹ 4 Lakh</td>\n",
       "      <td>...</td>\n",
       "      <td>4.7 metres</td>\n",
       "      <td>Ventilated Disc</td>\n",
       "      <td>Drum</td>\n",
       "      <td>150 Kmph</td>\n",
       "      <td>15.05 Seconds</td>\n",
       "      <td>Tubeless, Radial</td>\n",
       "      <td>5.0</td>\n",
       "      <td>235-litres</td>\n",
       "      <td>NaN</td>\n",
       "      <td>Bangalore</td>\n",
       "    </tr>\n",
       "    <tr>\n",
       "      <th>1</th>\n",
       "      <td>0</td>\n",
       "      <td>SUV</td>\n",
       "      <td>32,706</td>\n",
       "      <td>2</td>\n",
       "      <td>Ford</td>\n",
       "      <td>Ford Ecosport</td>\n",
       "      <td>2018</td>\n",
       "      <td>6087</td>\n",
       "      <td>1.5 Petrol Titanium BSIV</td>\n",
       "      <td>₹ 8.11 Lakh</td>\n",
       "      <td>...</td>\n",
       "      <td>5.3 metres</td>\n",
       "      <td>Ventilated Disc</td>\n",
       "      <td>Drum</td>\n",
       "      <td>NaN</td>\n",
       "      <td>NaN</td>\n",
       "      <td>Tubeless,Radial</td>\n",
       "      <td>4.0</td>\n",
       "      <td>352-litres</td>\n",
       "      <td>16</td>\n",
       "      <td>Bangalore</td>\n",
       "    </tr>\n",
       "    <tr>\n",
       "      <th>2</th>\n",
       "      <td>0</td>\n",
       "      <td>Hatchback</td>\n",
       "      <td>11,949</td>\n",
       "      <td>1</td>\n",
       "      <td>Tata</td>\n",
       "      <td>Tata Tiago</td>\n",
       "      <td>2018</td>\n",
       "      <td>2983</td>\n",
       "      <td>1.2 Revotron XZ</td>\n",
       "      <td>₹ 5.85 Lakh</td>\n",
       "      <td>...</td>\n",
       "      <td>4.9 meters</td>\n",
       "      <td>Disc</td>\n",
       "      <td>Drum</td>\n",
       "      <td>150 kmph</td>\n",
       "      <td>14.3 Seconds</td>\n",
       "      <td>Tubeless</td>\n",
       "      <td>5.0</td>\n",
       "      <td>242-litres</td>\n",
       "      <td>14</td>\n",
       "      <td>Bangalore</td>\n",
       "    </tr>\n",
       "    <tr>\n",
       "      <th>3</th>\n",
       "      <td>0</td>\n",
       "      <td>Sedan</td>\n",
       "      <td>17,794</td>\n",
       "      <td>1</td>\n",
       "      <td>Hyundai</td>\n",
       "      <td>Hyundai Xcent</td>\n",
       "      <td>2014</td>\n",
       "      <td>1867</td>\n",
       "      <td>1.2 Kappa S Option</td>\n",
       "      <td>₹ 4.62 Lakh</td>\n",
       "      <td>...</td>\n",
       "      <td>4.7 metres</td>\n",
       "      <td>Disc</td>\n",
       "      <td>Drum</td>\n",
       "      <td>172km/hr</td>\n",
       "      <td>14.2 Seconds</td>\n",
       "      <td>Tubeless,Radial</td>\n",
       "      <td>4.0</td>\n",
       "      <td>407-litres</td>\n",
       "      <td>14</td>\n",
       "      <td>Bangalore</td>\n",
       "    </tr>\n",
       "    <tr>\n",
       "      <th>4</th>\n",
       "      <td>0</td>\n",
       "      <td>SUV</td>\n",
       "      <td>60,000</td>\n",
       "      <td>1</td>\n",
       "      <td>Maruti</td>\n",
       "      <td>Maruti SX4 S Cross</td>\n",
       "      <td>2015</td>\n",
       "      <td>4277</td>\n",
       "      <td>DDiS 200 Zeta</td>\n",
       "      <td>₹ 7.90 Lakh</td>\n",
       "      <td>...</td>\n",
       "      <td>5.2 meters</td>\n",
       "      <td>Ventilated Disc</td>\n",
       "      <td>Solid Disc</td>\n",
       "      <td>190 Kmph</td>\n",
       "      <td>12 Seconds</td>\n",
       "      <td>Tubeless,Radial</td>\n",
       "      <td>5.0</td>\n",
       "      <td>353-litres</td>\n",
       "      <td>16</td>\n",
       "      <td>Bangalore</td>\n",
       "    </tr>\n",
       "  </tbody>\n",
       "</table>\n",
       "<p>5 rows × 57 columns</p>\n",
       "</div>"
      ],
      "text/plain": [
       "   it         bt        km  ownerNo      oem               model  modelYear  \\\n",
       "0   0  Hatchback  1,20,000        3   Maruti      Maruti Celerio       2015   \n",
       "1   0        SUV    32,706        2     Ford       Ford Ecosport       2018   \n",
       "2   0  Hatchback    11,949        1     Tata          Tata Tiago       2018   \n",
       "3   0      Sedan    17,794        1  Hyundai       Hyundai Xcent       2014   \n",
       "4   0        SUV    60,000        1   Maruti  Maruti SX4 S Cross       2015   \n",
       "\n",
       "   centralVariantId               variantName        price  ...  \\\n",
       "0              3979                       VXI     ₹ 4 Lakh  ...   \n",
       "1              6087  1.5 Petrol Titanium BSIV  ₹ 8.11 Lakh  ...   \n",
       "2              2983           1.2 Revotron XZ  ₹ 5.85 Lakh  ...   \n",
       "3              1867        1.2 Kappa S Option  ₹ 4.62 Lakh  ...   \n",
       "4              4277             DDiS 200 Zeta  ₹ 7.90 Lakh  ...   \n",
       "\n",
       "  Turning Radius Front Brake Type Rear Brake Type Top Speed   Acceleration  \\\n",
       "0     4.7 metres  Ventilated Disc            Drum  150 Kmph  15.05 Seconds   \n",
       "1     5.3 metres  Ventilated Disc            Drum       NaN            NaN   \n",
       "2     4.9 meters             Disc            Drum  150 kmph   14.3 Seconds   \n",
       "3     4.7 metres            Disc             Drum  172km/hr   14.2 Seconds   \n",
       "4     5.2 meters  Ventilated Disc      Solid Disc  190 Kmph     12 Seconds   \n",
       "\n",
       "          Tyre Type No Door Numbers Cargo Volumn Alloy Wheel Size       city  \n",
       "0  Tubeless, Radial             5.0   235-litres              NaN  Bangalore  \n",
       "1   Tubeless,Radial             4.0   352-litres               16  Bangalore  \n",
       "2          Tubeless             5.0   242-litres               14  Bangalore  \n",
       "3   Tubeless,Radial             4.0   407-litres               14  Bangalore  \n",
       "4   Tubeless,Radial             5.0   353-litres               16  Bangalore  \n",
       "\n",
       "[5 rows x 57 columns]"
      ]
     },
     "execution_count": 103,
     "metadata": {},
     "output_type": "execute_result"
    }
   ],
   "source": [
    "import pandas as pd\n",
    "\n",
    "# Create a mapping of cities/states to RTO codes\n",
    "rto_mapping = {\n",
    "    'Bangalore': 'KA01',\n",
    "    'Chennai': 'TN01',\n",
    "    'Hyderabad': 'AP01',\n",
    "    'Delhi': 'DL01',\n",
    "    'Jaipur' : 'RJ01',\n",
    "    'Kolkata': 'WB01'\n",
    "    # Add more city/state to RTO code mappings as needed\n",
    "}\n",
    "\n",
    "# Define a function to apply the mapping\n",
    "def fill_rto(row):\n",
    "    if pd.isna(row['RTO']):\n",
    "        city = row['city']  # or use another column for the state\n",
    "        return rto_mapping.get(city, 'Unknown')  # Default to 'Unknown' if city not in mapping\n",
    "    else:\n",
    "        return row['RTO']\n",
    "\n",
    "# Apply the function to fill NaN values in the 'RTO' column\n",
    "df['RTO'] = df.apply(fill_rto, axis=1)\n",
    "\n",
    "\n",
    "# Display the first few rows of the updated DataFrame to confirm the changes\n",
    "df.head()\n"
   ]
  },
  {
   "cell_type": "code",
   "execution_count": null,
   "metadata": {},
   "outputs": [],
   "source": [
    "df.to_csv('Car_dheko.csv',index=False)"
   ]
  },
  {
   "cell_type": "code",
   "execution_count": null,
   "metadata": {},
   "outputs": [],
   "source": [
    "import pandas as pd\n",
    "# Load the dataset\n",
    "file_path = 'D:/Project 3 Cardheko/Car_dheko.csv'\n",
    "df = pd.read_csv(file_path, low_memory=False)"
   ]
  },
  {
   "cell_type": "code",
   "execution_count": null,
   "metadata": {},
   "outputs": [
    {
     "data": {
      "text/plain": [
       "it                        0\n",
       "bt                        0\n",
       "km                        0\n",
       "ownerNo                   0\n",
       "oem                       0\n",
       "model                     0\n",
       "modelYear                 0\n",
       "centralVariantId          0\n",
       "variantName               0\n",
       "price                     0\n",
       "car_links                 0\n",
       "Top Feature 3             0\n",
       "Top Feature 4             0\n",
       "Top Feature 5             0\n",
       "Top Feature 6             0\n",
       "Top Feature 7             0\n",
       "Top Feature 8             0\n",
       "commonIcon                0\n",
       "Top Feature 9             1\n",
       "Insurance Validity        0\n",
       "Fuel Type                 0\n",
       "Seats                     6\n",
       "RTO                       0\n",
       "Transmission              0\n",
       "Mileage                 287\n",
       "Engine                    4\n",
       "Max Power                60\n",
       "Torque                   60\n",
       "Color                     0\n",
       "Engine Type               0\n",
       "No of Cylinder            0\n",
       "Values per Cylinder       0\n",
       "Value Configuration       0\n",
       "Fuel Suppy System         0\n",
       "Turbo Charger             0\n",
       "Super Charger             0\n",
       "Length                   79\n",
       "Width                    83\n",
       "Height                   79\n",
       "Wheel Base              163\n",
       "Front Tread            3558\n",
       "Rear Tread             3570\n",
       "Kerb Weight              59\n",
       "Gross Weight           4541\n",
       "Gear Box                106\n",
       "Drive Type                0\n",
       "Steering Type             0\n",
       "Turning Radius            0\n",
       "Front Brake Type          0\n",
       "Rear Brake Type           0\n",
       "Top Speed                 0\n",
       "Acceleration              0\n",
       "Tyre Type                 0\n",
       "No Door Numbers           0\n",
       "Cargo Volumn              0\n",
       "Alloy Wheel Size          1\n",
       "city                      0\n",
       "dtype: int64"
      ]
     },
     "execution_count": 124,
     "metadata": {},
     "output_type": "execute_result"
    }
   ],
   "source": [
    "df.isnull().sum()"
   ]
  },
  {
   "cell_type": "code",
   "execution_count": null,
   "metadata": {},
   "outputs": [
    {
     "data": {
      "text/plain": [
       "array(['235', '352', '242', '407', '353', '408', '265', '350', '510',\n",
       "       '339', '256', '354', nan, '520 ', '268', '475', '530', '540',\n",
       "       '480', '180', '209 ', '520', '295', '420', '211', '433', '285',\n",
       "       '680', '73', '330', '279', '313', '460', '400', '425', '207',\n",
       "       '590', '236', '311', '506', '243', '225', '300', '380', '259 ',\n",
       "       '155 ', '175', '405', '215', '494', '476', '587', '720', '445',\n",
       "       '460 ', '565', '214', '295 ', '257', '260', '84', '650', '513',\n",
       "       '550 ', '204', '280', '450', '392 ', '328', '350 ', '378', '135',\n",
       "       '346', '363 ', '232', '400 ', '430 ', '385', '177', '320', '486',\n",
       "       '465', '560 ', '625', '440 ', '160 ', '296', '318', '392', '222',\n",
       "       '359 ', '341 ', '485', '284', '419', '508 ', '480 ', '341', '336',\n",
       "       '462 ', '320 ', '981', '235 ', '690', '550', '470', '589', '615',\n",
       "       '345', '220', '330 ', '232 ', '505', '535', '384', '170', '217',\n",
       "       '580', '755', '500 ', '390', '416', '504 ', '455', '170 ', '195',\n",
       "       '464 ', '510 ', '135 ', '315', '359', '565 ', '128', '251', '420 ',\n",
       "       '280 ', '368 ', '80', '340', '521 ', '284 ', '210', '506 ', '190',\n",
       "       '450 ', '300 ', '490', '380 ', '475 ', '504', '260 ', '595', '360',\n",
       "       '375', '376', '363', '780', '410', '505 ', '370', '890 ', '500',\n",
       "       '209', '454', '405 ', '825', '419 ', '527 ', '366', '223', '270',\n",
       "       '347', '436', '347 ', '430', '278', '217 ', '575', '352 ', '382',\n",
       "       '452', '495', '521', '258', '335', '696', '515', '421', '857',\n",
       "       '784', '360 ', '560', '740', '472', '1728', '458', '160', '483',\n",
       "       '194', '625 ', '398', '218', '218 ', '29 ', '308', '316 ', '586',\n",
       "       '909', '324', '290 ', '670 ', '488', '180 ', '220 ', '316', '132 ',\n",
       "       '205', '786', '558 ', '462', '48', '196', '200'], dtype=object)"
      ]
     },
     "execution_count": 51,
     "metadata": {},
     "output_type": "execute_result"
    }
   ],
   "source": [
    "df['Cargo Volumn'].unique()"
   ]
  },
  {
   "cell_type": "code",
   "execution_count": null,
   "metadata": {},
   "outputs": [],
   "source": [
    "df['Cargo Volumn'] = df['Cargo Volumn'].str.replace(\"-\",\"\")\n"
   ]
  },
  {
   "cell_type": "code",
   "execution_count": null,
   "metadata": {},
   "outputs": [],
   "source": [
    "df['Cargo Volumn'] = df['Cargo Volumn'].str.strip('-950')"
   ]
  },
  {
   "cell_type": "code",
   "execution_count": null,
   "metadata": {},
   "outputs": [],
   "source": [
    "df['Cargo Volumn'].head(50)"
   ]
  },
  {
   "cell_type": "code",
   "execution_count": null,
   "metadata": {},
   "outputs": [],
   "source": [
    "df['Cargo Volumn'].astype(int)"
   ]
  },
  {
   "cell_type": "code",
   "execution_count": null,
   "metadata": {},
   "outputs": [],
   "source": [
    "df['Cargo Volumn'].fillna(df['Cargo Volumn'].mode()[0], inplace=True)\n"
   ]
  },
  {
   "cell_type": "code",
   "execution_count": null,
   "metadata": {},
   "outputs": [
    {
     "data": {
      "text/html": [
       "<div>\n",
       "<style scoped>\n",
       "    .dataframe tbody tr th:only-of-type {\n",
       "        vertical-align: middle;\n",
       "    }\n",
       "\n",
       "    .dataframe tbody tr th {\n",
       "        vertical-align: top;\n",
       "    }\n",
       "\n",
       "    .dataframe thead th {\n",
       "        text-align: right;\n",
       "    }\n",
       "</style>\n",
       "<table border=\"1\" class=\"dataframe\">\n",
       "  <thead>\n",
       "    <tr style=\"text-align: right;\">\n",
       "      <th></th>\n",
       "      <th>it</th>\n",
       "      <th>bt</th>\n",
       "      <th>km</th>\n",
       "      <th>ownerNo</th>\n",
       "      <th>oem</th>\n",
       "      <th>model</th>\n",
       "      <th>modelYear</th>\n",
       "      <th>centralVariantId</th>\n",
       "      <th>variantName</th>\n",
       "      <th>price</th>\n",
       "      <th>...</th>\n",
       "      <th>Turning Radius</th>\n",
       "      <th>Front Brake Type</th>\n",
       "      <th>Rear Brake Type</th>\n",
       "      <th>Top Speed</th>\n",
       "      <th>Acceleration</th>\n",
       "      <th>Tyre Type</th>\n",
       "      <th>No Door Numbers</th>\n",
       "      <th>Cargo Volumn</th>\n",
       "      <th>Alloy Wheel Size</th>\n",
       "      <th>city</th>\n",
       "    </tr>\n",
       "  </thead>\n",
       "  <tbody>\n",
       "    <tr>\n",
       "      <th>0</th>\n",
       "      <td>0</td>\n",
       "      <td>Hatchback</td>\n",
       "      <td>1,20,000</td>\n",
       "      <td>3</td>\n",
       "      <td>Maruti</td>\n",
       "      <td>Maruti Celerio</td>\n",
       "      <td>2015</td>\n",
       "      <td>3979</td>\n",
       "      <td>VXI</td>\n",
       "      <td>₹ 4 Lakh</td>\n",
       "      <td>...</td>\n",
       "      <td>4.7 metres</td>\n",
       "      <td>Ventilated Disc</td>\n",
       "      <td>Drum</td>\n",
       "      <td>150 Kmph</td>\n",
       "      <td>15.05 Seconds</td>\n",
       "      <td>Tubeless, Radial</td>\n",
       "      <td>5</td>\n",
       "      <td>235</td>\n",
       "      <td>NaN</td>\n",
       "      <td>Bangalore</td>\n",
       "    </tr>\n",
       "    <tr>\n",
       "      <th>1</th>\n",
       "      <td>0</td>\n",
       "      <td>SUV</td>\n",
       "      <td>32,706</td>\n",
       "      <td>2</td>\n",
       "      <td>Ford</td>\n",
       "      <td>Ford Ecosport</td>\n",
       "      <td>2018</td>\n",
       "      <td>6087</td>\n",
       "      <td>1.5 Petrol Titanium BSIV</td>\n",
       "      <td>₹ 8.11 Lakh</td>\n",
       "      <td>...</td>\n",
       "      <td>5.3 metres</td>\n",
       "      <td>Ventilated Disc</td>\n",
       "      <td>Drum</td>\n",
       "      <td>NaN</td>\n",
       "      <td>NaN</td>\n",
       "      <td>Tubeless,Radial</td>\n",
       "      <td>4</td>\n",
       "      <td>352</td>\n",
       "      <td>16</td>\n",
       "      <td>Bangalore</td>\n",
       "    </tr>\n",
       "    <tr>\n",
       "      <th>2</th>\n",
       "      <td>0</td>\n",
       "      <td>Hatchback</td>\n",
       "      <td>11,949</td>\n",
       "      <td>1</td>\n",
       "      <td>Tata</td>\n",
       "      <td>Tata Tiago</td>\n",
       "      <td>2018</td>\n",
       "      <td>2983</td>\n",
       "      <td>1.2 Revotron XZ</td>\n",
       "      <td>₹ 5.85 Lakh</td>\n",
       "      <td>...</td>\n",
       "      <td>4.9 meters</td>\n",
       "      <td>Disc</td>\n",
       "      <td>Drum</td>\n",
       "      <td>150 kmph</td>\n",
       "      <td>14.3 Seconds</td>\n",
       "      <td>Tubeless</td>\n",
       "      <td>5</td>\n",
       "      <td>242</td>\n",
       "      <td>14</td>\n",
       "      <td>Bangalore</td>\n",
       "    </tr>\n",
       "    <tr>\n",
       "      <th>3</th>\n",
       "      <td>0</td>\n",
       "      <td>Sedan</td>\n",
       "      <td>17,794</td>\n",
       "      <td>1</td>\n",
       "      <td>Hyundai</td>\n",
       "      <td>Hyundai Xcent</td>\n",
       "      <td>2014</td>\n",
       "      <td>1867</td>\n",
       "      <td>1.2 Kappa S Option</td>\n",
       "      <td>₹ 4.62 Lakh</td>\n",
       "      <td>...</td>\n",
       "      <td>4.7 metres</td>\n",
       "      <td>Disc</td>\n",
       "      <td>Drum</td>\n",
       "      <td>172km/hr</td>\n",
       "      <td>14.2 Seconds</td>\n",
       "      <td>Tubeless,Radial</td>\n",
       "      <td>4</td>\n",
       "      <td>407</td>\n",
       "      <td>14</td>\n",
       "      <td>Bangalore</td>\n",
       "    </tr>\n",
       "    <tr>\n",
       "      <th>4</th>\n",
       "      <td>0</td>\n",
       "      <td>SUV</td>\n",
       "      <td>60,000</td>\n",
       "      <td>1</td>\n",
       "      <td>Maruti</td>\n",
       "      <td>Maruti SX4 S Cross</td>\n",
       "      <td>2015</td>\n",
       "      <td>4277</td>\n",
       "      <td>DDiS 200 Zeta</td>\n",
       "      <td>₹ 7.90 Lakh</td>\n",
       "      <td>...</td>\n",
       "      <td>5.2 meters</td>\n",
       "      <td>Ventilated Disc</td>\n",
       "      <td>Solid Disc</td>\n",
       "      <td>190 Kmph</td>\n",
       "      <td>12 Seconds</td>\n",
       "      <td>Tubeless,Radial</td>\n",
       "      <td>5</td>\n",
       "      <td>353</td>\n",
       "      <td>16</td>\n",
       "      <td>Bangalore</td>\n",
       "    </tr>\n",
       "    <tr>\n",
       "      <th>...</th>\n",
       "      <td>...</td>\n",
       "      <td>...</td>\n",
       "      <td>...</td>\n",
       "      <td>...</td>\n",
       "      <td>...</td>\n",
       "      <td>...</td>\n",
       "      <td>...</td>\n",
       "      <td>...</td>\n",
       "      <td>...</td>\n",
       "      <td>...</td>\n",
       "      <td>...</td>\n",
       "      <td>...</td>\n",
       "      <td>...</td>\n",
       "      <td>...</td>\n",
       "      <td>...</td>\n",
       "      <td>...</td>\n",
       "      <td>...</td>\n",
       "      <td>...</td>\n",
       "      <td>...</td>\n",
       "      <td>...</td>\n",
       "      <td>...</td>\n",
       "    </tr>\n",
       "    <tr>\n",
       "      <th>8364</th>\n",
       "      <td>0</td>\n",
       "      <td>Hatchback</td>\n",
       "      <td>10,000</td>\n",
       "      <td>1</td>\n",
       "      <td>Maruti</td>\n",
       "      <td>Maruti Celerio</td>\n",
       "      <td>2022</td>\n",
       "      <td>8682</td>\n",
       "      <td>ZXI BSVI</td>\n",
       "      <td>₹ 5.10 Lakh</td>\n",
       "      <td>...</td>\n",
       "      <td>NaN</td>\n",
       "      <td>Ventilated Disc</td>\n",
       "      <td>Drum</td>\n",
       "      <td>NaN</td>\n",
       "      <td>NaN</td>\n",
       "      <td>Tubeless, Radial</td>\n",
       "      <td>5</td>\n",
       "      <td>313</td>\n",
       "      <td>13</td>\n",
       "      <td>Kolkata</td>\n",
       "    </tr>\n",
       "    <tr>\n",
       "      <th>8365</th>\n",
       "      <td>0</td>\n",
       "      <td>Hatchback</td>\n",
       "      <td>1,20,000</td>\n",
       "      <td>1</td>\n",
       "      <td>Maruti</td>\n",
       "      <td>Maruti Alto 800</td>\n",
       "      <td>2014</td>\n",
       "      <td>3943</td>\n",
       "      <td>LXI</td>\n",
       "      <td>₹ 1.80 Lakh</td>\n",
       "      <td>...</td>\n",
       "      <td>4.6 metres</td>\n",
       "      <td>Solid Disc</td>\n",
       "      <td>Drum</td>\n",
       "      <td>140 kmph</td>\n",
       "      <td>19 Seconds</td>\n",
       "      <td>Tubeless Tyres</td>\n",
       "      <td>5</td>\n",
       "      <td>177</td>\n",
       "      <td>13</td>\n",
       "      <td>Kolkata</td>\n",
       "    </tr>\n",
       "    <tr>\n",
       "      <th>8366</th>\n",
       "      <td>0</td>\n",
       "      <td>Sedan</td>\n",
       "      <td>50,000</td>\n",
       "      <td>3</td>\n",
       "      <td>Mercedes-Benz</td>\n",
       "      <td>Mercedes-Benz C-Class</td>\n",
       "      <td>2011</td>\n",
       "      <td>4672</td>\n",
       "      <td>C 200 CGI Elegance</td>\n",
       "      <td>₹ 5.50 Lakh</td>\n",
       "      <td>...</td>\n",
       "      <td>5.42 metres</td>\n",
       "      <td>Ventilated Disc</td>\n",
       "      <td>Solid Disc</td>\n",
       "      <td>230km/hr</td>\n",
       "      <td>8.8 Seconds</td>\n",
       "      <td>Tubeless,Radial</td>\n",
       "      <td>4</td>\n",
       "      <td>475</td>\n",
       "      <td>17</td>\n",
       "      <td>Kolkata</td>\n",
       "    </tr>\n",
       "    <tr>\n",
       "      <th>8367</th>\n",
       "      <td>0</td>\n",
       "      <td>Hatchback</td>\n",
       "      <td>40,000</td>\n",
       "      <td>1</td>\n",
       "      <td>Maruti</td>\n",
       "      <td>Maruti Ritz</td>\n",
       "      <td>2012</td>\n",
       "      <td>4144</td>\n",
       "      <td>ZXi</td>\n",
       "      <td>₹ 1.40 Lakh</td>\n",
       "      <td>...</td>\n",
       "      <td>4.7 metres</td>\n",
       "      <td>Ventilated Disc</td>\n",
       "      <td>Drum</td>\n",
       "      <td>156 Kmph</td>\n",
       "      <td>15 Seconds</td>\n",
       "      <td>Tubeless,Radial</td>\n",
       "      <td>5</td>\n",
       "      <td>236</td>\n",
       "      <td>14</td>\n",
       "      <td>Kolkata</td>\n",
       "    </tr>\n",
       "    <tr>\n",
       "      <th>8368</th>\n",
       "      <td>0</td>\n",
       "      <td>SUV</td>\n",
       "      <td>1,20,000</td>\n",
       "      <td>2</td>\n",
       "      <td>Renault</td>\n",
       "      <td>Renault Duster</td>\n",
       "      <td>2017</td>\n",
       "      <td>5048</td>\n",
       "      <td>110PS Diesel RxZ AWD</td>\n",
       "      <td>₹ 5 Lakh</td>\n",
       "      <td>...</td>\n",
       "      <td>5.2 metres</td>\n",
       "      <td>Disc</td>\n",
       "      <td>Drum</td>\n",
       "      <td>168 Kmph</td>\n",
       "      <td>14.20 Seconds</td>\n",
       "      <td>Tubeless,Radial</td>\n",
       "      <td>5</td>\n",
       "      <td>410</td>\n",
       "      <td>16</td>\n",
       "      <td>Kolkata</td>\n",
       "    </tr>\n",
       "  </tbody>\n",
       "</table>\n",
       "<p>8369 rows × 57 columns</p>\n",
       "</div>"
      ],
      "text/plain": [
       "      it         bt        km  ownerNo            oem                  model  \\\n",
       "0      0  Hatchback  1,20,000        3         Maruti         Maruti Celerio   \n",
       "1      0        SUV    32,706        2           Ford          Ford Ecosport   \n",
       "2      0  Hatchback    11,949        1           Tata             Tata Tiago   \n",
       "3      0      Sedan    17,794        1        Hyundai          Hyundai Xcent   \n",
       "4      0        SUV    60,000        1         Maruti     Maruti SX4 S Cross   \n",
       "...   ..        ...       ...      ...            ...                    ...   \n",
       "8364   0  Hatchback    10,000        1         Maruti         Maruti Celerio   \n",
       "8365   0  Hatchback  1,20,000        1         Maruti        Maruti Alto 800   \n",
       "8366   0      Sedan    50,000        3  Mercedes-Benz  Mercedes-Benz C-Class   \n",
       "8367   0  Hatchback    40,000        1         Maruti            Maruti Ritz   \n",
       "8368   0        SUV  1,20,000        2        Renault         Renault Duster   \n",
       "\n",
       "      modelYear  centralVariantId               variantName        price  ...  \\\n",
       "0          2015              3979                       VXI     ₹ 4 Lakh  ...   \n",
       "1          2018              6087  1.5 Petrol Titanium BSIV  ₹ 8.11 Lakh  ...   \n",
       "2          2018              2983           1.2 Revotron XZ  ₹ 5.85 Lakh  ...   \n",
       "3          2014              1867        1.2 Kappa S Option  ₹ 4.62 Lakh  ...   \n",
       "4          2015              4277             DDiS 200 Zeta  ₹ 7.90 Lakh  ...   \n",
       "...         ...               ...                       ...          ...  ...   \n",
       "8364       2022              8682                  ZXI BSVI  ₹ 5.10 Lakh  ...   \n",
       "8365       2014              3943                       LXI  ₹ 1.80 Lakh  ...   \n",
       "8366       2011              4672        C 200 CGI Elegance  ₹ 5.50 Lakh  ...   \n",
       "8367       2012              4144                       ZXi  ₹ 1.40 Lakh  ...   \n",
       "8368       2017              5048      110PS Diesel RxZ AWD     ₹ 5 Lakh  ...   \n",
       "\n",
       "     Turning Radius Front Brake Type Rear Brake Type Top Speed   Acceleration  \\\n",
       "0        4.7 metres  Ventilated Disc            Drum  150 Kmph  15.05 Seconds   \n",
       "1        5.3 metres  Ventilated Disc            Drum       NaN            NaN   \n",
       "2        4.9 meters             Disc            Drum  150 kmph   14.3 Seconds   \n",
       "3        4.7 metres            Disc             Drum  172km/hr   14.2 Seconds   \n",
       "4        5.2 meters  Ventilated Disc      Solid Disc  190 Kmph     12 Seconds   \n",
       "...             ...              ...             ...       ...            ...   \n",
       "8364            NaN  Ventilated Disc            Drum       NaN            NaN   \n",
       "8365     4.6 metres       Solid Disc            Drum  140 kmph     19 Seconds   \n",
       "8366    5.42 metres  Ventilated Disc      Solid Disc  230km/hr    8.8 Seconds   \n",
       "8367     4.7 metres  Ventilated Disc            Drum  156 Kmph     15 Seconds   \n",
       "8368     5.2 metres             Disc            Drum  168 Kmph  14.20 Seconds   \n",
       "\n",
       "             Tyre Type No Door Numbers Cargo Volumn Alloy Wheel Size  \\\n",
       "0     Tubeless, Radial               5          235              NaN   \n",
       "1      Tubeless,Radial               4          352               16   \n",
       "2             Tubeless               5          242               14   \n",
       "3      Tubeless,Radial               4          407               14   \n",
       "4      Tubeless,Radial               5          353               16   \n",
       "...                ...             ...          ...              ...   \n",
       "8364  Tubeless, Radial               5          313               13   \n",
       "8365    Tubeless Tyres               5          177               13   \n",
       "8366   Tubeless,Radial               4          475               17   \n",
       "8367   Tubeless,Radial               5          236               14   \n",
       "8368   Tubeless,Radial               5          410               16   \n",
       "\n",
       "           city  \n",
       "0     Bangalore  \n",
       "1     Bangalore  \n",
       "2     Bangalore  \n",
       "3     Bangalore  \n",
       "4     Bangalore  \n",
       "...         ...  \n",
       "8364    Kolkata  \n",
       "8365    Kolkata  \n",
       "8366    Kolkata  \n",
       "8367    Kolkata  \n",
       "8368    Kolkata  \n",
       "\n",
       "[8369 rows x 57 columns]"
      ]
     },
     "execution_count": 7,
     "metadata": {},
     "output_type": "execute_result"
    }
   ],
   "source": [
    "df"
   ]
  },
  {
   "cell_type": "code",
   "execution_count": null,
   "metadata": {},
   "outputs": [
    {
     "data": {
      "text/plain": [
       "it                        0\n",
       "bt                        0\n",
       "km                        0\n",
       "ownerNo                   0\n",
       "oem                       0\n",
       "model                     0\n",
       "modelYear                 0\n",
       "centralVariantId          0\n",
       "variantName               0\n",
       "price                     0\n",
       "car_links                 0\n",
       "Top Feature 3             0\n",
       "Top Feature 4             0\n",
       "Top Feature 5             0\n",
       "Top Feature 6             0\n",
       "Top Feature 7             0\n",
       "Top Feature 8             0\n",
       "commonIcon                0\n",
       "Top Feature 9             1\n",
       "Insurance Validity        0\n",
       "Fuel Type                 0\n",
       "Seats                     6\n",
       "RTO                       0\n",
       "Transmission              0\n",
       "Mileage                 287\n",
       "Engine                    4\n",
       "Max Power                60\n",
       "Torque                   60\n",
       "Color                     0\n",
       "Engine Type               0\n",
       "No of Cylinder            0\n",
       "Values per Cylinder       0\n",
       "Value Configuration       0\n",
       "Fuel Suppy System         0\n",
       "Turbo Charger             0\n",
       "Super Charger             0\n",
       "Length                   79\n",
       "Width                    83\n",
       "Height                   79\n",
       "Wheel Base              163\n",
       "Front Tread            3558\n",
       "Rear Tread             3570\n",
       "Kerb Weight              59\n",
       "Gross Weight              0\n",
       "Gear Box                  0\n",
       "Drive Type                0\n",
       "Steering Type             0\n",
       "Turning Radius            0\n",
       "Front Brake Type          0\n",
       "Rear Brake Type           0\n",
       "Top Speed                 0\n",
       "Acceleration              0\n",
       "Tyre Type                 0\n",
       "No Door Numbers           0\n",
       "Cargo Volumn              0\n",
       "Alloy Wheel Size          1\n",
       "city                      0\n",
       "dtype: int64"
      ]
     },
     "execution_count": 308,
     "metadata": {},
     "output_type": "execute_result"
    }
   ],
   "source": [
    "df.isnull().sum()"
   ]
  },
  {
   "cell_type": "code",
   "execution_count": null,
   "metadata": {},
   "outputs": [
    {
     "data": {
      "text/plain": [
       "array(['15.05 ', nan, '14.3 ', '14.2 ', '12 ', '13.3 ', '12.36 ', '12.9 ',\n",
       "       '13.7 ', '12.5 ', '7.3', '10 ', '8.3 ', '4.8 ', '8 ', '7.9 ',\n",
       "       '18.6 ', '6.9 ', '6.1', '9.6 ', '13.2 ', '11.9 ', '12.07 ', '8.4 ',\n",
       "       '6.7 ', '6.1 ', '17.7 ', '7.8 ', '13.25 ', '14.7 ', '11 ', '10.5 ',\n",
       "       '7.7 ', '15 ', '13 ', '8.26 ', '15.6 ', '14.5 ', '7.9', '17.44 ',\n",
       "       '9.2 ', '6.6 ', '12.79 ', '19 ', '12.3 ', '8.9 ', '9.0 ', '12.96 ',\n",
       "       '10.86 ', '15.7 ', '13.69 ', '8.93 ', '12.04 ', '14.8 ', '10.61 ',\n",
       "       '12.51 ', '16.1 ', '8.3', '11.2 ', '6.5 ', '10.52 ', '13.24 ',\n",
       "       '14.9 ', '11.90 ', '16 ', '9.64 ', '12.93 ', '15.31 ', '13.5 ',\n",
       "       '7.5 ', '13.75 ', '14 ', '6.5', '44.04', '8.5 ', '8.6 ', '12.6 ',\n",
       "       '12.71', '7.4 ', '10.03 ', '12.29 ', '12.8  ', '14.4 ', '10.2 ',\n",
       "       '12.2 ', '6.0 ', '9.7 ', '17.55 ', '7.2 ', '11.41 ', '17.5 ',\n",
       "       '13.9 ', '11.5 ', '16.5 ', '9.8 ', '11.31 ', '10.62 ', '5.7',\n",
       "       ' 8.2 ', '8.2 ', '5.8 ', '11.8', '9 ', '9.1 ', '11.7', '10.3 ',\n",
       "       '13.57 ', '7.1 ', '9.99 ', '11.64 ', '14.1 ', '9.3 ', '11.07 ',\n",
       "       '10.82 ', '9.9', '8.8 ', '13.03 ', '11.46 ', '9.5 ', '17.7',\n",
       "       '9.9 ', '6.8 ', '14.2', '20 ', '12.4 ', '13.8 ', '30.3 ', '17.86 ',\n",
       "       '11.7 ', '8.1 ', '8.8', '17 ', '18.9 ', '5.7 ', '13.90 ', '16.29 ',\n",
       "       '13.1 ', '9.36 ', '17.6 ', '16.8 ', '20.5 ', '9.35 ', '16.2 ',\n",
       "       '7.3 ', '15.5 ', '10.8', '15.8 ', '8.77 ', '8.7 ', '15.4 ',\n",
       "       '13.07 ', '7.5', '7.6 ', '10.06 ', '14.20 ', '15.2 ', '13.6 ',\n",
       "       '10.76', '12.1 ', '6.8', '10.7 ', '10.42', '11.8 ', '12.43 ',\n",
       "       '6.2 ', '5.9 ', '11.27 ', '13.21 ', '12.14 ', '7.2', '6.3',\n",
       "       '16.80 ', '10.6 ', '11.3 ', '6.3 ', '21 ', '6.2', '14.85 ', '7.6',\n",
       "       '10.31 ', '10.9 ', '15.27 ', '21.9 ', '6.4 ', '10.60 ', '10.8 ',\n",
       "       '7 ', '15.35 ', '11.6 ', '10.5', '7.1', '22.3 ', '13.4 ', '22.39 ',\n",
       "       '16.18 ', '16.26 ', '21.2 ', '10.75 ', '5.6 ', '12.95 ', '11.1 ',\n",
       "       '5.5', '5.1', '10.1 ', '6.11 ', '11.68 ', '11.14 ', '6.6', '7.4',\n",
       "       '5.4 ', '8.9', '5.9', '8.0 ', '4.4 ', '4.8', '16.6 ', '4.5 ',\n",
       "       '16.81', '7.0 ', '13.42 ', '4.7 ', '11.2', '13.39 ', '12.85 ',\n",
       "       '17.30 ', '15.9 ', '11.43 ', '8.2', '18.2 ', '10.83 ', '11.4 ',\n",
       "       '12.8 ', '8.7', '11.94 ', '11.5  ', '8.5', '12.35 ', '14.6 ',\n",
       "       '13.6', '26.2 ', '9.89 ', '6.35 ', '4.9', '17.2 ', '16.4 ',\n",
       "       '17.8 ', '16.31 ', '3.7', '4.6 ', '8.54 ', '18.3 ', '5.6  ',\n",
       "       '9.43 ', '3.8 ', '12.98 ', '4.9 '], dtype=object)"
      ]
     },
     "execution_count": 74,
     "metadata": {},
     "output_type": "execute_result"
    }
   ],
   "source": [
    "df['Acceleration'].unique()"
   ]
  },
  {
   "cell_type": "code",
   "execution_count": null,
   "metadata": {},
   "outputs": [],
   "source": [
    "df['Acceleration'] = df['Acceleration'].str.replace(\"c\",\"\")"
   ]
  },
  {
   "cell_type": "code",
   "execution_count": null,
   "metadata": {},
   "outputs": [],
   "source": [
    "df['Acceleration'].fillna(df['Acceleration'].mode()[0], inplace=True)\n"
   ]
  },
  {
   "cell_type": "code",
   "execution_count": null,
   "metadata": {},
   "outputs": [
    {
     "data": {
      "text/plain": [
       "array(['150 ', nan, '172', '190 ', '180 ', '165 ', '172 ', '175 ', '219',\n",
       "       '195 ', '226', '250 ', '236 ', '222 ', '152 ', '240 ', '250',\n",
       "       '176 ', '170 ', '191', '232 ', '233 ', '137', '220 ', '215 ',\n",
       "       '154.19 ', '166 ', '183 ', '226 ', '160 ', '156 ', '185', '157 ',\n",
       "       '165', '159.4 ', '135 ', '185 ', '216 ', '200 ', '160.2 ', '230 ',\n",
       "       '216', '195.68 ', '158.83 ', '210 ', '168 ', '155 ', '177.22 ',\n",
       "       '163 ', '230', '164 ', '182', '186.08 ', '171.43 ', '178.55 ',\n",
       "       '182 ', '186', '189 ', '227', '164.26 ', '194 ', '242', '158',\n",
       "       '225 ', '242 ', '145 ', '160', '178 ', '164.1', '158 ', '190',\n",
       "       '196 ', '235', '148.5', '223', '171.92 ', '188 ', '151 ', '228 ',\n",
       "       '146 ', '202 ', '144', '213 ', '212 ', '237 ', '196', '208 ',\n",
       "       '202', '219 ', '217 ', '169 ', '186.69 ', '190  ', '80 ', '95 ',\n",
       "       '207 ', '167.99', '162.9', '162.41', '167 ', '173 ', '231 ',\n",
       "       '140 ', '161', '156', '245', '105 ', '117 ', '179 ', '205 ',\n",
       "       '153.98', '210', '105', '148', '186 ', '145', '154.6 ', '155.8 ',\n",
       "       '229 ', '224 ', '149 ', '154', '137 ', '228', '164.26', '152',\n",
       "       '235 ', '198', '154 ', '141.35', '183', '205', '144.93 ', '222',\n",
       "       ' ', '177 ', '243', '234 ', '  ', '151.63 ', '206 ', '157.3 ',\n",
       "       '225', '238', '125.67', '128.84', '248 ', '156.09', '247 ',\n",
       "       ' 185 ', '162 ', '151.2 ', '200.7 ', '150.49', '158.63 ', '130 ',\n",
       "       '175.61 ', '236', '180', '240', '138 ', '200', '170', '201',\n",
       "       '123.99', '136 ', '151.11 ', '165  ', '175', '193 ', '148.33 ',\n",
       "       '183.8', '209 ', '204 ', '163.81', '191 ', '246', '207', '221',\n",
       "       '221 ', '160.21', '220', '213', '259', '199 ', '239 ', '241 ',\n",
       "       '163', '162.9 ', '164.5 ', '232', '195', '206', '161.7 ', '141',\n",
       "       '133.9 ', '237', '160.58', '120 ', '209', '181 ', '171', '86 ',\n",
       "       '148.5 ', '180.5 ', '161 ', '191.7 ', '177', '150', '117', '155',\n",
       "       '163.81 ', '192 ', ' 160 ', '162', '141 ', '148 ', '126 ', '308',\n",
       "       '121.92', '129 ', '170.41 ', '285', '310 ', '259 ', '144.57',\n",
       "       '142.95', '168.56 ', '275 ', '215', '144 ', '171 '], dtype=object)"
      ]
     },
     "execution_count": 94,
     "metadata": {},
     "output_type": "execute_result"
    }
   ],
   "source": [
    "df['Top Speed'].unique()"
   ]
  },
  {
   "cell_type": "code",
   "execution_count": null,
   "metadata": {},
   "outputs": [],
   "source": [
    "df['Top Speed'] = df['Top Speed'].str.replace(\"Km\",\"\")"
   ]
  },
  {
   "cell_type": "code",
   "execution_count": null,
   "metadata": {},
   "outputs": [],
   "source": [
    "df['Top Speed'].fillna(df['Top Speed'].mode()[0], inplace=True)"
   ]
  },
  {
   "cell_type": "code",
   "execution_count": null,
   "metadata": {},
   "outputs": [
    {
     "data": {
      "text/plain": [
       "array(['4.7 ', '5.3 ', '4.9 ', '5.2 ', nan, '4.6 ', '5.4 ', '4.8 ',\n",
       "       '5.1 ', '5.6 ', '5.1', '4.8', '5.2', '6.15  ', '4.4 ', '6 ',\n",
       "       '5.8 ', '5.61 ', '5.6', '5.9 ', '5.95 ', '4.6', '6.2 ', '6.0 ',\n",
       "       '5 ', '5.5 ', '5.55 ', '5.3', '4.97 ', '5.05 ', '5.65 ', '4.5 ',\n",
       "       '4.9', '5.55', '4.5', '5.20 ', '6.4 ', '5.8', '5.9', '5.7 ', '5.4',\n",
       "       '5.75 ', '5.35 ', '5.05', '5.0', '5.5', '4.7', '4.85', '5.25 ',\n",
       "       '5', '4.35', '4.2', '4.1 ', '5.39', '5.52 ', '5.35', '6.28 ',\n",
       "       '5.0 ', '4.98', '4 ', '5.2 .', '5.75', '4.65 ', '4.0 ', '6.35',\n",
       "       '5.42 ', '5.20 .', '5.7', '5.45 ', '6.15 ', '6.05 ', '4.65',\n",
       "       '5.15  ', '6.25 ', '5.46 ', '6.45  ', '6.1 ', '4.4', '6.1',\n",
       "       '11.5 ', '4.85 ', '12 ', '11.4', '5.62 ', '4', '5.03', '5.85 ',\n",
       "       '6.25', '5.92 ', '6.42', '5.59 ', '11.6', '13.51', '6.45 ',\n",
       "       '13.51 ', '12.40 ', '5.26 ', '5.9  ', '5.25', '4.58', '4.85  ',\n",
       "       '5.15 ', '13', '11.6 ', '4.6  ', '5.02', '4.95', '6', '5.03 ',\n",
       "       '5.45  '], dtype=object)"
      ]
     },
     "execution_count": 121,
     "metadata": {},
     "output_type": "execute_result"
    }
   ],
   "source": [
    "df['Turning Radius'].unique()"
   ]
  },
  {
   "cell_type": "code",
   "execution_count": null,
   "metadata": {},
   "outputs": [],
   "source": [
    "df['Turning Radius'] = df['Turning Radius'].str.replace(\"M\",\"\")"
   ]
  },
  {
   "cell_type": "code",
   "execution_count": null,
   "metadata": {},
   "outputs": [
    {
     "name": "stderr",
     "output_type": "stream",
     "text": [
      "C:\\Users\\ADMIN\\AppData\\Local\\Temp\\ipykernel_3820\\1130999773.py:1: FutureWarning: A value is trying to be set on a copy of a DataFrame or Series through chained assignment using an inplace method.\n",
      "The behavior will change in pandas 3.0. This inplace method will never work because the intermediate object on which we are setting values always behaves as a copy.\n",
      "\n",
      "For example, when doing 'df[col].method(value, inplace=True)', try using 'df.method({col: value}, inplace=True)' or df[col] = df[col].method(value) instead, to perform the operation inplace on the original object.\n",
      "\n",
      "\n",
      "  df['Turning Radius'].fillna(df['Turning Radius'].mode()[0], inplace=True)\n"
     ]
    }
   ],
   "source": [
    "df['Turning Radius'].fillna(df['Turning Radius'].mode()[0], inplace=True)"
   ]
  },
  {
   "cell_type": "code",
   "execution_count": null,
   "metadata": {},
   "outputs": [],
   "source": [
    "df['Turning Radius'] = df['Turning Radius'].fillna(df['Turning Radius'].mode()[0])\n"
   ]
  },
  {
   "cell_type": "code",
   "execution_count": null,
   "metadata": {},
   "outputs": [
    {
     "data": {
      "text/plain": [
       "array(['5', '6', '7', '4', '8', '9', '', nan, '10', '1'], dtype=object)"
      ]
     },
     "execution_count": 274,
     "metadata": {},
     "output_type": "execute_result"
    }
   ],
   "source": [
    "df['Gear Box'].unique()"
   ]
  },
  {
   "cell_type": "code",
   "execution_count": null,
   "metadata": {},
   "outputs": [],
   "source": [
    "df['Gear Box'] = df['Gear Box'].str.replace(\"'nan'\",\"\")"
   ]
  },
  {
   "cell_type": "code",
   "execution_count": null,
   "metadata": {},
   "outputs": [],
   "source": [
    "df['Gear Box'] = df['Gear Box'].fillna(df['Gear Box'].mode()[0])"
   ]
  },
  {
   "cell_type": "code",
   "execution_count": null,
   "metadata": {},
   "outputs": [
    {
     "data": {
      "text/plain": [
       "array(['1250', '1660', nan, '1670', '1530', '1340', '2450', '2160',\n",
       "       '1335', '2730', '2055', '1350', '1730', '2165', '2510', '1640',\n",
       "       '2240', '1185', '1655', '1140', '2995', '1500', '1260', '1760',\n",
       "       '1405', '1585', '1860', '1430', '1750', '2060', '1360', '1720',\n",
       "       '1580', '1965', '2124', '1740', '2430', '1985', '2610', '2505',\n",
       "       '1787', '1813', '1455', '1620', '1915', '2220', '1680', '1758',\n",
       "       '1705', '1845', '1482', '1436', '2140', '1690', '2280', '1520',\n",
       "       '1505', '2300', '1490', '2320', '1890', '1650', '1315', '1980',\n",
       "       '1525', '1210', '2135', '1415', '1510', '1950', '2830', '1757',\n",
       "       '2010', '1764', '2030', '2225', '1615', '1770', '1410', '1459',\n",
       "       '1777', '1463', '1630', '1170', '1940', '2185', '2075', '2460',\n",
       "       '1920', '2189', '2555', '2950', '2500', '1600', '2005', '1235',\n",
       "       '1970', '2230', '2340', '2350', '2480', '1710', '1190', '2525',\n",
       "       '1595', '1820', '2150', '1781', '1795', '1310', '1382', '1700',\n",
       "       '1570', '1575', '2091', '2735', '2285', '1930', '2410', '2335',\n",
       "       '2625', '2090', '2250', '2880', '1448', '2115', '1895', '2650',\n",
       "       '1806', '1644', '2780', '2690', '1889', '2050', '2330', '1800',\n",
       "       '1540', '1320', '2145', '2025', '2470', '2925', '2795', '2910',\n",
       "       '3250', '2490', '1735', '2400', '1000', '1550', '1685', '1850',\n",
       "       '1438', '2449', '1433', '3265', '2100', '2315', '1435', '2493',\n",
       "       '2020', '1275', '1855', '1635', '2190', '2070', '1475', '2755',\n",
       "       '2200', '1766', '2045', '1590', '1665', '2360', '3200', '2530',\n",
       "       '2580', '2840', '1955', '3230', '2445', '1545', '1390', '2940',\n",
       "       '2345', '2715', '2270', '2870', '1480', '1645', '2815', '2105',\n",
       "       '3150', '1765', '2125', '2098', '1825', '2065', '1990', '1715',\n",
       "       '2515', '2130', '2000', '2235', '2680', '2370', '1971', '2210',\n",
       "       '2365', '1779', '3175', '3000', '1523', '2015', '1755', '1995',\n",
       "       '2720', '1533', '1704', '1566', '2215', '3350', '1535', '3490',\n",
       "       '1870', '1522', '2800', '1373', '1450', '2295', '1461', '2180',\n",
       "       '1554', '2265', '2375', '2120', '2035', '2390', '1604', '1910'],\n",
       "      dtype=object)"
      ]
     },
     "execution_count": 306,
     "metadata": {},
     "output_type": "execute_result"
    }
   ],
   "source": [
    "df['Gross Weight'].unique()"
   ]
  },
  {
   "cell_type": "code",
   "execution_count": null,
   "metadata": {},
   "outputs": [],
   "source": [
    "df['Gross Weight'] = df['Gross Weight'].str.replace(\"s\",\"\")"
   ]
  },
  {
   "cell_type": "code",
   "execution_count": null,
   "metadata": {},
   "outputs": [],
   "source": [
    "df['Gross Weight'] = df['Gross Weight'].str.strip(\",\")"
   ]
  },
  {
   "cell_type": "code",
   "execution_count": null,
   "metadata": {},
   "outputs": [],
   "source": [
    "df['Gross Weight'] = df['Gross Weight'].fillna(df['Gross Weight'].mode()[0])"
   ]
  },
  {
   "cell_type": "code",
   "execution_count": null,
   "metadata": {},
   "outputs": [],
   "source": [
    "df.to_csv('Car_dheko.csv',index=False)"
   ]
  },
  {
   "cell_type": "code",
   "execution_count": 183,
   "metadata": {},
   "outputs": [],
   "source": [
    "import pandas as pd\n",
    "# Load the dataset\n",
    "file_path = 'D:/Project 3 Cardheko/Car_dheko.csv'\n",
    "df = pd.read_csv(file_path, low_memory=False)"
   ]
  },
  {
   "cell_type": "code",
   "execution_count": 214,
   "metadata": {},
   "outputs": [
    {
     "data": {
      "text/plain": [
       "it                       0\n",
       "bt                       0\n",
       "km                       0\n",
       "ownerNo                  0\n",
       "oem                      0\n",
       "model                    0\n",
       "modelYear                0\n",
       "centralVariantId         0\n",
       "variantName              0\n",
       "price                    0\n",
       "car_links                0\n",
       "Top Feature 3            0\n",
       "Top Feature 4            0\n",
       "Top Feature 5            0\n",
       "Top Feature 6            0\n",
       "Top Feature 7            0\n",
       "Top Feature 8            0\n",
       "commonIcon               0\n",
       "Top Feature 9            1\n",
       "Insurance Validity       0\n",
       "Fuel Type                0\n",
       "Seats                    6\n",
       "RTO                      0\n",
       "Transmission             0\n",
       "Mileage                  0\n",
       "Engine                   4\n",
       "Max Power               60\n",
       "Torque                  60\n",
       "Color                    0\n",
       "Engine Type              0\n",
       "No of Cylinder           0\n",
       "Values per Cylinder      0\n",
       "Value Configuration      0\n",
       "Fuel Suppy System        0\n",
       "Turbo Charger            0\n",
       "Super Charger            0\n",
       "Length                  79\n",
       "Width                   83\n",
       "Height                  79\n",
       "Wheel Base             163\n",
       "Front Tread              0\n",
       "Rear Tread               0\n",
       "Kerb Weight             59\n",
       "Gross Weight             0\n",
       "Gear Box                 0\n",
       "Drive Type               0\n",
       "Steering Type            0\n",
       "Turning Radius           0\n",
       "Front Brake Type         0\n",
       "Rear Brake Type          0\n",
       "Top Speed                0\n",
       "Acceleration             0\n",
       "Tyre Type                0\n",
       "No Door Numbers          0\n",
       "Cargo Volumn             0\n",
       "Alloy Wheel Size         1\n",
       "city                     0\n",
       "dtype: int64"
      ]
     },
     "execution_count": 214,
     "metadata": {},
     "output_type": "execute_result"
    }
   ],
   "source": [
    "df.isnull().sum()"
   ]
  },
  {
   "cell_type": "code",
   "execution_count": 193,
   "metadata": {},
   "outputs": [
    {
     "data": {
      "text/plain": [
       "array(['1410', nan, '1420', '1493', '1445', '1525', '1596', '1503',\n",
       "       '1465', '1581', '1530', '1567', '1637', '1481', '1300', '1597',\n",
       "       '1551', '1290', '1520', '1588', '1630', '1540', '1515', '1582',\n",
       "       '1618', '1501', '1675', '1681', '1440', '1505', '1478', '1534',\n",
       "       '1480', '1463', '1490', '1385', '1585', '1535', '1368', '1500',\n",
       "       '1541', '1454', '1614', '1470', '1484', '1650', '1617', '1456',\n",
       "       '1565', '1510', '1620', '1485', '1524', '1570', '1604', '1495',\n",
       "       '1686', '1605', '1526', '1516', '1425', '1435', '1549', '1528',\n",
       "       '1666', '1600', '1626', '1522', '1318', '1545', '1583', '1636',\n",
       "       '1575', '1555', '1654', '1552', '1514', '1663', '1547', '1564',\n",
       "       '1190', '1532', '1566', '1562', '1558', '1610', '1388', '1627',\n",
       "       '1295', '1537', '1280', '1494', '1315', '1561', '1460', '1444',\n",
       "       '1502', '1632', '1335', '1529', '1574', '1360', '1384', '1544',\n",
       "       '1594', '1713', '1378', '1346', '1569', '1512', '1624', '1586',\n",
       "       '1685', '1475', '1559', '1400', '1458', '1340', '1691', '1550',\n",
       "       '1498', '1606', '1649', '1692', '1609', '1629', '1455', '1671',\n",
       "       '1496', '1560', '1430', '1380', '1639', '1568', '1450', '1405',\n",
       "       '1628', '1631', '1554', '1310', '1834', '1612', '1683', '1462',\n",
       "       '1546', '1615', '1613', '1350', '1577', '1665', '1659', '1356',\n",
       "       '1591', '1651'], dtype=object)"
      ]
     },
     "execution_count": 193,
     "metadata": {},
     "output_type": "execute_result"
    }
   ],
   "source": [
    "df['Rear Tread'].unique()"
   ]
  },
  {
   "cell_type": "code",
   "execution_count": 192,
   "metadata": {},
   "outputs": [],
   "source": [
    "df['Rear Tread'] = df['Rear Tread'].str.replace(\"`\",\"\")"
   ]
  },
  {
   "cell_type": "code",
   "execution_count": 194,
   "metadata": {},
   "outputs": [],
   "source": [
    "# Calculate the mode of the 'Rear Tread' column\n",
    "mode_value = df['Rear Tread'].mode()\n",
    "\n",
    "# Check if the mode is available, then fill NaN values with the mode\n",
    "if not mode_value.empty:\n",
    "    df['Rear Tread'] = df['Rear Tread'].fillna(mode_value[0])\n",
    "else:\n",
    "    print(\"No mode found for 'Rear Tread' column.\")\n",
    "\n"
   ]
  },
  {
   "cell_type": "code",
   "execution_count": 202,
   "metadata": {},
   "outputs": [
    {
     "data": {
      "text/plain": [
       "array(['1420', nan, '1400', '1479', '1440', '1515', '1617', '1505',\n",
       "       '1480', '1558', '1530', '1560', '1624', '1463', '1315', '1595',\n",
       "       '1564', '1295', '1510', '1588', '1605', '1540', '1569', '1627',\n",
       "       '1501', '1655', '1651', '1450', '1430', '1541', '1495', '1490',\n",
       "       '1539', '1470', '1536', '1386', '1457', '1546', '1460', '1475',\n",
       "       '1492', '1527', '1644', '1621', '1565', '1615', '1519', '1577',\n",
       "       '1585', '1485', '1666', '1559', '1555', '1531', '1520', '1435',\n",
       "       '1552', '1620', '1600', '1601', '1522', '1316', '1547', '1544',\n",
       "       '1571', '1572', '1496', '1641', '1553', '1521', '1648', '1549',\n",
       "       '1205', '1535', '1576', '1561', '1580', '1280', '1387', '1314',\n",
       "       '1500', '1476', '1325', '1545', '1474', '1616', '1443', '1598',\n",
       "       '1380', '1665', '1415', '1445', '1634', '1543', '1690', '1534',\n",
       "       '1405', '1589', '1376', '1365', '1679', '1611', '1590', '1705',\n",
       "       '1628', '1668', '1484', '1513', '1570', '1632', '1511', '1517',\n",
       "       '1578', '1618', '1639', '1640', '1395', '1689', '1594', '1626',\n",
       "       '1529', '1568', '1606', '1602', '1586', '1300', '1473', '1355',\n",
       "       '1465', '1619', '1408', '1591', '1680', '1597'], dtype=object)"
      ]
     },
     "execution_count": 202,
     "metadata": {},
     "output_type": "execute_result"
    }
   ],
   "source": [
    "df['Front Tread'].unique()"
   ]
  },
  {
   "cell_type": "code",
   "execution_count": 201,
   "metadata": {},
   "outputs": [],
   "source": [
    "df['Front Tread'] = df['Front Tread'].str.replace(\"mm\",\"\")"
   ]
  },
  {
   "cell_type": "code",
   "execution_count": 203,
   "metadata": {},
   "outputs": [],
   "source": [
    "# Calculate the mode of the 'Front Tread' column\n",
    "mode_value = df['Front Tread'].mode()\n",
    "\n",
    "# Check if the mode is available, then fill NaN values with the mode\n",
    "if not mode_value.empty:\n",
    "    df['Front Tread'] = df['Front Tread'].fillna(mode_value[0])\n",
    "else:\n",
    "    print(\"No mode found for 'Front Tread' column.\")\n",
    "\n"
   ]
  },
  {
   "cell_type": "code",
   "execution_count": 209,
   "metadata": {},
   "outputs": [
    {
     "data": {
      "text/plain": [
       "array(['23.1', '17', '23.84', '19.1', '23.65', '17.1', '20.63', '18.15',\n",
       "       '20.28', '21.4', '18.9', '18.2', '15.1', nan, '21.27', '17.33',\n",
       "       '17.8', '18.48', '22.38', '16.42', '7.81', '17.4', '20.3', '13.45',\n",
       "       '15', '17.11', '20.14', '20.51', '19.34', '12.6', '15.56', '11.5',\n",
       "       '19.87', '18.6', '22.54', '16.3', '18.53', '22.05', '12.05',\n",
       "       '16.5', '19.7', '11.3', '14.08', '12.07', '22', '21.5', '15.3',\n",
       "       '26.68', '21.14', '15.9', '19.67', '14.6', '28.4', '21.76',\n",
       "       '26.21', '19', '19.98', '18.5', '20', '16.8', '17.2', '21.13',\n",
       "       '24', '25.32', '16.55', '19.2', '24.04', '27.03', '16.56', '19.4',\n",
       "       '19.56', '20.92', '19.03', '21.1', '18.19', '17.41', '14.2',\n",
       "       '19.81', '14.8', '16', '18.4', '13.2', '14.1', '20.36', '13.24',\n",
       "       '14.16', '24.39', '10.91', '18.16', '20.89', '18.1', '16.35',\n",
       "       '15.97', '16.07', '16.38', '14.24', '17.9', '19.01', '25.2',\n",
       "       '19.6', '18', '17.21', '11.1', '11.4', '11.72', '13.32', '20.37',\n",
       "       '24.3', '18.27', '20.45', '18.7', '22.41', '20.77', '15.63',\n",
       "       '20.54', '21.19', '27.39', '17.92', '26', '10', '17.5', '11.18',\n",
       "       '23', '17.57', '14.21', '21.43', '20.65', '22.9', '14.5', '12.99',\n",
       "       '19.12', '13.8', '13.38', '14.7', '16.36', '18.24', '21.56',\n",
       "       '20.38', '23.7', '20.08', '10.9', '21.21', '15.43', '21.74',\n",
       "       '23.95', '19.27', '15.4', '22.07', '20.85', '17.01', '14.11',\n",
       "       '22.56', '20.5', '20.4', '20.73', '15.6', '14.67', '19.3', '14.71',\n",
       "       '17.69', '13.6', '21.72', '12.51', '16.2', '13', '17.74', '12.55',\n",
       "       '12.8', '22.35', '22.77', '25.24', '17.7', '13.06', '12.3',\n",
       "       '17.14', '21.03', '21.7', '23.2', '14.69', '22.5', '20.52',\n",
       "       '21.46', '22.69', '22.32', '21.01', '24.4', '17.42', '18.56',\n",
       "       '15.73', '17.68', '16.13', '13.79', '18.25', '18.3', '15.5',\n",
       "       '15.17', '14.99', '11.9', '15.29', '16.09', '16.47', '20.09',\n",
       "       '21.63', '15.26', '11.57', '17.03', '20.8', '17.19', '12', '23.9',\n",
       "       '20.04', '110', '14.59', '14', '18.45', '16.96', '12.65', '19.33',\n",
       "       '19.65', '22.15', '25', '14.82', '10.75', '21.73', '8', '16.1',\n",
       "       '20.68', '22.7', '11.36', '13.4', '18.49', '14.28', '17.88',\n",
       "       '16.11', '20.7', '16.82', '17.3', '20.46', '12.35', '15.04',\n",
       "       '18.75', '15.2', '18.12', '18.06', '11.7', '20.1', '22.74',\n",
       "       '28.09', '17.67', '20.88', '26.11', '22.1', '13.5', '24.52',\n",
       "       '20.25', '13.58', '10.54', '15.7', '19.64', '140', '13.68',\n",
       "       '16.24', '26.59', '13.7', '17.6', '19.69', '15.41', '14.9',\n",
       "       '17.52', '17.05', '24.7', '21.9', '25.4', '19.47', '21.66', '25.8',\n",
       "       '10.5', '14.4', '9', '19.09', '23.01', '22.25', '27.28', '21.64',\n",
       "       '22.61', '15.8', '18.09', '19.28', '18.78', '11.74', '8.9',\n",
       "       '15.85', '18.76', '16.95', '23.59', '14.84', '19.5', '21', '15.96',\n",
       "       '27.3', '18.88', '13.93', '14.74', '16.4', '16.28', '20.86',\n",
       "       '18.07', '21.79', '16.6', '13.9', '26.1', '13.92', '18.55',\n",
       "       '14.02', '31.59', '19.72', '14.57', '21.8', '15.37', '13.53',\n",
       "       '14.53', '13.22', '25.5', '14.75', '16.46', '19.02', '18.41',\n",
       "       '23.8', '14.3', '17.99', '15.81', '15.34', '19.08', '18.86',\n",
       "       '19.49', '22.95', '25.17', '16.14', '17.09', '18.97', '12.08',\n",
       "       '16.78', '19.23', '8.5', '25.6', '22.3', '18.72', '13.96', '16.65',\n",
       "       '12.62', '19.44', '14.62', '23.64', '19.71', '13.17', '19.15',\n",
       "       '23.56', '23.4', '19.62', '16.25', '27.62', '25.44', '20.71',\n",
       "       '9.8', '13.14', '11.33', '25.19', '24.29', '19.16', '16.73',\n",
       "       '19.83', '25.83', '12.2', '12.78', '14.49', '20.58', '24.35',\n",
       "       '14.19', '12.7', '26.49', '16.98', '16.02', '18.05', '24.2',\n",
       "       '15.64', '19.19', '13.01', '12.83', '11.24', '12.18', '18.8',\n",
       "       '26.2', '23.08', '22.37', '16.9', '19.59', '14.85', '12.74', '28',\n",
       "       '12.4', '12.5', '14.025', '19.89', '30.48', '33.54', '19.61',\n",
       "       '26.08', '12.1', '12.81', '9.2', '17.71', '16.34', '30.46',\n",
       "       '32.52', '11.21', '16.39', '11.2', '12.04', '11.67', '16.12',\n",
       "       '26.55', '7.08', '31.2', '12.33', '31.79', '11', '8.13', '35.6',\n",
       "       '16.72', '25.1', '22.48', '20.6', '14.01', '17.38', '12.34',\n",
       "       '10.8', '9.26', '12.95', '12.9', '16.7', '15.68', '10.4', '20.15',\n",
       "       '31.12', '26.8', '11.88', '18.69', '22.27', '15.01', '10.26',\n",
       "       '19.39', '14.34', '8.45', '12.63', '26.6', '13.47', '10.13',\n",
       "       '20.27', '14.09', '20.01', '14.47', '10.93', '26.83', '24.76',\n",
       "       '21.11', '14.23', '26.82', '17.32', '25.3', '19.95', '21.12',\n",
       "       '11.96', '21.02', '19.68', '18.23', '23.22', '17.97', '16.97',\n",
       "       '13.33', '27.4', '26.5', '25.01', '17.43', '22.71', '20.34',\n",
       "       '24.1', '30.47', '17.29', '21.49', '13.1', '18.43', '12.12',\n",
       "       '9.74', '16.77', '19.17', '21.38', '23.57', '24.8', '7.94',\n",
       "       '25.47', '18.33', '9.4', '7.5', '13.44', '14.94', '23.03', '15.39',\n",
       "       '24.97', '34.05', '17.85', '27.97', '20.62', '15.15', '19.8',\n",
       "       '14.95', '11.81', '12.98'], dtype=object)"
      ]
     },
     "execution_count": 209,
     "metadata": {},
     "output_type": "execute_result"
    }
   ],
   "source": [
    "df['Mileage'].unique()"
   ]
  },
  {
   "cell_type": "code",
   "execution_count": 208,
   "metadata": {},
   "outputs": [],
   "source": [
    "df['Mileage'] = df['Mileage'].str.replace(\" kmpl\",\"\")"
   ]
  },
  {
   "cell_type": "code",
   "execution_count": 213,
   "metadata": {},
   "outputs": [],
   "source": [
    "df['Mileage'] = df['Mileage'].fillna(df['Mileage'].mode()[0])"
   ]
  },
  {
   "cell_type": "code",
   "execution_count": 223,
   "metadata": {},
   "outputs": [
    {
     "data": {
      "text/plain": [
       "array(['3715', '3998', '3746', '3995', '4300', '4395', '3785', '4490',\n",
       "       '3765', '3955', '4585', '4436', '3993', '4440', '4841', '3845',\n",
       "       '4360', '5246', '3610', '3565', '5063', '4701', '4405', '3599',\n",
       "       '4686', '4936', '4695', '3985', '4530', '4933', '3445', '4430',\n",
       "       '3850', '4315', '5075', '3495', '5120', '4661', '5089', '3731',\n",
       "       '3994', '3810', '3695', '4386', '4270', '4598', '3840', '4824',\n",
       "       '4498', '4670', '3775', '3970', '4413', '3675', '4708', '3636',\n",
       "       '3585', '3679', '4635', '4720', '3620', '3991', '4390', '4425',\n",
       "       '4655', '4500', '4234', '4531', '4838', '4629', '3530', '3940',\n",
       "       '4892', '3886', '3700', '4886', '4520', '4475', '4795', '4656',\n",
       "       '4331', '3971', '4575', '4549', '4660', '5091', '4329', '4265',\n",
       "       '3999', '4384', '4560', '4852', '4755', '4868', '4620', '4140',\n",
       "       '4922', '4480', '4961', '3595', '4458', '4225', '4221', '4323',\n",
       "       '4250', '3545', '4359', '4375', '5115', '4572', '4861', '4160',\n",
       "       '4752', nan, '4580', '3714', '4600', '4705', '3990', '4586',\n",
       "       '4277', '4644', '3429', '3655', '4370', '5060', '3954', '4388',\n",
       "       '3795', '4915', '3992', '4699', '4726', '4731', '4292', '4803',\n",
       "       '4817', '4819', '4658', '4630', '4545', '3590', '2974', '3370',\n",
       "       '4659', '4509', '3690', '4735', '3760', '4439', '4597', '4815',\n",
       "       '3989', '3640', '3805', '3535', '4056', '4456', '4907', '4950',\n",
       "       '3395', '4222', '4296', '4435', '5150', '4247', '3981', '3099',\n",
       "       '4788', '3801', '4290', '4282', '4657', '4833', '4859', '3987',\n",
       "       '4525', '4477', '3430', '4879', '4540', '4648', '4305', '4541',\n",
       "       '4420', '4150', '5247', '4421', '3988', '4596', '5067', '3435',\n",
       "       '4891', '3827', '4369', '4591', '4650', '4769', '3920', '4324',\n",
       "       '4000', '4385', '4807', '4223', '4985', '3780', '4299', '4618',\n",
       "       '4107', '3500', '4709', '3515', '3600', '4095', '4249', '5052',\n",
       "       '5219', '3788', '4445', '4800', '5453', '5206', '5255', '4924',\n",
       "       '5207', '4955', '4097', '4663', '3335', '4554', '4570', '4963',\n",
       "       '3825', '4624', '4662', '4697', '3802', '4850', '4595', '4526',\n",
       "       '3982', '4417', '4310', '4797', '3941', '4365', '4355', '4507',\n",
       "       '4825', '4690', '4851', '4860', '3900', '5302', '4559', '4561',\n",
       "       '4988', '4885', '4975', '4318', '4482', '4400', '4486', '3815',\n",
       "       '3996', '5238', '4882', '4424', '3895', '4751', '5018', '3884',\n",
       "       '5226', '5000', '4429', '5064', '4253', '4939', '4890', '4940',\n",
       "       '4371', '4855', '4518', '5462', '4455', '5130', '3520', '4606',\n",
       "       '4762', '5010', '4535', '4685', '4447', '4691', '4869', '4143',\n",
       "       '5295', '4583', '5179', '4665', '4682', '4345', '4903', '4627',\n",
       "       '4693', '4569', '4767', '4010', '4781', '4410', '4291', '5200',\n",
       "       '4633', '4628', '4320', '4780', '4495', '4170', '5350', '4158',\n",
       "       '4673', '5215', '4870', '4716', '4637', '4377', '4017', '4749',\n",
       "       '3880', '4180', '4453', '4519', '4894', '4688', '4325', '4285',\n",
       "       '5252', '4970', '4574', '4820', '4546', '4823', '4765', '5015',\n",
       "       '4470'], dtype=object)"
      ]
     },
     "execution_count": 223,
     "metadata": {},
     "output_type": "execute_result"
    }
   ],
   "source": [
    "df['Length'].unique()"
   ]
  },
  {
   "cell_type": "code",
   "execution_count": 222,
   "metadata": {},
   "outputs": [],
   "source": [
    "df['Length'] = df['Length'].str.replace(\",\",\"\")"
   ]
  },
  {
   "cell_type": "code",
   "execution_count": 224,
   "metadata": {},
   "outputs": [],
   "source": [
    "df['Length'] = df['Length'].fillna(df['Length'].mode()[0])"
   ]
  },
  {
   "cell_type": "code",
   "execution_count": 256,
   "metadata": {},
   "outputs": [
    {
     "data": {
      "text/plain": [
       "it                      0\n",
       "bt                      0\n",
       "km                      0\n",
       "ownerNo                 0\n",
       "oem                     0\n",
       "model                   0\n",
       "modelYear               0\n",
       "centralVariantId        0\n",
       "variantName             0\n",
       "price                   0\n",
       "car_links               0\n",
       "Top Feature 3           0\n",
       "Top Feature 4           0\n",
       "Top Feature 5           0\n",
       "Top Feature 6           0\n",
       "Top Feature 7           0\n",
       "Top Feature 8           0\n",
       "commonIcon              0\n",
       "Top Feature 9           1\n",
       "Insurance Validity      0\n",
       "Fuel Type               0\n",
       "Seats                   6\n",
       "RTO                     0\n",
       "Transmission            0\n",
       "Mileage                 0\n",
       "Engine                  4\n",
       "Max Power              60\n",
       "Torque                 60\n",
       "Color                   0\n",
       "Engine Type             0\n",
       "No of Cylinder          0\n",
       "Values per Cylinder     0\n",
       "Value Configuration     0\n",
       "Fuel Suppy System       0\n",
       "Turbo Charger           0\n",
       "Super Charger           0\n",
       "Length                  0\n",
       "Width                   0\n",
       "Height                  0\n",
       "Wheel Base              0\n",
       "Front Tread             0\n",
       "Rear Tread              0\n",
       "Kerb Weight            59\n",
       "Gross Weight            0\n",
       "Gear Box                0\n",
       "Drive Type              0\n",
       "Steering Type           0\n",
       "Turning Radius          0\n",
       "Front Brake Type        0\n",
       "Rear Brake Type         0\n",
       "Top Speed               0\n",
       "Acceleration            0\n",
       "Tyre Type               0\n",
       "No Door Numbers         0\n",
       "Cargo Volumn            0\n",
       "Alloy Wheel Size        1\n",
       "city                    0\n",
       "dtype: int64"
      ]
     },
     "execution_count": 256,
     "metadata": {},
     "output_type": "execute_result"
    }
   ],
   "source": [
    "df.isnull().sum()"
   ]
  },
  {
   "cell_type": "code",
   "execution_count": 232,
   "metadata": {},
   "outputs": [
    {
     "data": {
      "text/plain": [
       "array(['1635', '1765', '1647', '1660', '1785', '1818', '1770', '1730',\n",
       "       '1745', '1694', '1890', '2020', '1710', '1811', '1695', '1846',\n",
       "       '1735', '1822', '2130', '1645', '1525', '1860', '2040', '1495',\n",
       "       '2126', '1840', '1734', '1775', '1874', '1515', '1817', '1727',\n",
       "       '1800', '2065', '1475', '2141', '1894', '2177', '1579', '1665',\n",
       "       '1655', '1699', '1780', '1828', '1751', '1814', '1680', '1682',\n",
       "       '1715', '2138', '1595', '2097', '1821', '1835', '1750', '1550',\n",
       "       '1790', '1819', '2089', '1490', '1690', '1739', '1938', '1850',\n",
       "       '1855', '1729', '2000', '1820', '1992', '1760', '1902', '1813',\n",
       "       '1900', '1854', '1776', '1634', '2218', '1877', '1796', '1809',\n",
       "       '1670', '2010', '1700', '1985', '1769', '1864', '1918', nan,\n",
       "       '1683', '2173', '2034', '1772', '1740', '1520', '1778', '1560',\n",
       "       '1704', '1620', '1788', '1737', '1891', '2019', '2086', '1600',\n",
       "       '1677', '1842', '1748', '2175', '1831', '1758', '1965', '1777',\n",
       "       '1575', '1505', '1410', '1839', '1755', '1830', '1687', '2099',\n",
       "       '2195', '1608', '2102', '1706', '1640', '1845', '1793', '2075',\n",
       "       '1733', '1703', '1686', '1725', '2058', '2071', '2098', '1752',\n",
       "       '1866', '2110', '1642', '2091', '1574', '2129', '1859', '1726',\n",
       "       '1984', '2112', '1960', '2047', '2184', '1926', '2220', '1827',\n",
       "       '2212', '2142', '1636', '1832', '1871', '2158', '2157', '2032',\n",
       "       '1789', '2140', '1440', '1781', '1742', '2031', '1917', '1882',\n",
       "       '1825', '2081', '1932', '1804', '2145', '1795', '2120', '1731',\n",
       "       '1705', '1880', '2106', '1815', '1863', '1810', '1945', '1865',\n",
       "       '2060', '1805', '1849', '2105', '1895', '1970', '2100', '1939',\n",
       "       '2022', '1976', '1847', '1980', '2006', '2033', '2133', '1799',\n",
       "       '1893', '1872', '2015', '1869', '1888', '1540', '1911', '2170',\n",
       "       '1722', '1764', '2041', '2096', '1625', '1898', '1897', '1826',\n",
       "       '2090', '1852', '1698', '1996', '1662', '1923', '1931', '2042'],\n",
       "      dtype=object)"
      ]
     },
     "execution_count": 232,
     "metadata": {},
     "output_type": "execute_result"
    }
   ],
   "source": [
    "df['Width'].unique()"
   ]
  },
  {
   "cell_type": "code",
   "execution_count": 231,
   "metadata": {},
   "outputs": [],
   "source": [
    "df['Width'] = df['Width'].str.replace(\"mm\",\"\")"
   ]
  },
  {
   "cell_type": "code",
   "execution_count": 233,
   "metadata": {},
   "outputs": [],
   "source": [
    "df['Width'] = df['Width'].fillna(df['Width'].mode()[0])"
   ]
  },
  {
   "cell_type": "code",
   "execution_count": 243,
   "metadata": {},
   "outputs": [
    {
     "data": {
      "text/plain": [
       "array(['1565', '1647', '1535', '1520', '1595', '1640', '1490', '1605',\n",
       "       '1485', '1510', '1544', '1785', '1611', '1505', '1606', '1495',\n",
       "       '1468', '1530', '1695', '1494', '1560', '1590', '1427', '1700',\n",
       "       '1690', '1442', '1466', '1850', '1470', '1455', '1475', '1975',\n",
       "       '1414', '1645', '1460', '1786', '1737', '1474', '1607', '1515',\n",
       "       '1555', '1630', '1706', '1508', '1697', '1476', '1620', '1453',\n",
       "       '1655', '1676', '1670', '1550', '1478', '1484', '1627', '1760',\n",
       "       '1500', '1467', '1675', '1665', '1635', '1573', '1421', '1482',\n",
       "       '1837', '1525', '1643', '1762', '1660', '1835', '1639', '1671',\n",
       "       '1469', '1680', '1446', '1538', '1626', '1685', '1708', '1487',\n",
       "       '1483', '1601', '1840', '1471', '1379', '1745', '1416', '1612',\n",
       "       '1650', '1370', '1390', '1557', '1755', '1621', nan, '1407',\n",
       "       '1724', '1617', '1652', '1642', '1540', '1567', '1541', '1429',\n",
       "       '1826', '1570', '1608', '1537', '1489', '1651', '1433', '1572',\n",
       "       '1922', '1796', '1644', '1844', '1432', '1585', '1465', '1523',\n",
       "       '1616', '1795', '1477', '1480', '1825', '1710', '1405', '1880',\n",
       "       '1740', '1420', '1855', '1995', '1895', '1464', '1904', '1691',\n",
       "       '1518', '1765', '1805', '1534', '1586', '1501', '1619', '1430',\n",
       "       '1678', '1450', '1545', '1462', '1661', '1750', '1674', '1507',\n",
       "       '1774', '1448', '1513', '1940', '1447', '1457', '1546', '1532',\n",
       "       '1719', '1440', '1977', '1925', '1698', '1930', '1522', '1784',\n",
       "       '1409', '1867', '1564', '1905', '1803', '1488', '1800', '1435',\n",
       "       '1395', '1503', '1481', '1498', '1473', '1772', '1823', '1561',\n",
       "       '1659', '1441', '1459', '1443', '1615', '1666', '1857', '1776',\n",
       "       '1425', '1603', '1445', '1493', '1713', '1588', '1411', '1846',\n",
       "       '1548', '1656', '1812', '1672', '1479', '1848', '1967', '1598',\n",
       "       '1703', '1720', '1888', '1649', '1705', '1558', '1624', '1969',\n",
       "       '1415', '1497', '1653', '1950', '1838', '1945', '1303', '1437',\n",
       "       '1393', '1845', '1669', '1402', '1456', '1875', '1779', '1496',\n",
       "       '1868', '1542', '1486', '1780', '1562', '1817', '1810', '1575',\n",
       "       '1865', '1900', '1539', '1300', '1369', '1658', '1549', '1593',\n",
       "       '1976', '1418', '1600', '1288', '1308'], dtype=object)"
      ]
     },
     "execution_count": 243,
     "metadata": {},
     "output_type": "execute_result"
    }
   ],
   "source": [
    "df['Height'].unique()"
   ]
  },
  {
   "cell_type": "code",
   "execution_count": 242,
   "metadata": {},
   "outputs": [],
   "source": [
    "df['Height'] = df['Height'].str.replace(\"-1501\",\"\")"
   ]
  },
  {
   "cell_type": "code",
   "execution_count": 244,
   "metadata": {},
   "outputs": [],
   "source": [
    "df['Height'] = df['Height'].fillna(df['Height'].mode()[0])"
   ]
  },
  {
   "cell_type": "code",
   "execution_count": 254,
   "metadata": {},
   "outputs": [
    {
     "data": {
      "text/plain": [
       "array(['2425', '2519', '2400', '2600', '2636', '2450', '2500', '2650',\n",
       "       '2520', '2530', '2700', '2729', '2525', '2498', '2888', '2673',\n",
       "       '3165', '2380', '3079', '2808', '2740', '2840', '2975', '2750',\n",
       "       '2570', '2912', '2360', '2680', '2495', '2610', '3075', '2741',\n",
       "       '3002', '2422', '2455', '2435', '2552', '2590', '2920', '2810',\n",
       "       '2688', '2580', '2550', '2456', '2385', '2864', '2776', '2345',\n",
       "       '2553', '2760', '2761', '2807', '2850', '2491', nan, '2933',\n",
       "       '2670', '2745', '2873', '2469', '2620', '3070', '2854', '2555',\n",
       "       '2835', '2874', '2430', '2486', '2909', '2470', '2637', '2651',\n",
       "       '2585', '2440', '2699', '3060', '2578', '2841', '2390', '2467',\n",
       "       '2702', '2642', '2630', '2633', '2348', '2490', '2860', '2603',\n",
       "       '2489', '2820', '2803', '2915', '2258', '2010', '1840', '2648',\n",
       "       '2679', '2501', '2685', '2775', '2510', '2375', '2350', '2730',\n",
       "       '2335', '2660', '2443', '2968', '2800', '3105', '2540', '2230',\n",
       "       '3014', '2780', '2720', '2787', '2405', '3157', '2462', '2960',\n",
       "       '2373', '2794', '2782', '2690', '2465', '2857', '2595', '2950',\n",
       "       '2923', '2703', '2365', '2994', '3210', '3365', '2995', '3135',\n",
       "       '3050', '2819', '2175', '2961', '2575', '2941', '2445', '2662',\n",
       "       '2791', '2984', '2567', '2480', '2512', '2845', '2652', '3127',\n",
       "       '2774', '2922', '2825', '2870', '2593', '2677', '3008', '2460',\n",
       "       '3022', '2790', '2999', '2939', '2930', '2681', '2895', '3000',\n",
       "       '3095', '2640', '2865', '3128', '2786', '3120', '2647', '2711',\n",
       "       '3150', '2705', '3264', '2725', '2855', '2464', '2795', '2622'],\n",
       "      dtype=object)"
      ]
     },
     "execution_count": 254,
     "metadata": {},
     "output_type": "execute_result"
    }
   ],
   "source": [
    "df['Wheel Base'].unique()"
   ]
  },
  {
   "cell_type": "code",
   "execution_count": 253,
   "metadata": {},
   "outputs": [],
   "source": [
    "df['Wheel Base'] = df['Wheel Base'].str.replace(\",\",\"\")"
   ]
  },
  {
   "cell_type": "code",
   "execution_count": 255,
   "metadata": {},
   "outputs": [],
   "source": [
    "df['Wheel Base'] = df['Wheel Base'].fillna(df['Wheel Base'].mode()[0])"
   ]
  },
  {
   "cell_type": "code",
   "execution_count": 257,
   "metadata": {},
   "outputs": [
    {
     "data": {
      "text/plain": [
       "array([ 5.        ,  6.        ,  7.        ,  4.        ,  8.        ,\n",
       "        9.        ,  5.47378071, 10.        ,  1.        ])"
      ]
     },
     "execution_count": 257,
     "metadata": {},
     "output_type": "execute_result"
    }
   ],
   "source": [
    "df['Gear Box'].unique()"
   ]
  },
  {
   "cell_type": "code",
   "execution_count": 259,
   "metadata": {},
   "outputs": [],
   "source": [
    "# Fill NaN with the mean of the column and convert to integers\n",
    "df['Gear Box'] = df['Gear Box'].fillna(df['Gear Box'].mean()).astype(int)\n",
    "\n",
    "\n",
    "\n"
   ]
  },
  {
   "cell_type": "code",
   "execution_count": 358,
   "metadata": {},
   "outputs": [
    {
     "data": {
      "text/plain": [
       "array(['835', '1242', '1012', '1180', '1230', '1551', '1070', '1440',\n",
       "       '1105', '870', '1200', '1066', '1900', '1562', '1675', '1120',\n",
       "       '1315', '1049', '1600', '875', '2200', '1050', '845', '1585',\n",
       "       '1595', '1940', '1650', '1140', '885', '1170', '1655', '1955',\n",
       "       '1375', '1515', '880', '1329', '1735', '762', '1990', '1250',\n",
       "       '1535', '1980', '705', '2535', '1825', '1060', '2345', '1970',\n",
       "       '750', '1305', '1095', '815', '1206', '1225', '1320', '1700',\n",
       "       '960', '850', '1720', '1360', '1376', '980', '1015', '1260',\n",
       "       '1380', '1192', '1025', '1040', '1135', '1865', '890', '860',\n",
       "       '730', '1652', '1835', '1345', '1820', '925', '910', '760', '1086',\n",
       "       '1179', '1525', '1730', '900', '1300', '1465', '2020', '1350',\n",
       "       '840', '1445', '1580', '1608', '1100', '1830', '755', '1020',\n",
       "       '1879', '855', '1670', '935', '2010', '947', '930', '2060', '1455',\n",
       "       '1537', '2360', '1745', '1238', '1954', '1390', '1285', '1080',\n",
       "       '1109', '1274', '1158', '1395', '1885', '950', '1325', '1190',\n",
       "       '1340', '1530', '1240', '1296', '1042', '1960', '1044', '1255',\n",
       "       '985', '1235', '1107', '1115', '1220', '1061', '1840', '825',\n",
       "       '1150', '1640', '1210', '1103', '1304', '1800', '1680', '1030',\n",
       "       '1175', '1780', '1072', '1065', '1490', '1245', '1770', '1205',\n",
       "       '895', '1460', '1450', '1039', '745', '784', '1641', '970', '1275',\n",
       "       '1160', '1085', '1125', '940', '1425', '1290', '2195', '865',\n",
       "       '1635', '1330', '1540', '1890', '1045', '1660', '1785', '1138',\n",
       "       '1165', '1228', '2152', '1280', '1880', '1055', '1195', '1106',\n",
       "       '1288', '920', '1084', '810', '1155', '1470', '1088', '736',\n",
       "       '1725', '820', '1403', '1915', '1010', '1064', '770', '779',\n",
       "       '1016', '830', '699', '1620', '990', '2014', '1715', '915', '1710',\n",
       "       '1035', '1520', '1495', '1277', '1775', '1208', '1630', '1014',\n",
       "       nan, '1604', '1310', '1145', '1053', '2095', '1281', '2160',\n",
       "       '2175', '1550', '1185', '1555', '1570', '1252', '1430', '1201',\n",
       "       '1270', '1130', '1090', '785', '982', '1439', '1703', '1036',\n",
       "       '1400', '1790', '1184', '1590', '955', '995', '1510', '765',\n",
       "       '2045', '1121', '939', '1845', '2000', '1795', '1625', '720',\n",
       "       '1543', '774', '1265', '2370', '1760', '1860', '1059', '600',\n",
       "       '945', '1139', '1351', '1567', '1740', '1598', '1755', '1485',\n",
       "       '1365', '727', '1750', '710', '1046', '1038', '800', '1335',\n",
       "       '1182', '1773', '690', '1097', '1815', '1575', '1565', '2240',\n",
       "       '1092', '1048', '1610', '2040', '1545', '1475', '1258', '1615',\n",
       "       '1152', '805', '1685', '2145', '2500', '2230', '1309', '2132',\n",
       "       '726', '1355', '625', '757', '2115', '1110', '1173', '1246',\n",
       "       '1690', '1415', '965', '1163', '943', '1560', '2220', '1146',\n",
       "       '1198', '2330', '1855', '905', '1405', '1069', '1761', '1233',\n",
       "       '2280', '1995', '1468', '1298', '1029', '1805', '1041', '2150',\n",
       "       '1112', '2505', '917', '1920', '1218', '1644', '924', '1945',\n",
       "       '1142', '2030', '650', '1816', '1187', '1796', '921', '1420',\n",
       "       '2962', '1354', '1063', '907', '1500', '1799', '1062', '2350',\n",
       "       '1645', '1312', '1026', '1058', '1137', '2515', '1705', '1870',\n",
       "       '842', '882', '1054', '1215', '', '1779', '635', '1505', '1857',\n",
       "       '1052', '1895', '1023', '1302', '1154', '2550', '1404', '1278',\n",
       "       '1075', '1081', '942', '2750', '1268', '1765', '2001', '1612',\n",
       "       '1148', '2210', '1668', '1435', '1022', '1695', '675', '1212',\n",
       "       '2376', '1665', '1234', '913', '846', '1385', '1370', '2027',\n",
       "       '1850', '2186', '1950', '2270', '2460', '1248', '1905', '1875',\n",
       "       '2184', '1087', '2600', '1866', '2100', '1787', '2110', '2560',\n",
       "       '2245', '1168', '831', '1667', '2455', '1930', '2489', '1925',\n",
       "       '2064', '847', '2080', '1994', '2900', '2700', '1729', '1628',\n",
       "       '1497', '1480', '1871', '1579', '725', '1031', '1810', '1614',\n",
       "       '1027', '1000', '1239', '1111', '1216', '854', '1935', '1211',\n",
       "       '1005', '2235', '1153', '665', '2310', '1232', '886', '1210.',\n",
       "       '1910', '722', '1389', '1161', '1231', '1813', '2185', '1013',\n",
       "       '1766', '2675', '1533', '1021', '1651', '1269', '1561', '2410',\n",
       "       '975', '1605', '1132', '1547', '928', '1191', '1102', '2425',\n",
       "       '1295', '1131', '1124', '1965', '1147', '2155', '1306', '1776',\n",
       "       '1851', '1410', '993', '1289', '1459', '1681', '1104', '1874',\n",
       "       '2250', '1824', '1217', '1261', '1527', '695', '1188', '1033',\n",
       "       '2440'], dtype=object)"
      ]
     },
     "execution_count": 358,
     "metadata": {},
     "output_type": "execute_result"
    }
   ],
   "source": [
    "df['Kerb Weight'].unique()"
   ]
  },
  {
   "cell_type": "code",
   "execution_count": 357,
   "metadata": {},
   "outputs": [],
   "source": [
    "df['Kerb Weight'] = df['Kerb Weight'].str.replace(\"''\",\"nan\")"
   ]
  },
  {
   "cell_type": "code",
   "execution_count": 361,
   "metadata": {},
   "outputs": [],
   "source": [
    "df['Kerb Weight'] = df['Kerb Weight'].fillna(df['Kerb Weight'].mode()[0])"
   ]
  },
  {
   "cell_type": "code",
   "execution_count": 415,
   "metadata": {},
   "outputs": [
    {
     "data": {
      "text/plain": [
       "it                     0\n",
       "bt                     0\n",
       "km                     0\n",
       "ownerNo                0\n",
       "oem                    0\n",
       "model                  0\n",
       "modelYear              0\n",
       "centralVariantId       0\n",
       "variantName            0\n",
       "price                  0\n",
       "car_links              0\n",
       "Top Feature 3          0\n",
       "Top Feature 4          0\n",
       "Top Feature 5          0\n",
       "Top Feature 6          0\n",
       "Top Feature 7          0\n",
       "Top Feature 8          0\n",
       "commonIcon             0\n",
       "Top Feature 9          1\n",
       "Insurance Validity     0\n",
       "Fuel Type              0\n",
       "Seats                  0\n",
       "RTO                    0\n",
       "Transmission           0\n",
       "Mileage                0\n",
       "Engine                 0\n",
       "Max Power              0\n",
       "Torque                 0\n",
       "Color                  0\n",
       "Engine Type            0\n",
       "No of Cylinder         0\n",
       "Values per Cylinder    0\n",
       "Value Configuration    0\n",
       "Fuel Suppy System      0\n",
       "Turbo Charger          0\n",
       "Super Charger          0\n",
       "Length                 0\n",
       "Width                  0\n",
       "Height                 0\n",
       "Wheel Base             0\n",
       "Front Tread            0\n",
       "Rear Tread             0\n",
       "Kerb Weight            0\n",
       "Gross Weight           0\n",
       "Gear Box               0\n",
       "Drive Type             0\n",
       "Steering Type          0\n",
       "Turning Radius         0\n",
       "Front Brake Type       0\n",
       "Rear Brake Type        0\n",
       "Top Speed              0\n",
       "Acceleration           0\n",
       "Tyre Type              0\n",
       "No Door Numbers        0\n",
       "Cargo Volumn           0\n",
       "Alloy Wheel Size       0\n",
       "city                   0\n",
       "dtype: int64"
      ]
     },
     "execution_count": 415,
     "metadata": {},
     "output_type": "execute_result"
    }
   ],
   "source": [
    "df.isnull().sum()"
   ]
  },
  {
   "cell_type": "code",
   "execution_count": 363,
   "metadata": {},
   "outputs": [
    {
     "data": {
      "text/plain": [
       "0     67.04\n",
       "1    121.31\n",
       "2        84\n",
       "3     81.86\n",
       "4      88.5\n",
       "Name: Max Power, dtype: object"
      ]
     },
     "execution_count": 363,
     "metadata": {},
     "output_type": "execute_result"
    }
   ],
   "source": [
    "# Use str.replace to remove \"bhp\" and \"@xxxxrpm\"\n",
    "df['Max Power'] = df['Max Power'].str.replace('bhp', '', regex=True)  # Remove 'bhp'\n",
    "df['Max Power'] = df['Max Power'].str.replace(r'@\\d+rpm', '', regex=True)  # Remove '@xxxxrpm'\n",
    "df['Max Power'].head()\n"
   ]
  },
  {
   "cell_type": "code",
   "execution_count": 364,
   "metadata": {},
   "outputs": [],
   "source": [
    "df['Max Power'] = df['Max Power'].fillna(df['Max Power'].mode()[0])"
   ]
  },
  {
   "cell_type": "code",
   "execution_count": 400,
   "metadata": {},
   "outputs": [
    {
     "data": {
      "text/plain": [
       "array(['90', '150', '114', '113.75', '200', '350', '104', '171.6', '138',\n",
       "       '115', '110', '330', '400', '219.6', '170', '145', '35.7', '113',\n",
       "       '142', '700', '99', '96.1', '300', '380', '343', '245', '114.7',\n",
       "       '219.7', '177.5', '69', '290', '280', '242', '600', '62', '117',\n",
       "       '619', '550', '91', '260', '89', '250', '149', '259.9', '190',\n",
       "       '171.62', '146', '175', '160', '113.7', '99.04', '620', '109',\n",
       "       '96', '74.5', '140', '191', '151', '34.7', '320', '111.8', '11.4',\n",
       "       '470', '112', '111.7', '560', '400.11', '420', '248', '218', '230',\n",
       "       '181', '436.4', '240', '259.87', '220', '402', '205', '500', '130',\n",
       "       '10.7', '17.8', '450', '84', '172', '240.26', '178', '25.1', '144',\n",
       "       '124.5', '180', '154.9', '440', '25.5', '207', '360', '95', '20.4',\n",
       "       '254', '152', '143.8', '148', '22.9', '119', '259.8', '215', '430',\n",
       "       nan, '153', '114.73', '224', '226', '70', '102', '6.1', '114.74',\n",
       "       '180.4', '13.1', '11.5', '204', '327', '212', '108', '173', '85',\n",
       "       '98', '113.8', '14.9', '78', '12.7', '319', '182.5', '222',\n",
       "       '121.5', '122', '365', '90.3', '171', '11', '126', '4.8', '195',\n",
       "       '116', '25.2', '12.5', '197', '25', '113.76', '136.8', '72', '35',\n",
       "       '172.5', '51', '136', '13.5', '515', '155', '135', '42', '16.3',\n",
       "       '520', '9.4', '132', '219.66', '247', '120', '540', '373.5', '60',\n",
       "       '209', '101', '94.14', '108.5', '580', '385', '33', '50', '190.24',\n",
       "       '210', '370', '59', '192.2', '124.6', '253', '22.4', '340', '480',\n",
       "       '100', '125', '22.6', '800', '213', '19', '270', '127', '285',\n",
       "       '8.5', '190.25', '142.5', '640', '10.4', '132.3', '16', '436.39',\n",
       "       '186', '32.6', '196', '134', '221', '202', '95.2', '84.33', '490',\n",
       "       '335', '134.2', '478.5', '850', '475', '8.6', '82.1', '192.21',\n",
       "       '225', '99.1', '98.5', '132.38', '24.5', '77', '174', '345',\n",
       "       '147.6', '689', '355', '54', '103', '510', '259.88', '23.6', '7.8',\n",
       "       '135.3', '24', '28.3', '265', '104.4', '135.4', '97.96', '760',\n",
       "       '187', '11.8', '12', '424', '16.1', '20', '275', '88.4', '382',\n",
       "       '395', '9.8', '13', '11.3', '530', '17.5', '99.07', '85.32', '106',\n",
       "       '650', '106.5', '192', '12.9', '460', '233'], dtype=object)"
      ]
     },
     "execution_count": 400,
     "metadata": {},
     "output_type": "execute_result"
    }
   ],
   "source": [
    "df['Torque'].unique()"
   ]
  },
  {
   "cell_type": "code",
   "execution_count": 399,
   "metadata": {},
   "outputs": [],
   "source": [
    "df['Torque'] = df['Torque'].str.replace(\"at1750rpm\",\"\")"
   ]
  },
  {
   "cell_type": "code",
   "execution_count": 401,
   "metadata": {},
   "outputs": [],
   "source": [
    "df['Torque'] = df['Torque'].fillna(df['Torque'].mode()[0])"
   ]
  },
  {
   "cell_type": "code",
   "execution_count": 405,
   "metadata": {},
   "outputs": [
    {
     "data": {
      "text/plain": [
       "array(['5', '7', '4', '6', '8', '10', nan, '9', '2'], dtype=object)"
      ]
     },
     "execution_count": 405,
     "metadata": {},
     "output_type": "execute_result"
    }
   ],
   "source": [
    "df['Seats'].unique()"
   ]
  },
  {
   "cell_type": "code",
   "execution_count": 404,
   "metadata": {},
   "outputs": [],
   "source": [
    "df['Seats'] = df['Seats'].str.replace(\" Seats\",\"\")"
   ]
  },
  {
   "cell_type": "code",
   "execution_count": 406,
   "metadata": {},
   "outputs": [],
   "source": [
    "df['Seats'] = df['Seats'].fillna(df['Seats'].mode()[0])"
   ]
  },
  {
   "cell_type": "code",
   "execution_count": 410,
   "metadata": {},
   "outputs": [
    {
     "data": {
      "text/plain": [
       "array(['998', '1497', '1199', '1197', '1248', '1956', '1198', '1462',\n",
       "       '2179', '1950', '1396', '1995', '1498', '4663', '1086', '1991',\n",
       "       '1968', '1998', '2982', '1461', '1797', '796', '1353', '2925',\n",
       "       '2987', '2967', '999', '1341', '1496', '1582', '1798', '1120',\n",
       "       '1969', '1451', '814', '1999', '1591', '1397', '1368', '1598',\n",
       "       '3198', '1196', '2993', '2755', '2143', '2354', '1332', '2199',\n",
       "       '1997', '1499', '2148', '2696', '1364', '2494', '1373', '1299',\n",
       "       '1061', '1493', '2497', '1495', '1590', '1896', '1330', '1781',\n",
       "       '1390', '1194', '2953', '1399', '1595', nan, '2496', '0', '1984',\n",
       "       '2694', '1298', '2362', '970', '2198', '1599', '993', '2393',\n",
       "       '1389', '1597', '2498', '2523', '1586', '995', '2499', '2998',\n",
       "       '72', '1589', '624', '1596', '799', '3597', '2184', '1405', '5000',\n",
       "       '1422', '1047', '2200', '2996', '1108', '2400', '1996', '1395',\n",
       "       '1186', '1799', '2999', '1482', '793', '936', '4134', '1796',\n",
       "       '1172', '1468', '1193', '2477', '2997', '2995', '2487', '1794',\n",
       "       '3456', '2360', '3982', '2894', '3346', '3498', '2979', '1349',\n",
       "       '2157', '1985', '2112', '2446', '2359', '2609', '2956', '2231',\n",
       "       '2835', '1150', '1343', '2981', '4395', '1817', '3993', '1948',\n",
       "       '4806', '2994', '1993', '1490', '2489'], dtype=object)"
      ]
     },
     "execution_count": 410,
     "metadata": {},
     "output_type": "execute_result"
    }
   ],
   "source": [
    "df['Engine'].unique()"
   ]
  },
  {
   "cell_type": "code",
   "execution_count": 409,
   "metadata": {},
   "outputs": [],
   "source": [
    "df['Engine'] = df['Engine'].str.replace(\"\",\"\")"
   ]
  },
  {
   "cell_type": "code",
   "execution_count": 411,
   "metadata": {},
   "outputs": [],
   "source": [
    "df['Engine'] = df['Engine'].fillna(df['Engine'].mode()[0])"
   ]
  },
  {
   "cell_type": "code",
   "execution_count": 414,
   "metadata": {},
   "outputs": [],
   "source": [
    "df['Alloy Wheel Size'] = df['Alloy Wheel Size'].fillna('16')"
   ]
  },
  {
   "cell_type": "code",
   "execution_count": 416,
   "metadata": {},
   "outputs": [],
   "source": [
    "df['Top Feature 9'] = df['Top Feature 9'].fillna('Cd Player')"
   ]
  },
  {
   "cell_type": "code",
   "execution_count": 417,
   "metadata": {},
   "outputs": [
    {
     "data": {
      "text/plain": [
       "it                     0\n",
       "bt                     0\n",
       "km                     0\n",
       "ownerNo                0\n",
       "oem                    0\n",
       "model                  0\n",
       "modelYear              0\n",
       "centralVariantId       0\n",
       "variantName            0\n",
       "price                  0\n",
       "car_links              0\n",
       "Top Feature 3          0\n",
       "Top Feature 4          0\n",
       "Top Feature 5          0\n",
       "Top Feature 6          0\n",
       "Top Feature 7          0\n",
       "Top Feature 8          0\n",
       "commonIcon             0\n",
       "Top Feature 9          0\n",
       "Insurance Validity     0\n",
       "Fuel Type              0\n",
       "Seats                  0\n",
       "RTO                    0\n",
       "Transmission           0\n",
       "Mileage                0\n",
       "Engine                 0\n",
       "Max Power              0\n",
       "Torque                 0\n",
       "Color                  0\n",
       "Engine Type            0\n",
       "No of Cylinder         0\n",
       "Values per Cylinder    0\n",
       "Value Configuration    0\n",
       "Fuel Suppy System      0\n",
       "Turbo Charger          0\n",
       "Super Charger          0\n",
       "Length                 0\n",
       "Width                  0\n",
       "Height                 0\n",
       "Wheel Base             0\n",
       "Front Tread            0\n",
       "Rear Tread             0\n",
       "Kerb Weight            0\n",
       "Gross Weight           0\n",
       "Gear Box               0\n",
       "Drive Type             0\n",
       "Steering Type          0\n",
       "Turning Radius         0\n",
       "Front Brake Type       0\n",
       "Rear Brake Type        0\n",
       "Top Speed              0\n",
       "Acceleration           0\n",
       "Tyre Type              0\n",
       "No Door Numbers        0\n",
       "Cargo Volumn           0\n",
       "Alloy Wheel Size       0\n",
       "city                   0\n",
       "dtype: int64"
      ]
     },
     "execution_count": 417,
     "metadata": {},
     "output_type": "execute_result"
    }
   ],
   "source": [
    "df.isnull().sum()"
   ]
  },
  {
   "cell_type": "code",
   "execution_count": 430,
   "metadata": {},
   "outputs": [],
   "source": [
    "df.to_csv('Car_dheko.csv',index=False)"
   ]
  },
  {
   "cell_type": "code",
   "execution_count": 425,
   "metadata": {},
   "outputs": [
    {
     "data": {
      "text/plain": [
       "array(['4', '8.11', '5.85', ..., '1.58', '35,000', '10.82'], dtype=object)"
      ]
     },
     "execution_count": 425,
     "metadata": {},
     "output_type": "execute_result"
    }
   ],
   "source": [
    "df['price'].unique()"
   ]
  },
  {
   "cell_type": "code",
   "execution_count": 424,
   "metadata": {},
   "outputs": [],
   "source": [
    "df['price'] = df['price'].str.replace(\"\",\"\")"
   ]
  },
  {
   "cell_type": "code",
   "execution_count": 427,
   "metadata": {},
   "outputs": [],
   "source": [
    "import re\n",
    "\n",
    "# Function to clean and convert 'price' values\n",
    "def clean_price(price):\n",
    "    if pd.isna(price):\n",
    "        return None\n",
    "    # Remove currency symbols and words like 'Lakh', 'Crore'\n",
    "    price = price.replace('₹', '').replace('Lakh', '').replace('Crore', '')\n",
    "    # Remove any remaining non-numeric characters\n",
    "    price = re.sub(r'[^\\d.]', '', price)\n",
    "    # Convert to float\n",
    "    return float(price) * 1e5 if 'Lakh' in price else (float(price) * 1e7 if 'Crore' in price else float(price))\n",
    "\n",
    "\n",
    "\n",
    "# Clean 'price' column if it exists\n",
    "if 'price' in df.columns:\n",
    "    df['price'] = df['price'].apply(clean_price)"
   ]
  },
  {
   "cell_type": "code",
   "execution_count": 429,
   "metadata": {},
   "outputs": [],
   "source": [
    "# Clean and convert 'km' column (remove commas and convert to float)\n",
    "if 'km' in df.columns:\n",
    "    df['km'] = df['km'].str.replace(',', '').astype(int)"
   ]
  },
  {
   "cell_type": "code",
   "execution_count": 88,
   "metadata": {},
   "outputs": [
    {
     "name": "stdout",
     "output_type": "stream",
     "text": [
      "<class 'pandas.core.frame.DataFrame'>\n",
      "RangeIndex: 8369 entries, 0 to 8368\n",
      "Data columns (total 57 columns):\n",
      " #   Column               Non-Null Count  Dtype  \n",
      "---  ------               --------------  -----  \n",
      " 0   it                   8369 non-null   int64  \n",
      " 1   bt                   8369 non-null   object \n",
      " 2   km                   8369 non-null   int64  \n",
      " 3   ownerNo              8369 non-null   int64  \n",
      " 4   oem                  8369 non-null   object \n",
      " 5   model                8369 non-null   object \n",
      " 6   modelYear            8369 non-null   int64  \n",
      " 7   centralVariantId     8369 non-null   int64  \n",
      " 8   variantName          8369 non-null   object \n",
      " 9   price                8369 non-null   float64\n",
      " 10  car_links            8369 non-null   object \n",
      " 11  Top Feature 3        8369 non-null   object \n",
      " 12  Top Feature 4        8369 non-null   object \n",
      " 13  Top Feature 5        8369 non-null   object \n",
      " 14  Top Feature 6        8369 non-null   object \n",
      " 15  Top Feature 7        8369 non-null   object \n",
      " 16  Top Feature 8        8369 non-null   object \n",
      " 17  commonIcon           8369 non-null   object \n",
      " 18  Top Feature 9        8369 non-null   object \n",
      " 19  Insurance Validity   8369 non-null   object \n",
      " 20  Fuel Type            8369 non-null   object \n",
      " 21  Seats                8369 non-null   int32  \n",
      " 22  RTO                  8369 non-null   object \n",
      " 23  Transmission         8369 non-null   object \n",
      " 24  Mileage              8369 non-null   float64\n",
      " 25  Engine               8369 non-null   int64  \n",
      " 26  Max Power            8369 non-null   float64\n",
      " 27  Torque               8369 non-null   float64\n",
      " 28  Color                8369 non-null   object \n",
      " 29  Engine Type          8369 non-null   object \n",
      " 30  No of Cylinder       8369 non-null   int64  \n",
      " 31  Values per Cylinder  8369 non-null   int64  \n",
      " 32  Value Configuration  8369 non-null   object \n",
      " 33  Fuel Suppy System    8369 non-null   object \n",
      " 34  Turbo Charger        8369 non-null   object \n",
      " 35  Super Charger        8369 non-null   object \n",
      " 36  Length               8369 non-null   int64  \n",
      " 37  Width                8369 non-null   int64  \n",
      " 38  Height               8369 non-null   int64  \n",
      " 39  Wheel Base           8369 non-null   int64  \n",
      " 40  Front Tread          8369 non-null   int64  \n",
      " 41  Rear Tread           8369 non-null   int64  \n",
      " 42  Kerb Weight          8366 non-null   float64\n",
      " 43  Gross Weight         8369 non-null   int64  \n",
      " 44  Gear Box             8369 non-null   int64  \n",
      " 45  Drive Type           8369 non-null   object \n",
      " 46  Steering Type        8369 non-null   object \n",
      " 47  Turning Radius       8369 non-null   object \n",
      " 48  Front Brake Type     8369 non-null   object \n",
      " 49  Rear Brake Type      8369 non-null   object \n",
      " 50  Top Speed            8369 non-null   object \n",
      " 51  Acceleration         8369 non-null   float64\n",
      " 52  Tyre Type            8369 non-null   object \n",
      " 53  No Door Numbers      8369 non-null   int64  \n",
      " 54  Cargo Volumn         8369 non-null   int64  \n",
      " 55  Alloy Wheel Size     8369 non-null   object \n",
      " 56  city                 8369 non-null   object \n",
      "dtypes: float64(6), int32(1), int64(18), object(32)\n",
      "memory usage: 3.6+ MB\n"
     ]
    }
   ],
   "source": [
    "df.info()"
   ]
  },
  {
   "cell_type": "code",
   "execution_count": 1,
   "metadata": {},
   "outputs": [],
   "source": [
    "import pandas as pd\n",
    "# Load the dataset\n",
    "file_path = 'D:/Project 3 Cardheko/Car_dheko.csv'\n",
    "df = pd.read_csv(file_path, low_memory=False)"
   ]
  },
  {
   "cell_type": "code",
   "execution_count": 2,
   "metadata": {},
   "outputs": [],
   "source": [
    "df['Seats'] = df['Seats'].astype(int)"
   ]
  },
  {
   "cell_type": "code",
   "execution_count": 86,
   "metadata": {},
   "outputs": [
    {
     "data": {
      "text/plain": [
       "array(['67.04', '121.31', '84', '81.86', '88.5', '170', '67', '118.35',\n",
       "       '103.25', '83.1', '88.7', '83.83', '140', '187.74', '88.76',\n",
       "       '117.3', '177', '88.50', '104.55', '453.26', '68', '62.1', '194.4',\n",
       "       '174.33', '167.67', '103', '194', '248.08', '171', '108.5',\n",
       "       '81.83', '88.73', '147.5', '47.33', '120', '189.08', '138.08',\n",
       "       '281.61', '46.3', '254.8', '241.4', '83', '65.71', '103.52',\n",
       "       '120.69', '126.2', '74', '188', '178', '85.80', '118.36', '116.3',\n",
       "       '103.6', '108.6', '70', '82.85', '77', '68.05', '190', '141',\n",
       "       '86.8', '81.80', '67.1', '71.01', '55.2', '103.2', '105.5',\n",
       "       '167.68', '156.9', '121.3', '138.12', '147.94', '160.77', '138.1',\n",
       "       '78.9', '102.57', '174.3', '80', '197', '113.42', '82', '258',\n",
       "       '181', '182.46', '174.5', '108.45', '117.6', '103.5', '158.8',\n",
       "       '121.36', '88.8', '160.92', '130.1', '194.3', '254.79', '100.5',\n",
       "       '83.8', '110.4', '90', '98.6', '184', '98.96', '203', '87.2',\n",
       "       '100.6', '91.1', '261.50', '115', '187.7', '108.62', '143',\n",
       "       '113.98', '215', '108.49', '93.7', '67.05', '167.62', '85.8', '94',\n",
       "       '73.9', '83.14', '120.7', '197.2', '106', '177.46', '112', '218',\n",
       "       '152.87', '75.10', '168.5', '102', '105.94', '153.866', '98.63',\n",
       "       '113.45', '187.40', '98.59', '113.18', '102.53', '117.60', '163.2',\n",
       "       '65', '73.94', '120.33', '94.93', '67.06', '126.32', '153.86',\n",
       "       '261.49', '83.81', '119.35', '104.5', '84.82', '203.2', '103.26',\n",
       "       '113.43', '160', '150', '136', '187.4', '25.4', '41.42', '70.02',\n",
       "       '35', '138.03', '86.83', '141.04', '86.76', '69', '163.7', '71',\n",
       "       '163.60', '127', '100', '88.2', '61', '74.02', '89.84', '171.5',\n",
       "       '147.9', '164.7', '145', '79.4', '52.8', '72.41', '182.38', '60',\n",
       "       '148', '71.02', '88', '78', '136.78', '92', '116.4', '63', '177.6',\n",
       "       '115.05', '167.6', '47.3', '61.68', '86.63', '85.7', '246.74',\n",
       "       '62', '118.41', '72.4', '335.25', '75', '73.75', '40', '93',\n",
       "       '80.46', '147.8', '161.6', '101', '126.3', '157.75', '75.09',\n",
       "       '112.2', '101.65', '110', '204', '53.64', '138.05', '260.0',\n",
       "       '73.8', '37.5', '72', '110.5', '118', '130', '121', '379.7',\n",
       "       '86.7', '53.26', '84.8', '126.24', '384.87', '48.21', '201.1',\n",
       "       '57', '123.24', '138', '172.35', '105', '173', '200', '177.5',\n",
       "       '94.68', '147.51', '245', '99.23', '158.79', '197.26', '118.3',\n",
       "       '296', '40.36', '91.7', '241.38', '104.68', '73', '66.1', '201.15',\n",
       "       '177.01', '107.3', '85', '86.79', '82.4', '157.7', '142', '252',\n",
       "       '459', '210', '73.97', '114.41', '191.7', '91.18', '53.3', '261.4',\n",
       "       '325.86', '74.96', '161', '191.76', '235', '98', '248', '37',\n",
       "       '97.9', '147.52', '158', '149.92', '120.3', '88.77', '157.81',\n",
       "       '75.94', '172.45', '47', '57.6', '180', '84.48', '335.2', '99',\n",
       "       '170.63', '114', '38', '134.1', '92.7', '186', '53.5', '101.64',\n",
       "       '56.3', '66', '400', '108.50', '95.48', '175', '108.48', '64.1',\n",
       "       '104', '162', '73.74', '175.56', '335.26', '236.7', '158.2',\n",
       "       '97.7', '63.1', '301.73', '255', '214.5', '214.56', '97.89',\n",
       "       '76.43', '181.04', '67.72', '181.03', '215.01', '64', '321.84',\n",
       "       '58', '91.19', '268', '183', '83.11', '197.13', '296.3', '282',\n",
       "       '258.81', '58.33', '362.07', '241.3', '103.39', '192', '237',\n",
       "       '212.55', '245.40', '259', '576.63', '70.40', '469', '375.48',\n",
       "       '58.2', '194.44', '55.92', '333', '250', '237.36', '140.1',\n",
       "       '157.57', '159.74', '304.41', '257.47', '306', '76', '130.07',\n",
       "       '152.88', '185', '134', '163.5', '123.37', '68.1', '130.3',\n",
       "       '102.5', '130.2', '65.39', '168.7', '321', '58.16', '139.46',\n",
       "       '245.59', '364.9', '86.80', '99.6', '82.9', '98.69', '175.67',\n",
       "       '272', '178.49', '38.4', '163', '153.87', '93.87', '138.13',\n",
       "       '120.96', '271.2', '165', '241.6', '107.5', '91.72', '270.9',\n",
       "       '57.5', '96.55', '89.75', '89', '116.6', '167.7', '79.65', '41.57',\n",
       "       '402.30', '208', '125', '61.6', '144', '103.3', '355.37', '107.2',\n",
       "       '59', '141.1', '74.9', '148.31', '134.10', '66.6', '169', '140.8',\n",
       "       '113.4', '34.2', '84.5', '100.57', '443.87', '450', '72.40',\n",
       "       '84.88', '63.12', '245.4', '132', '68.07', '247', '97.6', '59.18',\n",
       "       '394.3', '198.25', '52', '510', '76.8', '150.19', '348.66', '300',\n",
       "       '265', '155', '78.8', '375.5', '154', '168', '221.3', '156.82',\n",
       "       '178.4', '97.64'], dtype=object)"
      ]
     },
     "execution_count": 86,
     "metadata": {},
     "output_type": "execute_result"
    }
   ],
   "source": [
    "df['Max Power'].unique()"
   ]
  },
  {
   "cell_type": "code",
   "execution_count": 85,
   "metadata": {},
   "outputs": [],
   "source": [
    "df['Max Power'] = df['Max Power'].str.replace(\"at5500RPM\",\"\")"
   ]
  },
  {
   "cell_type": "code",
   "execution_count": 24,
   "metadata": {},
   "outputs": [],
   "source": [
    "df['Max Power'] = df['Max Power'].str.replace(r'@\\d+-\\d+', '', regex=True)"
   ]
  },
  {
   "cell_type": "code",
   "execution_count": 26,
   "metadata": {},
   "outputs": [],
   "source": [
    "df['Max Power'] = df['Max Power'].str.replace(r'@\\d+-\\d+|\\s@\\s\\d+,\\d+\\s\\(PS@\\)', '', regex=True)\n"
   ]
  },
  {
   "cell_type": "code",
   "execution_count": 28,
   "metadata": {},
   "outputs": [],
   "source": [
    "df['Max Power'] = df['Max Power'].str.replace(r'@\\d+-\\d+|\\s@\\s\\d+,\\d+\\s\\(PS@\\)|\\s@\\s\\d+', '', regex=True)"
   ]
  },
  {
   "cell_type": "code",
   "execution_count": 30,
   "metadata": {},
   "outputs": [],
   "source": [
    "df['Max Power'] = df['Max Power'].str.replace(r'@\\d+-\\d+|\\s@\\s\\d+,\\d+\\s\\(PS@\\)|\\s@\\s\\d+|\\s?@\\d+,\\d+\\s?\\(PS@\\)', '', regex=True)"
   ]
  },
  {
   "cell_type": "code",
   "execution_count": 87,
   "metadata": {},
   "outputs": [],
   "source": [
    "df['Max Power'] = df['Max Power'].astype(float)"
   ]
  },
  {
   "cell_type": "code",
   "execution_count": 103,
   "metadata": {},
   "outputs": [
    {
     "data": {
      "text/plain": [
       "array(['No', 'Yes'], dtype=object)"
      ]
     },
     "execution_count": 103,
     "metadata": {},
     "output_type": "execute_result"
    }
   ],
   "source": [
    "df['Turbo Charger'].unique()"
   ]
  },
  {
   "cell_type": "code",
   "execution_count": 102,
   "metadata": {},
   "outputs": [],
   "source": [
    "df['Turbo Charger'] = df['Turbo Charger'].str.replace(\"no\",\"No\")"
   ]
  },
  {
   "cell_type": "code",
   "execution_count": 111,
   "metadata": {},
   "outputs": [
    {
     "data": {
      "text/plain": [
       "array([ 835., 1242., 1012., 1180., 1230., 1551., 1070., 1440., 1105.,\n",
       "        870., 1200., 1066., 1900., 1562., 1675., 1120., 1315., 1049.,\n",
       "       1600.,  875., 2200., 1050.,  845., 1585., 1595., 1940., 1650.,\n",
       "       1140.,  885., 1170., 1655., 1955., 1375., 1515.,  880., 1329.,\n",
       "       1735.,  762., 1990., 1250., 1535., 1980.,  705., 2535., 1825.,\n",
       "       1060., 2345., 1970.,  750., 1305., 1095.,  815., 1206., 1225.,\n",
       "       1320., 1700.,  960.,  850., 1720., 1360., 1376.,  980., 1015.,\n",
       "       1260., 1380., 1192., 1025., 1040., 1135., 1865.,  890.,  860.,\n",
       "        730., 1652., 1835., 1345., 1820.,  925.,  910.,  760., 1086.,\n",
       "       1179., 1525., 1730.,  900., 1300., 1465., 2020., 1350.,  840.,\n",
       "       1445., 1580., 1608., 1100., 1830.,  755., 1020., 1879.,  855.,\n",
       "       1670.,  935., 2010.,  947.,  930., 2060., 1455., 1537., 2360.,\n",
       "       1745., 1238., 1954., 1390., 1285., 1080., 1109., 1274., 1158.,\n",
       "       1395., 1885.,  950., 1325., 1190., 1340., 1530., 1240., 1296.,\n",
       "       1042., 1960., 1044., 1255.,  985., 1235., 1107., 1115., 1220.,\n",
       "       1061., 1840.,  825., 1150., 1640., 1210., 1103., 1304., 1800.,\n",
       "       1680., 1030., 1175., 1780., 1072., 1065., 1490., 1245., 1770.,\n",
       "       1205.,  895., 1460., 1450., 1039.,  745.,  784., 1641.,  970.,\n",
       "       1275., 1160., 1085., 1125.,  940., 1425., 1290., 2195.,  865.,\n",
       "       1635., 1330., 1540., 1890., 1045., 1660., 1785., 1138., 1165.,\n",
       "       1228., 2152., 1280., 1880., 1055., 1195., 1106., 1288.,  920.,\n",
       "       1084.,  810., 1155., 1470., 1088.,  736., 1725.,  820., 1403.,\n",
       "       1915., 1010., 1064.,  770.,  779., 1016.,  830.,  699., 1620.,\n",
       "        990., 2014., 1715.,  915., 1710., 1035., 1520., 1495., 1277.,\n",
       "       1775., 1208., 1630., 1014., 1604., 1310., 1145., 1053., 2095.,\n",
       "       1281., 2160., 2175., 1550., 1185., 1555., 1570., 1252., 1430.,\n",
       "       1201., 1270., 1130., 1090.,  785.,  982., 1439., 1703., 1036.,\n",
       "       1400., 1790., 1184., 1590.,  955.,  995., 1510.,  765., 2045.,\n",
       "       1121.,  939., 1845., 2000., 1795., 1625.,  720., 1543.,  774.,\n",
       "       1265., 2370., 1760., 1860., 1059.,  600.,  945., 1139., 1351.,\n",
       "       1567., 1740., 1598., 1755., 1485., 1365.,  727., 1750.,  710.,\n",
       "       1046., 1038.,  800., 1335., 1182., 1773.,  690., 1097., 1815.,\n",
       "       1575., 1565., 2240., 1092., 1048., 1610., 2040., 1545., 1475.,\n",
       "       1258., 1615., 1152.,  805., 1685., 2145., 2500., 2230., 1309.,\n",
       "       2132.,  726., 1355.,  625.,  757., 2115., 1110., 1173., 1246.,\n",
       "       1690., 1415.,  965., 1163.,  943., 1560., 2220., 1146., 1198.,\n",
       "       2330., 1855.,  905., 1405., 1069., 1761., 1233., 2280., 1995.,\n",
       "       1468., 1298., 1029., 1805., 1041., 2150., 1112., 2505.,  917.,\n",
       "       1920., 1218., 1644.,  924., 1945., 1142., 2030.,  650., 1816.,\n",
       "       1187., 1796.,  921., 1420., 2962., 1354., 1063.,  907., 1500.,\n",
       "       1799., 1062., 2350., 1645., 1312., 1026., 1058., 1137., 2515.,\n",
       "       1705., 1870.,  842.,  882., 1054., 1215., 1779.,  635., 1505.,\n",
       "       1857., 1052., 1895., 1023., 1302., 1154., 2550., 1404., 1278.,\n",
       "       1075., 1081.,  942., 2750., 1268., 1765., 2001., 1612., 1148.,\n",
       "       2210., 1668., 1435., 1022., 1695.,  675., 1212., 2376., 1665.,\n",
       "       1234.,  913.,  846., 1385., 1370., 2027., 1850., 2186., 1950.,\n",
       "       2270., 2460., 1248., 1905., 1875., 2184., 1087., 2600., 1866.,\n",
       "       2100., 1787., 2110., 2560., 2245., 1168.,  831., 1667., 2455.,\n",
       "       1930., 2489., 1925., 2064.,  847., 2080., 1994., 2900., 2700.,\n",
       "       1729., 1628., 1497., 1480., 1871., 1579.,  725., 1031., 1810.,\n",
       "       1614., 1027., 1000., 1239., 1111., 1216.,  854., 1935., 1211.,\n",
       "       1005., 2235., 1153.,  665., 2310., 1232.,  886., 1910.,  722.,\n",
       "       1389., 1161., 1231., 1813., 2185., 1013., 1766., 2675., 1533.,\n",
       "       1021., 1651., 1269., 1561., 2410.,  975., 1605., 1132., 1547.,\n",
       "        928., 1191., 1102., 2425., 1295., 1131., 1124., 1965., 1147.,\n",
       "       2155., 1306., 1776., 1851., 1410.,  993., 1289., 1459., 1681.,\n",
       "       1104., 1874., 2250., 1824., 1217., 1261., 1527.,  695., 1188.,\n",
       "       1033., 2440.])"
      ]
     },
     "execution_count": 111,
     "metadata": {},
     "output_type": "execute_result"
    }
   ],
   "source": [
    "df['Kerb Weight'].unique()"
   ]
  },
  {
   "cell_type": "code",
   "execution_count": 105,
   "metadata": {},
   "outputs": [
    {
     "data": {
      "text/plain": [
       "0        835.0\n",
       "1       1242.0\n",
       "2       1012.0\n",
       "3       1180.0\n",
       "4       1230.0\n",
       "         ...  \n",
       "8364     810.0\n",
       "8365     720.0\n",
       "8366    1585.0\n",
       "8367    1030.0\n",
       "8368    1350.0\n",
       "Name: Kerb Weight, Length: 8366, dtype: float64"
      ]
     },
     "execution_count": 105,
     "metadata": {},
     "output_type": "execute_result"
    }
   ],
   "source": [
    "df['Kerb Weight'].dropna()"
   ]
  },
  {
   "cell_type": "code",
   "execution_count": 7,
   "metadata": {},
   "outputs": [
    {
     "name": "stdout",
     "output_type": "stream",
     "text": [
      "<class 'pandas.core.frame.DataFrame'>\n",
      "RangeIndex: 8369 entries, 0 to 8368\n",
      "Data columns (total 57 columns):\n",
      " #   Column               Non-Null Count  Dtype  \n",
      "---  ------               --------------  -----  \n",
      " 0   it                   8369 non-null   int64  \n",
      " 1   bt                   8369 non-null   object \n",
      " 2   km                   8369 non-null   int64  \n",
      " 3   ownerNo              8369 non-null   int32  \n",
      " 4   oem                  8369 non-null   object \n",
      " 5   model                8369 non-null   object \n",
      " 6   modelYear            8369 non-null   int64  \n",
      " 7   centralVariantId     8369 non-null   int64  \n",
      " 8   variantName          8369 non-null   object \n",
      " 9   price                8369 non-null   float64\n",
      " 10  car_links            8369 non-null   object \n",
      " 11  Top Feature 3        8369 non-null   object \n",
      " 12  Top Feature 4        8369 non-null   object \n",
      " 13  Top Feature 5        8369 non-null   object \n",
      " 14  Top Feature 6        8369 non-null   object \n",
      " 15  Top Feature 7        8369 non-null   object \n",
      " 16  Top Feature 8        8369 non-null   object \n",
      " 17  commonIcon           8369 non-null   object \n",
      " 18  Top Feature 9        8369 non-null   object \n",
      " 19  Insurance Validity   8369 non-null   object \n",
      " 20  Fuel Type            8369 non-null   object \n",
      " 21  Seats                8369 non-null   int64  \n",
      " 22  RTO                  8369 non-null   object \n",
      " 23  Transmission         8369 non-null   object \n",
      " 24  Mileage              8369 non-null   float64\n",
      " 25  Engine               8369 non-null   int64  \n",
      " 26  Max Power            8369 non-null   float64\n",
      " 27  Torque               8369 non-null   float64\n",
      " 28  Color                8369 non-null   object \n",
      " 29  Engine Type          8369 non-null   object \n",
      " 30  No of Cylinder       8369 non-null   int64  \n",
      " 31  Values per Cylinder  8369 non-null   int64  \n",
      " 32  Value Configuration  8369 non-null   object \n",
      " 33  Fuel Suppy System    8369 non-null   object \n",
      " 34  Turbo Charger        8369 non-null   object \n",
      " 35  Super Charger        8369 non-null   object \n",
      " 36  Length               8369 non-null   int64  \n",
      " 37  Width                8369 non-null   int64  \n",
      " 38  Height               8369 non-null   int64  \n",
      " 39  Wheel Base           8369 non-null   int64  \n",
      " 40  Front Tread          8369 non-null   int64  \n",
      " 41  Rear Tread           8369 non-null   int64  \n",
      " 42  Kerb Weight          8369 non-null   float64\n",
      " 43  Gross Weight         8369 non-null   int64  \n",
      " 44  Gear Box             8369 non-null   int64  \n",
      " 45  Drive Type           8369 non-null   object \n",
      " 46  Steering Type        8369 non-null   object \n",
      " 47  Turning Radius       8369 non-null   float64\n",
      " 48  Front Brake Type     8369 non-null   object \n",
      " 49  Rear Brake Type      8369 non-null   object \n",
      " 50  Top Speed            8369 non-null   object \n",
      " 51  Acceleration         8369 non-null   float64\n",
      " 52  Tyre Type            8369 non-null   object \n",
      " 53  No Door Numbers      8369 non-null   int64  \n",
      " 54  Cargo Volumn         8369 non-null   int64  \n",
      " 55  Alloy Wheel Size     8369 non-null   object \n",
      " 56  city                 8369 non-null   object \n",
      "dtypes: float64(7), int32(1), int64(18), object(31)\n",
      "memory usage: 3.6+ MB\n"
     ]
    }
   ],
   "source": [
    "df.info()"
   ]
  },
  {
   "cell_type": "code",
   "execution_count": 239,
   "metadata": {},
   "outputs": [],
   "source": [
    "df.to_csv('Car_dheko.csv',index=False)"
   ]
  },
  {
   "cell_type": "code",
   "execution_count": 109,
   "metadata": {},
   "outputs": [],
   "source": [
    "df['Kerb Weight'] = df['Kerb Weight'].ffill()"
   ]
  },
  {
   "cell_type": "code",
   "execution_count": 114,
   "metadata": {},
   "outputs": [
    {
     "data": {
      "text/plain": [
       "array(['4.7', '5.3', '4.9', '5.2', '4.6', '5.4', '4.8', '5.1', '5.6',\n",
       "       '6.15', '4.4', '6', '5.8', '5.61', '5.9', '5.95', '6.2', '5',\n",
       "       '5.5', '5.55', '4.97', '5.05', '5.65', '4.5', '6.4', '5.7', '5.75',\n",
       "       '5.35', '4.85', '5.25', '4.35', '4.2', '4.1', '5.39', '5.52',\n",
       "       '6.28', '4.98', '4', '4.65', '6.35', '5.42', '5.20', '5.45',\n",
       "       '6.05', '5.15', '6.25', '5.46', '6.45', '6.1', '11.5', '12',\n",
       "       '11.4', '5.62', '5.03', '5.85', '5.92', '6.42', '5.59', '11.6',\n",
       "       '13.51', '12.4', '5.26', '4.58', '13', '5.02', '4.95'],\n",
       "      dtype=object)"
      ]
     },
     "execution_count": 114,
     "metadata": {},
     "output_type": "execute_result"
    }
   ],
   "source": [
    "df['Turning Radius'].unique()"
   ]
  },
  {
   "cell_type": "code",
   "execution_count": 113,
   "metadata": {},
   "outputs": [],
   "source": [
    "df['Turning Radius'] = df['Turning Radius'].str.replace(\" .\",\"\")"
   ]
  },
  {
   "cell_type": "code",
   "execution_count": 115,
   "metadata": {},
   "outputs": [],
   "source": [
    "df['Turning Radius'] = df['Turning Radius'].astype(float)"
   ]
  },
  {
   "cell_type": "code",
   "execution_count": 179,
   "metadata": {},
   "outputs": [
    {
     "data": {
      "text/plain": [
       "array(['Disc', 'Hydraulic'], dtype=object)"
      ]
     },
     "execution_count": 179,
     "metadata": {},
     "output_type": "execute_result"
    }
   ],
   "source": [
    "df['Front Brake Type'].unique()"
   ]
  },
  {
   "cell_type": "code",
   "execution_count": 178,
   "metadata": {},
   "outputs": [],
   "source": [
    "df['Front Brake Type'] = df['Front Brake Type'].str.replace(\"ABS\",\"Hydraulic\")"
   ]
  },
  {
   "cell_type": "code",
   "execution_count": 238,
   "metadata": {},
   "outputs": [
    {
     "data": {
      "text/plain": [
       "array(['Drum', 'Disc', 'Hydraulic'], dtype=object)"
      ]
     },
     "execution_count": 238,
     "metadata": {},
     "output_type": "execute_result"
    }
   ],
   "source": [
    "df['Rear Brake Type'].unique()"
   ]
  },
  {
   "cell_type": "code",
   "execution_count": 237,
   "metadata": {},
   "outputs": [],
   "source": [
    "df['Rear Brake Type'] = df['Rear Brake Type'].str.replace(\"Mechanical-hydraulic dual circuit\",\"Hydraulic\")"
   ]
  },
  {
   "cell_type": "code",
   "execution_count": 1,
   "metadata": {},
   "outputs": [],
   "source": [
    "import pandas as pd\n",
    "# Load the dataset\n",
    "file_path = 'D:/Project 3 Cardheko/Car_dheko.csv'\n",
    "df = pd.read_csv(file_path, low_memory=False)"
   ]
  },
  {
   "cell_type": "code",
   "execution_count": 5,
   "metadata": {},
   "outputs": [
    {
     "data": {
      "text/plain": [
       "array(['3', '2', '1', '4', '5'], dtype=object)"
      ]
     },
     "execution_count": 5,
     "metadata": {},
     "output_type": "execute_result"
    }
   ],
   "source": [
    "df['ownerNo'].unique()"
   ]
  },
  {
   "cell_type": "code",
   "execution_count": 3,
   "metadata": {},
   "outputs": [
    {
     "ename": "AttributeError",
     "evalue": "Can only use .str accessor with string values!",
     "output_type": "error",
     "traceback": [
      "\u001b[1;31m---------------------------------------------------------------------------\u001b[0m",
      "\u001b[1;31mAttributeError\u001b[0m                            Traceback (most recent call last)",
      "Cell \u001b[1;32mIn[3], line 1\u001b[0m\n\u001b[1;32m----> 1\u001b[0m df[\u001b[38;5;124m'\u001b[39m\u001b[38;5;124mownerNo\u001b[39m\u001b[38;5;124m'\u001b[39m] \u001b[38;5;241m=\u001b[39m \u001b[43mdf\u001b[49m\u001b[43m[\u001b[49m\u001b[38;5;124;43m'\u001b[39;49m\u001b[38;5;124;43mownerNo\u001b[39;49m\u001b[38;5;124;43m'\u001b[39;49m\u001b[43m]\u001b[49m\u001b[38;5;241;43m.\u001b[39;49m\u001b[43mstr\u001b[49m\u001b[38;5;241m.\u001b[39mreplace(\u001b[38;5;124m\"\u001b[39m\u001b[38;5;124m0\u001b[39m\u001b[38;5;124m\"\u001b[39m,\u001b[38;5;124m\"\u001b[39m\u001b[38;5;124m1\u001b[39m\u001b[38;5;124m\"\u001b[39m)\n",
      "File \u001b[1;32mc:\\Users\\ADMIN\\AppData\\Local\\Programs\\Python\\Python312\\Lib\\site-packages\\pandas\\core\\generic.py:6299\u001b[0m, in \u001b[0;36mNDFrame.__getattr__\u001b[1;34m(self, name)\u001b[0m\n\u001b[0;32m   6292\u001b[0m \u001b[38;5;28;01mif\u001b[39;00m (\n\u001b[0;32m   6293\u001b[0m     name \u001b[38;5;129;01mnot\u001b[39;00m \u001b[38;5;129;01min\u001b[39;00m \u001b[38;5;28mself\u001b[39m\u001b[38;5;241m.\u001b[39m_internal_names_set\n\u001b[0;32m   6294\u001b[0m     \u001b[38;5;129;01mand\u001b[39;00m name \u001b[38;5;129;01mnot\u001b[39;00m \u001b[38;5;129;01min\u001b[39;00m \u001b[38;5;28mself\u001b[39m\u001b[38;5;241m.\u001b[39m_metadata\n\u001b[0;32m   6295\u001b[0m     \u001b[38;5;129;01mand\u001b[39;00m name \u001b[38;5;129;01mnot\u001b[39;00m \u001b[38;5;129;01min\u001b[39;00m \u001b[38;5;28mself\u001b[39m\u001b[38;5;241m.\u001b[39m_accessors\n\u001b[0;32m   6296\u001b[0m     \u001b[38;5;129;01mand\u001b[39;00m \u001b[38;5;28mself\u001b[39m\u001b[38;5;241m.\u001b[39m_info_axis\u001b[38;5;241m.\u001b[39m_can_hold_identifiers_and_holds_name(name)\n\u001b[0;32m   6297\u001b[0m ):\n\u001b[0;32m   6298\u001b[0m     \u001b[38;5;28;01mreturn\u001b[39;00m \u001b[38;5;28mself\u001b[39m[name]\n\u001b[1;32m-> 6299\u001b[0m \u001b[38;5;28;01mreturn\u001b[39;00m \u001b[38;5;28;43mobject\u001b[39;49m\u001b[38;5;241;43m.\u001b[39;49m\u001b[38;5;21;43m__getattribute__\u001b[39;49m\u001b[43m(\u001b[49m\u001b[38;5;28;43mself\u001b[39;49m\u001b[43m,\u001b[49m\u001b[43m \u001b[49m\u001b[43mname\u001b[49m\u001b[43m)\u001b[49m\n",
      "File \u001b[1;32mc:\\Users\\ADMIN\\AppData\\Local\\Programs\\Python\\Python312\\Lib\\site-packages\\pandas\\core\\accessor.py:224\u001b[0m, in \u001b[0;36mCachedAccessor.__get__\u001b[1;34m(self, obj, cls)\u001b[0m\n\u001b[0;32m    221\u001b[0m \u001b[38;5;28;01mif\u001b[39;00m obj \u001b[38;5;129;01mis\u001b[39;00m \u001b[38;5;28;01mNone\u001b[39;00m:\n\u001b[0;32m    222\u001b[0m     \u001b[38;5;66;03m# we're accessing the attribute of the class, i.e., Dataset.geo\u001b[39;00m\n\u001b[0;32m    223\u001b[0m     \u001b[38;5;28;01mreturn\u001b[39;00m \u001b[38;5;28mself\u001b[39m\u001b[38;5;241m.\u001b[39m_accessor\n\u001b[1;32m--> 224\u001b[0m accessor_obj \u001b[38;5;241m=\u001b[39m \u001b[38;5;28;43mself\u001b[39;49m\u001b[38;5;241;43m.\u001b[39;49m\u001b[43m_accessor\u001b[49m\u001b[43m(\u001b[49m\u001b[43mobj\u001b[49m\u001b[43m)\u001b[49m\n\u001b[0;32m    225\u001b[0m \u001b[38;5;66;03m# Replace the property with the accessor object. Inspired by:\u001b[39;00m\n\u001b[0;32m    226\u001b[0m \u001b[38;5;66;03m# https://www.pydanny.com/cached-property.html\u001b[39;00m\n\u001b[0;32m    227\u001b[0m \u001b[38;5;66;03m# We need to use object.__setattr__ because we overwrite __setattr__ on\u001b[39;00m\n\u001b[0;32m    228\u001b[0m \u001b[38;5;66;03m# NDFrame\u001b[39;00m\n\u001b[0;32m    229\u001b[0m \u001b[38;5;28mobject\u001b[39m\u001b[38;5;241m.\u001b[39m\u001b[38;5;21m__setattr__\u001b[39m(obj, \u001b[38;5;28mself\u001b[39m\u001b[38;5;241m.\u001b[39m_name, accessor_obj)\n",
      "File \u001b[1;32mc:\\Users\\ADMIN\\AppData\\Local\\Programs\\Python\\Python312\\Lib\\site-packages\\pandas\\core\\strings\\accessor.py:191\u001b[0m, in \u001b[0;36mStringMethods.__init__\u001b[1;34m(self, data)\u001b[0m\n\u001b[0;32m    188\u001b[0m \u001b[38;5;28;01mdef\u001b[39;00m \u001b[38;5;21m__init__\u001b[39m(\u001b[38;5;28mself\u001b[39m, data) \u001b[38;5;241m-\u001b[39m\u001b[38;5;241m>\u001b[39m \u001b[38;5;28;01mNone\u001b[39;00m:\n\u001b[0;32m    189\u001b[0m     \u001b[38;5;28;01mfrom\u001b[39;00m \u001b[38;5;21;01mpandas\u001b[39;00m\u001b[38;5;21;01m.\u001b[39;00m\u001b[38;5;21;01mcore\u001b[39;00m\u001b[38;5;21;01m.\u001b[39;00m\u001b[38;5;21;01marrays\u001b[39;00m\u001b[38;5;21;01m.\u001b[39;00m\u001b[38;5;21;01mstring_\u001b[39;00m \u001b[38;5;28;01mimport\u001b[39;00m StringDtype\n\u001b[1;32m--> 191\u001b[0m     \u001b[38;5;28mself\u001b[39m\u001b[38;5;241m.\u001b[39m_inferred_dtype \u001b[38;5;241m=\u001b[39m \u001b[38;5;28;43mself\u001b[39;49m\u001b[38;5;241;43m.\u001b[39;49m\u001b[43m_validate\u001b[49m\u001b[43m(\u001b[49m\u001b[43mdata\u001b[49m\u001b[43m)\u001b[49m\n\u001b[0;32m    192\u001b[0m     \u001b[38;5;28mself\u001b[39m\u001b[38;5;241m.\u001b[39m_is_categorical \u001b[38;5;241m=\u001b[39m \u001b[38;5;28misinstance\u001b[39m(data\u001b[38;5;241m.\u001b[39mdtype, CategoricalDtype)\n\u001b[0;32m    193\u001b[0m     \u001b[38;5;28mself\u001b[39m\u001b[38;5;241m.\u001b[39m_is_string \u001b[38;5;241m=\u001b[39m \u001b[38;5;28misinstance\u001b[39m(data\u001b[38;5;241m.\u001b[39mdtype, StringDtype)\n",
      "File \u001b[1;32mc:\\Users\\ADMIN\\AppData\\Local\\Programs\\Python\\Python312\\Lib\\site-packages\\pandas\\core\\strings\\accessor.py:245\u001b[0m, in \u001b[0;36mStringMethods._validate\u001b[1;34m(data)\u001b[0m\n\u001b[0;32m    242\u001b[0m inferred_dtype \u001b[38;5;241m=\u001b[39m lib\u001b[38;5;241m.\u001b[39minfer_dtype(values, skipna\u001b[38;5;241m=\u001b[39m\u001b[38;5;28;01mTrue\u001b[39;00m)\n\u001b[0;32m    244\u001b[0m \u001b[38;5;28;01mif\u001b[39;00m inferred_dtype \u001b[38;5;129;01mnot\u001b[39;00m \u001b[38;5;129;01min\u001b[39;00m allowed_types:\n\u001b[1;32m--> 245\u001b[0m     \u001b[38;5;28;01mraise\u001b[39;00m \u001b[38;5;167;01mAttributeError\u001b[39;00m(\u001b[38;5;124m\"\u001b[39m\u001b[38;5;124mCan only use .str accessor with string values!\u001b[39m\u001b[38;5;124m\"\u001b[39m)\n\u001b[0;32m    246\u001b[0m \u001b[38;5;28;01mreturn\u001b[39;00m inferred_dtype\n",
      "\u001b[1;31mAttributeError\u001b[0m: Can only use .str accessor with string values!"
     ]
    }
   ],
   "source": [
    "df['ownerNo'] = df['ownerNo'].str.replace(\"0\",\"1\")"
   ]
  },
  {
   "cell_type": "code",
   "execution_count": 4,
   "metadata": {},
   "outputs": [],
   "source": [
    "# Convert the 'ownerNo' column to string type\n",
    "df['ownerNo'] = df['ownerNo'].astype(str)\n",
    "\n",
    "# Replace \"0\" with \"1\" in the 'ownerNo' column\n",
    "df['ownerNo'] = df['ownerNo'].str.replace(\"0\", \"1\")\n"
   ]
  },
  {
   "cell_type": "code",
   "execution_count": 6,
   "metadata": {},
   "outputs": [],
   "source": [
    "df['ownerNo'] = df['ownerNo'].astype(int)"
   ]
  },
  {
   "cell_type": "code",
   "execution_count": 8,
   "metadata": {},
   "outputs": [],
   "source": [
    "# Convert mileage to integers by rounding\n",
    "df['Mileage'] = df['Mileage'].round().astype(int)"
   ]
  },
  {
   "cell_type": "code",
   "execution_count": 9,
   "metadata": {},
   "outputs": [
    {
     "data": {
      "text/plain": [
       "0       23\n",
       "1       17\n",
       "2       24\n",
       "3       19\n",
       "4       24\n",
       "        ..\n",
       "8364    25\n",
       "8365    23\n",
       "8366    12\n",
       "8367    18\n",
       "8368    20\n",
       "Name: Mileage, Length: 8369, dtype: int32"
      ]
     },
     "execution_count": 9,
     "metadata": {},
     "output_type": "execute_result"
    }
   ],
   "source": [
    "df['Mileage']"
   ]
  },
  {
   "cell_type": "code",
   "execution_count": 46,
   "metadata": {},
   "outputs": [],
   "source": [
    "df['Color'] = df['Color'].str.lower()"
   ]
  },
  {
   "cell_type": "code",
   "execution_count": 209,
   "metadata": {},
   "outputs": [
    {
     "data": {
      "text/plain": [
       "array(['white', 'red', 'others', 'grey', 'maroon', 'orange', 'silver',\n",
       "       'blue', 'brown', 'yellow', 'black', 'gold', 'green', 'purple',\n",
       "       'violet', 'beige', 'titanium'], dtype=object)"
      ]
     },
     "execution_count": 209,
     "metadata": {},
     "output_type": "execute_result"
    }
   ],
   "source": [
    "df['Color'].unique()"
   ]
  },
  {
   "cell_type": "code",
   "execution_count": 208,
   "metadata": {},
   "outputs": [],
   "source": [
    "df['Color'] = df['Color'].str.replace(\"copper\", \"brown\")"
   ]
  },
  {
   "cell_type": "code",
   "execution_count": 210,
   "metadata": {},
   "outputs": [
    {
     "name": "stdout",
     "output_type": "stream",
     "text": [
      "<class 'pandas.core.frame.DataFrame'>\n",
      "RangeIndex: 8369 entries, 0 to 8368\n",
      "Data columns (total 58 columns):\n",
      " #   Column               Non-Null Count  Dtype  \n",
      "---  ------               --------------  -----  \n",
      " 0   it                   8369 non-null   int64  \n",
      " 1   bt                   8369 non-null   object \n",
      " 2   km                   8369 non-null   int64  \n",
      " 3   ownerNo              8369 non-null   int32  \n",
      " 4   oem                  8369 non-null   object \n",
      " 5   model                8369 non-null   object \n",
      " 6   modelYear            8369 non-null   int64  \n",
      " 7   centralVariantId     8369 non-null   int64  \n",
      " 8   variantName          8369 non-null   object \n",
      " 9   price                8369 non-null   float64\n",
      " 10  car_links            8369 non-null   object \n",
      " 11  Top Feature 3        8369 non-null   object \n",
      " 12  Top Feature 4        8369 non-null   object \n",
      " 13  Top Feature 5        8369 non-null   object \n",
      " 14  Top Feature 6        8369 non-null   object \n",
      " 15  Top Feature 7        8369 non-null   object \n",
      " 16  Top Feature 8        8369 non-null   object \n",
      " 17  commonIcon           8369 non-null   object \n",
      " 18  Top Feature 9        8369 non-null   object \n",
      " 19  Insurance Validity   8369 non-null   object \n",
      " 20  Fuel Type            8369 non-null   object \n",
      " 21  Seats                8369 non-null   int64  \n",
      " 22  RTO                  8369 non-null   object \n",
      " 23  Transmission         8369 non-null   object \n",
      " 24  Mileage              8369 non-null   int32  \n",
      " 25  Engine               8369 non-null   int64  \n",
      " 26  Max Power            8369 non-null   float64\n",
      " 27  Torque               8369 non-null   float64\n",
      " 28  Color                8369 non-null   object \n",
      " 29  Engine Type          8369 non-null   object \n",
      " 30  No of Cylinder       8369 non-null   int64  \n",
      " 31  Values per Cylinder  8369 non-null   int64  \n",
      " 32  Value Configuration  8369 non-null   object \n",
      " 33  Fuel Suppy System    8369 non-null   object \n",
      " 34  Turbo Charger        8369 non-null   object \n",
      " 35  Super Charger        8369 non-null   object \n",
      " 36  Length               8369 non-null   int64  \n",
      " 37  Width                8369 non-null   int64  \n",
      " 38  Height               8369 non-null   int64  \n",
      " 39  Wheel Base           8369 non-null   int64  \n",
      " 40  Front Tread          8369 non-null   int64  \n",
      " 41  Rear Tread           8369 non-null   int64  \n",
      " 42  Kerb Weight          8369 non-null   float64\n",
      " 43  Gross Weight         8369 non-null   int64  \n",
      " 44  Gear Box             8369 non-null   int64  \n",
      " 45  Drive Type           8369 non-null   object \n",
      " 46  Steering Type        8369 non-null   object \n",
      " 47  Turning Radius       8369 non-null   float64\n",
      " 48  Front Brake Type     8369 non-null   object \n",
      " 49  Rear Brake Type      8369 non-null   object \n",
      " 50  Top Speed            8369 non-null   object \n",
      " 51  Acceleration         8369 non-null   float64\n",
      " 52  Tyre Type            8369 non-null   object \n",
      " 53  No Door Numbers      8369 non-null   int64  \n",
      " 54  Cargo Volumn         8369 non-null   int64  \n",
      " 55  Alloy Wheel Size     8369 non-null   object \n",
      " 56  city                 8369 non-null   object \n",
      " 57  color                8369 non-null   object \n",
      "dtypes: float64(6), int32(2), int64(18), object(32)\n",
      "memory usage: 3.6+ MB\n"
     ]
    }
   ],
   "source": [
    "df.info()"
   ]
  },
  {
   "cell_type": "code",
   "execution_count": 223,
   "metadata": {},
   "outputs": [
    {
     "data": {
      "text/plain": [
       "array(['Power', 'Hydraulic', 'Manual'], dtype=object)"
      ]
     },
     "execution_count": 223,
     "metadata": {},
     "output_type": "execute_result"
    }
   ],
   "source": [
    "df['Steering Type'].unique()"
   ]
  },
  {
   "cell_type": "code",
   "execution_count": 222,
   "metadata": {},
   "outputs": [],
   "source": [
    "df['Steering Type'] = df['Steering Type'].str.replace(\"Electronic\", \"Hydraulic\")"
   ]
  },
  {
   "cell_type": "code",
   "execution_count": 230,
   "metadata": {},
   "outputs": [
    {
     "data": {
      "text/plain": [
       "array(['Third Party', 'Comprehensive', 'Zero Dep', 'Not Available'],\n",
       "      dtype=object)"
      ]
     },
     "execution_count": 230,
     "metadata": {},
     "output_type": "execute_result"
    }
   ],
   "source": [
    "df['Insurance Validity'].unique()"
   ]
  },
  {
   "cell_type": "code",
   "execution_count": 229,
   "metadata": {},
   "outputs": [],
   "source": [
    "df['Insurance Validity'] = df['Insurance Validity'].str.replace(\"Third Party insurance\", \"Third Party\")"
   ]
  },
  {
   "cell_type": "code",
   "execution_count": 231,
   "metadata": {},
   "outputs": [],
   "source": [
    "df.to_csv('Car_dheko.csv',index=False)"
   ]
  }
 ],
 "metadata": {
  "kernelspec": {
   "display_name": "Python 3",
   "language": "python",
   "name": "python3"
  },
  "language_info": {
   "codemirror_mode": {
    "name": "ipython",
    "version": 3
   },
   "file_extension": ".py",
   "mimetype": "text/x-python",
   "name": "python",
   "nbconvert_exporter": "python",
   "pygments_lexer": "ipython3",
   "version": "3.12.4"
  }
 },
 "nbformat": 4,
 "nbformat_minor": 2
}
